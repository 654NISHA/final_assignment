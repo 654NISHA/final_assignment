{
  "nbformat": 4,
  "nbformat_minor": 0,
  "metadata": {
    "colab": {
      "provenance": []
    },
    "kernelspec": {
      "name": "python3",
      "display_name": "Python 3"
    },
    "language_info": {
      "name": "python"
    }
  },
  "cells": [
    {
      "cell_type": "code",
      "source": [
        "import numpy as np\n",
        "import seaborn as sns\n",
        "import pandas as pd\n",
        "import matplotlib.pyplot as plt\n",
        "import warnings\n",
        "warnings.filterwarnings('ignore')"
      ],
      "metadata": {
        "id": "VEqd1UmZZKvO"
      },
      "execution_count": 148,
      "outputs": []
    },
    {
      "cell_type": "markdown",
      "source": [
        "# Question 1.1: Write the Answer to these questions.\n",
        "1. Difference between static and dynamic variables in Python:\n",
        "\n",
        "Static Variable: A static variable is shared among all instances of a class. Defined inside a class but outside any instance methods.\n"
      ],
      "metadata": {
        "id": "FJ2MBnwvxUBP"
      }
    },
    {
      "cell_type": "code",
      "source": [
        "class example:\n",
        "  var = 10   # static variable"
      ],
      "metadata": {
        "id": "XTyyW0kVxTcG"
      },
      "execution_count": 149,
      "outputs": []
    },
    {
      "cell_type": "markdown",
      "source": [
        "Dynamic Variable: These are instance variables defined inside methods, and each object has its own copy."
      ],
      "metadata": {
        "id": "QdgBf8XAr2mW"
      }
    },
    {
      "cell_type": "code",
      "source": [
        "class example:\n",
        "  def __init__(self):\n",
        "    self.var = 20 # Dynamic variable"
      ],
      "metadata": {
        "id": "CJioHzbdr2NP"
      },
      "execution_count": 150,
      "outputs": []
    },
    {
      "cell_type": "markdown",
      "source": [
        "2. Purpose of \"pop\", \"popitem\", \"clear()\" in a dictionary:\n",
        "\n",
        "pop(): Removes the specified key and returns its value."
      ],
      "metadata": {
        "id": "9BaXkCRZsJJN"
      }
    },
    {
      "cell_type": "code",
      "source": [
        "lst = [1,2,3,4,5]\n",
        "lst.pop(1)"
      ],
      "metadata": {
        "colab": {
          "base_uri": "https://localhost:8080/"
        },
        "id": "6PDcSH0Vr2Km",
        "outputId": "e6aa148b-fe61-4c46-a432-a398eab23f22"
      },
      "execution_count": 151,
      "outputs": [
        {
          "output_type": "execute_result",
          "data": {
            "text/plain": [
              "2"
            ]
          },
          "metadata": {},
          "execution_count": 151
        }
      ]
    },
    {
      "cell_type": "markdown",
      "source": [
        "popitem(): Removes and returns the last inserted key-value pair."
      ],
      "metadata": {
        "id": "iwS57mocsY2i"
      }
    },
    {
      "cell_type": "code",
      "source": [
        "dic = {'a':1,'b':2,'c':3}\n",
        "dic.popitem()"
      ],
      "metadata": {
        "colab": {
          "base_uri": "https://localhost:8080/"
        },
        "id": "Htfy-oM6r2Hu",
        "outputId": "ee644f38-eba6-433e-b9ef-36544af1bc97"
      },
      "execution_count": 152,
      "outputs": [
        {
          "output_type": "execute_result",
          "data": {
            "text/plain": [
              "('c', 3)"
            ]
          },
          "metadata": {},
          "execution_count": 152
        }
      ]
    },
    {
      "cell_type": "markdown",
      "source": [
        "clear(): Removes all elements from the dictionary."
      ],
      "metadata": {
        "id": "CW7NMn7jstT9"
      }
    },
    {
      "cell_type": "code",
      "source": [
        "dic.clear()"
      ],
      "metadata": {
        "id": "9kNpV4Tdr2E8"
      },
      "execution_count": 153,
      "outputs": []
    },
    {
      "cell_type": "markdown",
      "source": [
        "3. FrozenSet: An immutable version of a Python set. Once created, elements cannot be added or removed."
      ],
      "metadata": {
        "id": "QXGhPq6cs1AZ"
      }
    },
    {
      "cell_type": "code",
      "source": [
        "my_frozen = frozenset([1,2,3,4,5])"
      ],
      "metadata": {
        "id": "y1HK8EU0r2B1"
      },
      "execution_count": 154,
      "outputs": []
    },
    {
      "cell_type": "markdown",
      "source": [
        "4. Mutable vs Immutable Data Types in Python:\n",
        "\n",
        "Mutable: Can be changed after creation (e.g., lists, dictionaries).\n",
        "Example: my_list = [1, 2, 3]; my_list[0] = 0\n",
        "\n",
        "Immutable: Cannot be changed after creation (e.g., strings, tuples).\n",
        "Example: my_tuple = (1, 2, 3); my_tuple[0] = 0 # Error"
      ],
      "metadata": {
        "id": "S_pNMwkttLXp"
      }
    },
    {
      "cell_type": "markdown",
      "source": [
        "5. `__init__` method: A special method in Python classes, called a constructor, that initializes new objects."
      ],
      "metadata": {
        "id": "Ocodz3YxtS2f"
      }
    },
    {
      "cell_type": "code",
      "source": [
        "class example:\n",
        "  def __init__(self, var):\n",
        "    self.var = 10\n",
        "\n",
        "obj = example(20)"
      ],
      "metadata": {
        "id": "xYALlpFsr1-X"
      },
      "execution_count": 155,
      "outputs": []
    },
    {
      "cell_type": "markdown",
      "source": [
        "6. Docstring in Python: A string literal used to document a module, function, class, or method."
      ],
      "metadata": {
        "id": "bUXd9TKNu2jQ"
      }
    },
    {
      "cell_type": "code",
      "source": [
        "def example():\n",
        "  ''' This is an example.'''\n",
        "  pass"
      ],
      "metadata": {
        "id": "0mLKWHz0r15H"
      },
      "execution_count": 156,
      "outputs": []
    },
    {
      "cell_type": "markdown",
      "source": [
        "7. Unit Tests in Python: Tests written to ensure that individual parts of a program (functions, classes) work as expected.\n",
        "\n",
        "\n"
      ],
      "metadata": {
        "id": "FGspqf3rvGSU"
      }
    },
    {
      "cell_type": "markdown",
      "source": [
        "8. Break, Continue, and Pass in Python:\n",
        "\n",
        "Break: Exits the loop completely.\n",
        "\n",
        "Continue: Skips the current iteration and moves to the next one.\n",
        "\n",
        "Pass: A null statement, does nothing. Useful as a placeholder."
      ],
      "metadata": {
        "id": "eB93j4eCvW2O"
      }
    },
    {
      "cell_type": "markdown",
      "source": [
        "9. Use of `self` in Python: Refers to the instance of the class. Used to access instance variables and methods."
      ],
      "metadata": {
        "id": "PHj5Hcvhwj4o"
      }
    },
    {
      "cell_type": "markdown",
      "source": [
        "10. Global, Protected, and Private Attributes in Python:\n",
        "\n",
        "Global: Accessible everywhere in the program.\n",
        "\n",
        "Protected: Indicated with a single underscore (_var), should not be accessed directly outside the class.\n",
        "\n",
        "Private: Indicated with double underscores (__var), not directly accessible outside the class."
      ],
      "metadata": {
        "id": "wUBHH0_cxLAC"
      }
    },
    {
      "cell_type": "code",
      "source": [
        "global_var = 10\n",
        "\n",
        "class MyClass:\n",
        "  def __init__(self, public_var, private_var, protected_var):\n",
        "    self.public_var = public_var\n",
        "    self._protected_var = private_var\n",
        "    self.__private_var = protected_var\n",
        "\n",
        "  def show_attributes(self):\n",
        "      print(\"Public attribute:\", self.public_var)\n",
        "      print(\"Protected attribute:\", self._protected_var)\n",
        "      print(\"Private attribute:\", self.__private_var)\n",
        "\n",
        "  def get_private_var(self):\n",
        "    return self.__private_var\n",
        "\n",
        "obj = MyClass(1,2,3)"
      ],
      "metadata": {
        "id": "qFgHBarlPA-b"
      },
      "execution_count": 157,
      "outputs": []
    },
    {
      "cell_type": "code",
      "source": [
        "obj.show_attributes()"
      ],
      "metadata": {
        "colab": {
          "base_uri": "https://localhost:8080/"
        },
        "id": "t2XxDY-0P8AK",
        "outputId": "b73070c7-2a66-4fb3-b4d8-7e5f4a28719a"
      },
      "execution_count": 158,
      "outputs": [
        {
          "output_type": "stream",
          "name": "stdout",
          "text": [
            "Public attribute: 1\n",
            "Protected attribute: 2\n",
            "Private attribute: 3\n"
          ]
        }
      ]
    },
    {
      "cell_type": "markdown",
      "source": [
        "11. Modules and Packages in Python:\n",
        "\n",
        "Modules: Single Python files containing code (e.g., functions, classes).\n",
        "\n",
        "Packages: Collections of modules grouped into a directory, often with an __init__.py file."
      ],
      "metadata": {
        "id": "ZCZTodmkxTzZ"
      }
    },
    {
      "cell_type": "markdown",
      "source": [
        "12. Lists and Tuples:\n",
        "\n",
        "List: Mutable, allows duplicates, defined using [].\n",
        "\n",
        "Tuple: Immutable, allows duplicates, defined using ()."
      ],
      "metadata": {
        "id": "8BVHvyqpxYYu"
      }
    },
    {
      "cell_type": "code",
      "source": [
        "print([1,2,3,4])  # list\n",
        "print((6,7,8))  # tuple"
      ],
      "metadata": {
        "colab": {
          "base_uri": "https://localhost:8080/"
        },
        "id": "9JnHV1ZyQ8kb",
        "outputId": "22dbcb2f-af91-4af8-d69d-3eeb64d3c523"
      },
      "execution_count": 159,
      "outputs": [
        {
          "output_type": "stream",
          "name": "stdout",
          "text": [
            "[1, 2, 3, 4]\n",
            "(6, 7, 8)\n"
          ]
        }
      ]
    },
    {
      "cell_type": "markdown",
      "source": [
        "13. Interpreted Language vs. Dynamically Typed Language:\n",
        "\n",
        "Interpreted language: Executes code line-by-line (e.g., Python).\n",
        "\n",
        "Dynamically typed: Variable types are determined at runtime."
      ],
      "metadata": {
        "id": "IIAgrPOsxd3U"
      }
    },
    {
      "cell_type": "markdown",
      "source": [
        "14. Dictionary and List Comprehensions:\n"
      ],
      "metadata": {
        "id": "kRWrhaZTxjpD"
      }
    },
    {
      "cell_type": "code",
      "source": [
        "#List Comprehension:\n",
        "print([x for x in range(5)])\n",
        "\n",
        "#Dictionary Comprehension:\n",
        "print({x: x**2 for x in range(5)})"
      ],
      "metadata": {
        "colab": {
          "base_uri": "https://localhost:8080/"
        },
        "id": "6pPH20GZu6pd",
        "outputId": "92ce22a3-36b4-4f6b-f08a-1ac1c37d5244"
      },
      "execution_count": 160,
      "outputs": [
        {
          "output_type": "stream",
          "name": "stdout",
          "text": [
            "[0, 1, 2, 3, 4]\n",
            "{0: 0, 1: 1, 2: 4, 3: 9, 4: 16}\n"
          ]
        }
      ]
    },
    {
      "cell_type": "markdown",
      "source": [
        "15. Decorators in Python: Functions that modify the behavior of other functions.\n",
        "\n",
        "Decorators in Python are a powerful tool that allows you to modify or extend the behavior of functions or methods without changing their actual code. Decorators are functions that wrap another function or method, adding some functionality before or after the wrapped function is executed.\n",
        "A decorator is itself a function that takes another function as an argument, and returns a new function that extends the behavior of the original one."
      ],
      "metadata": {
        "id": "_ukLM6_uyHEu"
      }
    },
    {
      "cell_type": "code",
      "source": [
        "def my_decorator(func):\n",
        "    def wrapper():\n",
        "        print(\"Something is happening before the function.\")\n",
        "        func()\n",
        "        print(\"Something is happening after the function.\")\n",
        "    return wrapper\n",
        "\n",
        "@my_decorator\n",
        "def say_hello():\n",
        "  print('Hello!')\n",
        "\n",
        "say_hello()"
      ],
      "metadata": {
        "id": "1Y63tQNOu6mx",
        "colab": {
          "base_uri": "https://localhost:8080/"
        },
        "outputId": "f6747128-b377-4cc5-fa4d-9294f9085075"
      },
      "execution_count": 161,
      "outputs": [
        {
          "output_type": "stream",
          "name": "stdout",
          "text": [
            "Something is happening before the function.\n",
            "Hello!\n",
            "Something is happening after the function.\n"
          ]
        }
      ]
    },
    {
      "cell_type": "markdown",
      "source": [
        "16. Memory Management in Python: Python uses reference counting and garbage collection to manage memory.\n",
        "- Reference Counting: Tracks how many references point to an object. When the count drops to zero, the memory is freed.\n",
        "- Garbage Collection: Handles circular references and cleans up unreachable objects.\n",
        "- Memory Allocation: Python’s internal memory manager and memory pools optimize memory allocation for small and large objects.\n",
        "- Specialized Allocators: Optimize performance for specific data structures like lists and dictionaries.\n",
        "- Tools: Modules like gc, memory_profiler, and tracemalloc can help monitor and manage memory."
      ],
      "metadata": {
        "id": "klF10NCiygWp"
      }
    },
    {
      "cell_type": "markdown",
      "source": [
        "17. Lambda in Python: A small anonymous function defined with the `lambda` keyword."
      ],
      "metadata": {
        "id": "YtTdMbOzyinF"
      }
    },
    {
      "cell_type": "code",
      "source": [
        "add = lambda x,y : x+y\n",
        "print(add(2,3))"
      ],
      "metadata": {
        "colab": {
          "base_uri": "https://localhost:8080/"
        },
        "id": "KbbBliTWu6kT",
        "outputId": "1bcd9fef-3e71-44a4-cd62-8dd7de3a6624"
      },
      "execution_count": 162,
      "outputs": [
        {
          "output_type": "stream",
          "name": "stdout",
          "text": [
            "5\n"
          ]
        }
      ]
    },
    {
      "cell_type": "markdown",
      "source": [
        "18. Split() and Join() Functions in Python:\n",
        "\n",
        "split(): Splits a string into a list based on a delimiter.\n"
      ],
      "metadata": {
        "id": "VPUEB30ny_CI"
      }
    },
    {
      "cell_type": "code",
      "source": [
        "string = 'Hello, world!'\n",
        "string.split()"
      ],
      "metadata": {
        "colab": {
          "base_uri": "https://localhost:8080/"
        },
        "id": "37YSFdTfu6hq",
        "outputId": "076169aa-3575-4ca0-f0ba-b480105a5cf8"
      },
      "execution_count": 163,
      "outputs": [
        {
          "output_type": "execute_result",
          "data": {
            "text/plain": [
              "['Hello,', 'world!']"
            ]
          },
          "metadata": {},
          "execution_count": 163
        }
      ]
    },
    {
      "cell_type": "markdown",
      "source": [
        "join(): Joins elements of a list into a string."
      ],
      "metadata": {
        "id": "LPTv--wDzYw9"
      }
    },
    {
      "cell_type": "code",
      "source": [
        "\" \".join(['Hello,', 'world!'])"
      ],
      "metadata": {
        "colab": {
          "base_uri": "https://localhost:8080/",
          "height": 36
        },
        "id": "u2wLjan8u6es",
        "outputId": "12f007f2-8d80-46de-be4a-c3904251a007"
      },
      "execution_count": 164,
      "outputs": [
        {
          "output_type": "execute_result",
          "data": {
            "text/plain": [
              "'Hello, world!'"
            ],
            "application/vnd.google.colaboratory.intrinsic+json": {
              "type": "string"
            }
          },
          "metadata": {},
          "execution_count": 164
        }
      ]
    },
    {
      "cell_type": "markdown",
      "source": [
        "19. Iterators, Iterable & Generators in Python:\n",
        "\n",
        "Iterable: An object capable of returning its members one at a time (e.g., lists, strings).\n",
        "\n",
        "Iterator: An object representing a stream of data, generated by iterables.\n",
        "\n",
        "Generator: A function that yields items one at a time, used to create iterators."
      ],
      "metadata": {
        "id": "n2_YNp2jzjfv"
      }
    },
    {
      "cell_type": "code",
      "source": [
        "# iterable using for loop/while loop\n",
        "my_list = [1, 2, 3, 4]\n",
        "for item in my_list:\n",
        "    print(item)"
      ],
      "metadata": {
        "colab": {
          "base_uri": "https://localhost:8080/"
        },
        "id": "3u7rZT4_U_1Z",
        "outputId": "402dcf91-f485-405c-e046-d38ed2c54755"
      },
      "execution_count": 165,
      "outputs": [
        {
          "output_type": "stream",
          "name": "stdout",
          "text": [
            "1\n",
            "2\n",
            "3\n",
            "4\n"
          ]
        }
      ]
    },
    {
      "cell_type": "code",
      "source": [
        "# iterator\n",
        "my_list = [1, 2, 3, 4]\n",
        "iterator = iter(my_list)\n",
        "\n",
        "print(next(iterator))\n",
        "print(next(iterator))\n",
        "print(next(iterator))\n",
        "print(next(iterator))\n"
      ],
      "metadata": {
        "colab": {
          "base_uri": "https://localhost:8080/"
        },
        "id": "Wyhb32CJVIJz",
        "outputId": "fb835ebe-a4e2-4c5c-e51c-f01a8a4d3c5a"
      },
      "execution_count": 166,
      "outputs": [
        {
          "output_type": "stream",
          "name": "stdout",
          "text": [
            "1\n",
            "2\n",
            "3\n",
            "4\n"
          ]
        }
      ]
    },
    {
      "cell_type": "code",
      "source": [
        "# Generator\n",
        "def my_generator():\n",
        "    yield 1\n",
        "    yield 2\n",
        "    yield 3\n",
        "    yield 4\n",
        "\n",
        "gen = my_generator()\n",
        "\n",
        "print(next(gen))\n",
        "print(next(gen))\n",
        "print(next(gen))\n",
        "print(next(gen))\n"
      ],
      "metadata": {
        "colab": {
          "base_uri": "https://localhost:8080/"
        },
        "id": "FO55i7bVVXvl",
        "outputId": "10f02031-9909-4c33-ea54-8bd8bbbe6940"
      },
      "execution_count": 167,
      "outputs": [
        {
          "output_type": "stream",
          "name": "stdout",
          "text": [
            "1\n",
            "2\n",
            "3\n",
            "4\n"
          ]
        }
      ]
    },
    {
      "cell_type": "markdown",
      "source": [
        "20. Difference Between xrange and range in Python:\n",
        "\n",
        "range: Returns a list (Python 2) or an iterator (Python 3).\n",
        "\n",
        "xrange: Returns an iterator (Python 2 only)"
      ],
      "metadata": {
        "id": "In4MANJuzs6p"
      }
    },
    {
      "cell_type": "markdown",
      "source": [
        "21. Pillars of OOP:\n",
        "\n",
        "Encapsulation, Inheritance, Polymorphism, Abstraction."
      ],
      "metadata": {
        "id": "S-nN9QTiz1OZ"
      }
    },
    {
      "cell_type": "markdown",
      "source": [
        "22. Check if a Class is a Child of Another Class:"
      ],
      "metadata": {
        "id": "a6T3tQvxz7yL"
      }
    },
    {
      "cell_type": "code",
      "source": [
        "class Parent:\n",
        "    pass\n",
        "\n",
        "class Child(Parent):\n",
        "    pass"
      ],
      "metadata": {
        "id": "b3DB5imL0Gx6"
      },
      "execution_count": 168,
      "outputs": []
    },
    {
      "cell_type": "code",
      "source": [
        "issubclass(Child, Parent)"
      ],
      "metadata": {
        "colab": {
          "base_uri": "https://localhost:8080/"
        },
        "id": "4KWOaIdJ0LeP",
        "outputId": "d783d086-4cd5-4139-8f37-42d25b44c0ac"
      },
      "execution_count": 169,
      "outputs": [
        {
          "output_type": "execute_result",
          "data": {
            "text/plain": [
              "True"
            ]
          },
          "metadata": {},
          "execution_count": 169
        }
      ]
    },
    {
      "cell_type": "markdown",
      "source": [
        "23. Inheritance in Python:\n",
        "\n",
        "Single Inheritance: One child class inherits from one parent class.\n",
        "\n",
        "Multiple Inheritance: One child class inherits from multiple parent classes.\n",
        "\n",
        "Multilevel Inheritance: A child class becomes a parent class for another child class.\n",
        "\n",
        "Hierarchical Inheritance: Multiple child classes inherit from a single parent class.\n",
        "\n",
        "Hybrid Inheritance: Combination of two or more types of inheritance."
      ],
      "metadata": {
        "id": "MFfB2KG90AVl"
      }
    },
    {
      "cell_type": "markdown",
      "source": [
        "Single Inheritance:\n",
        "In single inheritance, a class inherits from only one parent class. This is the simplest form of inheritance."
      ],
      "metadata": {
        "id": "Jue4ZiacV6dG"
      }
    },
    {
      "cell_type": "code",
      "source": [
        "class Animal:\n",
        "    def sound(self):\n",
        "        return \"Some sound\"\n",
        "\n",
        "class Dog(Animal):\n",
        "    def bark(self):\n",
        "        return \"Woof!\"\n",
        "\n",
        "dog = Dog()\n",
        "print(dog.sound())\n",
        "print(dog.bark())\n"
      ],
      "metadata": {
        "colab": {
          "base_uri": "https://localhost:8080/"
        },
        "id": "CEzUuIfBV8f9",
        "outputId": "ef018a74-bd0f-4399-e94e-41a7ea34ce4e"
      },
      "execution_count": 170,
      "outputs": [
        {
          "output_type": "stream",
          "name": "stdout",
          "text": [
            "Some sound\n",
            "Woof!\n"
          ]
        }
      ]
    },
    {
      "cell_type": "markdown",
      "source": [
        "Multiple Inheritance:\n",
        "In multiple inheritance, a class can inherit from more than one parent class. This allows the child class to access attributes and methods from all parent classes."
      ],
      "metadata": {
        "id": "eOGPz-sOWAd7"
      }
    },
    {
      "cell_type": "code",
      "source": [
        "class Animal:\n",
        "    def sound(self):\n",
        "        return \"Some sound\"\n",
        "\n",
        "class Bird:\n",
        "    def fly(self):\n",
        "        return \"Flies in the sky\"\n",
        "\n",
        "class Parrot(Animal, Bird):\n",
        "    def talk(self):\n",
        "        return \"Talks!\"\n",
        "\n",
        "parrot = Parrot()\n",
        "print(parrot.sound())\n",
        "print(parrot.fly())\n",
        "print(parrot.talk())\n"
      ],
      "metadata": {
        "colab": {
          "base_uri": "https://localhost:8080/"
        },
        "id": "bpQX7rTcWES-",
        "outputId": "07bb6653-4ba7-4320-804b-460c2d48974a"
      },
      "execution_count": 171,
      "outputs": [
        {
          "output_type": "stream",
          "name": "stdout",
          "text": [
            "Some sound\n",
            "Flies in the sky\n",
            "Talks!\n"
          ]
        }
      ]
    },
    {
      "cell_type": "markdown",
      "source": [
        "Multilevel Inheritance:\n",
        "In multilevel inheritance, a class inherits from a parent class, and another class inherits from that child class. This forms a chain of inheritance."
      ],
      "metadata": {
        "id": "CDmbkOFjWJMP"
      }
    },
    {
      "cell_type": "code",
      "source": [
        "class Animal:\n",
        "    def sound(self):\n",
        "        return \"Some sound\"\n",
        "\n",
        "class Mammal(Animal):\n",
        "    def has_fur(self):\n",
        "        return \"Has fur\"\n",
        "\n",
        "class Dog(Mammal):\n",
        "    def bark(self):\n",
        "        return \"Woof!\"\n",
        "\n",
        "dog = Dog()\n",
        "print(dog.sound())\n",
        "print(dog.has_fur())\n",
        "print(dog.bark())\n"
      ],
      "metadata": {
        "colab": {
          "base_uri": "https://localhost:8080/"
        },
        "id": "CwDaUo-eWQxb",
        "outputId": "106a1211-805d-4754-94ab-79ea3ec419d1"
      },
      "execution_count": 172,
      "outputs": [
        {
          "output_type": "stream",
          "name": "stdout",
          "text": [
            "Some sound\n",
            "Has fur\n",
            "Woof!\n"
          ]
        }
      ]
    },
    {
      "cell_type": "markdown",
      "source": [
        "Hierarchical Inheritance:\n",
        "In hierarchical inheritance, multiple child classes inherit from the same parent class. This allows the parent class to be used as a base for several child classes."
      ],
      "metadata": {
        "id": "cdTV1fdgWXY9"
      }
    },
    {
      "cell_type": "code",
      "source": [
        "class Animal:\n",
        "    def sound(self):\n",
        "        return \"Some sound\"\n",
        "\n",
        "class Dog(Animal):\n",
        "    def bark(self):\n",
        "        return \"Woof!\"\n",
        "\n",
        "class Cat(Animal):\n",
        "    def meow(self):\n",
        "        return \"Meow!\"\n",
        "\n",
        "dog = Dog()\n",
        "cat = Cat()\n",
        "\n",
        "print(dog.sound())\n",
        "print(dog.bark())\n",
        "print(cat.sound())\n",
        "print(cat.meow())\n"
      ],
      "metadata": {
        "colab": {
          "base_uri": "https://localhost:8080/"
        },
        "id": "Hhiqj8SHWfDD",
        "outputId": "002e4156-ee0a-49d7-dadd-3daa7179c7f8"
      },
      "execution_count": 173,
      "outputs": [
        {
          "output_type": "stream",
          "name": "stdout",
          "text": [
            "Some sound\n",
            "Woof!\n",
            "Some sound\n",
            "Meow!\n"
          ]
        }
      ]
    },
    {
      "cell_type": "markdown",
      "source": [
        "Hybrid Inheritance:\n",
        "Hybrid inheritance is a combination of two or more types of inheritance. Python uses a C3 linearization algorithm (method resolution order, MRO) to determine the order in which methods should be inherited in cases of hybrid inheritance."
      ],
      "metadata": {
        "id": "ewD03wgeWnaX"
      }
    },
    {
      "cell_type": "code",
      "source": [
        "class Animal:\n",
        "    def sound(self):\n",
        "        return \"Some sound\"\n",
        "\n",
        "class Mammal(Animal):\n",
        "    def has_fur(self):\n",
        "        return \"Has fur\"\n",
        "\n",
        "class Bird(Animal):\n",
        "    def fly(self):\n",
        "        return \"Flies in the sky\"\n",
        "\n",
        "class Bat(Mammal, Bird):\n",
        "    def echolocate(self):\n",
        "        return \"Uses echolocation\"\n",
        "\n",
        "bat = Bat()\n",
        "print(bat.sound())\n",
        "print(bat.has_fur())\n",
        "print(bat.fly())\n",
        "print(bat.echolocate())\n"
      ],
      "metadata": {
        "colab": {
          "base_uri": "https://localhost:8080/"
        },
        "id": "3lt8RjWVWo3-",
        "outputId": "c445714c-4946-4f77-f8df-a44d8053abff"
      },
      "execution_count": 174,
      "outputs": [
        {
          "output_type": "stream",
          "name": "stdout",
          "text": [
            "Some sound\n",
            "Has fur\n",
            "Flies in the sky\n",
            "Uses echolocation\n"
          ]
        }
      ]
    },
    {
      "cell_type": "markdown",
      "source": [
        "25. Polymorphism: Ability of different objects to be treated as instances of the same class through a common interface."
      ],
      "metadata": {
        "id": "Gy447D-t0rFx"
      }
    },
    {
      "cell_type": "code",
      "source": [
        "class Bird:\n",
        "    def fly(self):\n",
        "        print(\"Flying\")\n",
        "\n",
        "class Sparrow(Bird):\n",
        "    def fly(self):\n",
        "        print(\"Flying at a lower height\")\n",
        "\n",
        "class Eagle(Bird):\n",
        "    def fly(self):\n",
        "        print(\"Flying at a great height\")\n"
      ],
      "metadata": {
        "id": "sZYQA4mbz0wX"
      },
      "execution_count": 175,
      "outputs": []
    },
    {
      "cell_type": "markdown",
      "source": [
        "# Question 1.2\n",
        "Valid Identifier Names:\n",
        "\n",
        "a) Serial_no.\n",
        "\n",
        "Invalid Identifier Names:\n",
        "\n",
        "b) 1st_Room: Cannot start with a digit.\n",
        "\n",
        "c) Hundred$: Contains a special character `$`.\n",
        "\n",
        "e) total-Marks: Contains a hyphen `-`.\n",
        "\n",
        "f) Total Marks: Contains a space.\n",
        "\n",
        "g) True: It is a reserved keyword in Python."
      ],
      "metadata": {
        "id": "mDcya4V301ga"
      }
    },
    {
      "cell_type": "markdown",
      "source": [
        "# Question 1.3\n",
        "List Operations:"
      ],
      "metadata": {
        "id": "jv3XO1zT1eDI"
      }
    },
    {
      "cell_type": "code",
      "source": [
        "name = [\"Bapuji\", \"dash\", \"karam\", \"chandra\", \"gandi\", \"Mohan\"]"
      ],
      "metadata": {
        "id": "TWBGhhuYz0ts"
      },
      "execution_count": 176,
      "outputs": []
    },
    {
      "cell_type": "markdown",
      "source": [
        "a) Add \"freedom_fighter\" at the 0th index:"
      ],
      "metadata": {
        "id": "_s7F3_c_1vjD"
      }
    },
    {
      "cell_type": "code",
      "source": [
        "name.insert(0, \"freedom_fighter\")\n",
        "name"
      ],
      "metadata": {
        "colab": {
          "base_uri": "https://localhost:8080/"
        },
        "id": "9k3C46wez0qz",
        "outputId": "f9e9a6b0-5bc1-43a8-9aef-0ee376817c57"
      },
      "execution_count": 177,
      "outputs": [
        {
          "output_type": "execute_result",
          "data": {
            "text/plain": [
              "['freedom_fighter', 'Bapuji', 'dash', 'karam', 'chandra', 'gandi', 'Mohan']"
            ]
          },
          "metadata": {},
          "execution_count": 177
        }
      ]
    },
    {
      "cell_type": "markdown",
      "source": [
        "b) find the output of the following ,and explain how?"
      ],
      "metadata": {
        "id": "fVjxo0pu1_Ro"
      }
    },
    {
      "cell_type": "code",
      "source": [
        "name = [\"freedomFighter\",\"Bapuji\",\"MOhan\" \"dash\", \"karam\", \"chandra\",\"gandhi\"]\n",
        "\n",
        "length1=len((name[-len(name)+1:-1:2]))\n",
        "\n",
        "length2=len((name[-len(name)+1:-1]))\n",
        "\n",
        "print(length1+length2)"
      ],
      "metadata": {
        "colab": {
          "base_uri": "https://localhost:8080/"
        },
        "id": "I4-a6Rrxu6b3",
        "outputId": "068f8cf4-4f3b-4ef5-a964-84aaf2c03e95"
      },
      "execution_count": 178,
      "outputs": [
        {
          "output_type": "stream",
          "name": "stdout",
          "text": [
            "6\n"
          ]
        }
      ]
    },
    {
      "cell_type": "markdown",
      "source": [
        "The length of the list name is 6. So, -len(name) equals -6.\n",
        "-len(name) + 1 is -5, which is the index of the second element in the list (\"Bapuji\").\n",
        "-1 is the index of the second-to-last element in the list (\"chandra\").\n",
        "2 is the step, which means every second element will be picked between the start and end indices.\n",
        "The slice name[-5:-1:2] picks elements starting from index -5 to -1, taking every second element:\n",
        "Index -5: \"Bapuji\"\n",
        "Index -3: \"karam\"\n",
        "The slice results in ['Bapuji', 'karam'].\n",
        "length1 = len(['Bapuji', 'karam']) which is 2.\n"
      ],
      "metadata": {
        "id": "s2b0ZJHd2osx"
      }
    },
    {
      "cell_type": "markdown",
      "source": [
        "The slice name[-len(name) + 1:-1] is name[-5:-1], which picks elements starting from index -5 (second element) to -1 (second-to-last element).\n",
        "This slice includes all elements between these indices:\n",
        "Index -5: \"Bapuji\"\n",
        "Index -4: \"MOhandash\"\n",
        "Index -3: \"karam\"\n",
        "Index -2: \"chandra\"\n",
        "The slice results in ['Bapuji', 'MOhandash', 'karam', 'chandra'].\n",
        "length2 = len(['Bapuji', 'MOhandash', 'karam', 'chandra']) which is 4."
      ],
      "metadata": {
        "id": "Io0p0bCj2vgF"
      }
    },
    {
      "cell_type": "markdown",
      "source": [
        "c) Add two more elements at the end:"
      ],
      "metadata": {
        "id": "Uq-sPn8J21s9"
      }
    },
    {
      "cell_type": "code",
      "source": [
        "name.extend([\"NetaJi\", \"Bose\"])\n",
        "name"
      ],
      "metadata": {
        "colab": {
          "base_uri": "https://localhost:8080/"
        },
        "id": "EH95YIeX2y7t",
        "outputId": "9b8e8b60-3b31-426e-c150-3bb487a332d5"
      },
      "execution_count": 179,
      "outputs": [
        {
          "output_type": "execute_result",
          "data": {
            "text/plain": [
              "['freedomFighter',\n",
              " 'Bapuji',\n",
              " 'MOhandash',\n",
              " 'karam',\n",
              " 'chandra',\n",
              " 'gandhi',\n",
              " 'NetaJi',\n",
              " 'Bose']"
            ]
          },
          "metadata": {},
          "execution_count": 179
        }
      ]
    },
    {
      "cell_type": "markdown",
      "source": [
        "d) Swap the first and last elements:"
      ],
      "metadata": {
        "id": "BD_Ma_8k3Ag1"
      }
    },
    {
      "cell_type": "code",
      "source": [
        "name = [\"Bapuji\", \"dash\", \"karam\", \"chandra\", \"gandi\", \"Mohan\"]\n",
        "temp = name[-1]\n",
        "name[-1] = name[0]\n",
        "name[0] = temp\n",
        "print(name)  # Output: ['Mohan', 'dash', 'karam', 'chandra', 'gandi', 'Bapuji']\n"
      ],
      "metadata": {
        "colab": {
          "base_uri": "https://localhost:8080/"
        },
        "id": "5pFeZVJW2y5J",
        "outputId": "805d6643-b64c-47ad-d5c0-75fd535460ad"
      },
      "execution_count": 180,
      "outputs": [
        {
          "output_type": "stream",
          "name": "stdout",
          "text": [
            "['Mohan', 'dash', 'karam', 'chandra', 'gandi', 'Bapuji']\n"
          ]
        }
      ]
    },
    {
      "cell_type": "markdown",
      "source": [
        "# Question 1.4.Find the output of the following."
      ],
      "metadata": {
        "id": "RyHrv-ho3MXy"
      }
    },
    {
      "cell_type": "code",
      "source": [
        "animal = ['Human','cat','mat','cat','rat','Human', 'Lion']\n",
        "print(animal.count('Human'))\n",
        "print(animal.index('rat'))\n",
        "print(len(animal))"
      ],
      "metadata": {
        "colab": {
          "base_uri": "https://localhost:8080/"
        },
        "id": "VZaY_suR2y2i",
        "outputId": "f701bc68-34c8-4963-afda-d748efdaf800"
      },
      "execution_count": 181,
      "outputs": [
        {
          "output_type": "stream",
          "name": "stdout",
          "text": [
            "2\n",
            "4\n",
            "7\n"
          ]
        }
      ]
    },
    {
      "cell_type": "markdown",
      "source": [
        "# Question 1.5."
      ],
      "metadata": {
        "id": "sOEkk0X33Wsc"
      }
    },
    {
      "cell_type": "code",
      "source": [
        "tuple1 = (10, 20, \"Apple\", 3.4, 'a', [\"master\", \"ji\"], (\"sita\", \"geeta\", 22), [{\"roll_no\": 1}, {\"name\": \"Navneet\"}])\n"
      ],
      "metadata": {
        "id": "Yyt0LGZa2yur"
      },
      "execution_count": 182,
      "outputs": []
    },
    {
      "cell_type": "code",
      "source": [
        "print(len(tuple1))\n",
        "print(tuple1[-1][-1][\"name\"])"
      ],
      "metadata": {
        "colab": {
          "base_uri": "https://localhost:8080/"
        },
        "id": "U-uLOSJvr112",
        "outputId": "ad6d2770-4784-4dc5-c544-6fa1e11059b3"
      },
      "execution_count": 183,
      "outputs": [
        {
          "output_type": "stream",
          "name": "stdout",
          "text": [
            "8\n",
            "Navneet\n"
          ]
        }
      ]
    },
    {
      "cell_type": "markdown",
      "source": [
        "c) fetch the value of roll_no from this tuple."
      ],
      "metadata": {
        "id": "6BBz5OCUW8qQ"
      }
    },
    {
      "cell_type": "code",
      "source": [
        "tuple1[-1][0]['roll_no']"
      ],
      "metadata": {
        "colab": {
          "base_uri": "https://localhost:8080/"
        },
        "id": "V59Mc86aW7wY",
        "outputId": "d433ac2e-1897-426c-8d03-2ae8330cf54c"
      },
      "execution_count": 184,
      "outputs": [
        {
          "output_type": "execute_result",
          "data": {
            "text/plain": [
              "1"
            ]
          },
          "metadata": {},
          "execution_count": 184
        }
      ]
    },
    {
      "cell_type": "code",
      "source": [
        "print(tuple1[-3][1])"
      ],
      "metadata": {
        "colab": {
          "base_uri": "https://localhost:8080/"
        },
        "id": "lzFWcoQNXpfD",
        "outputId": "a173080d-2161-4243-b5aa-da887db688c8"
      },
      "execution_count": 185,
      "outputs": [
        {
          "output_type": "stream",
          "name": "stdout",
          "text": [
            "ji\n"
          ]
        }
      ]
    },
    {
      "cell_type": "markdown",
      "source": [
        "e) fetch the element \"22\" from this tuple."
      ],
      "metadata": {
        "id": "OEu5K5glXwQP"
      }
    },
    {
      "cell_type": "code",
      "source": [
        "print(tuple1[-2][2])"
      ],
      "metadata": {
        "colab": {
          "base_uri": "https://localhost:8080/"
        },
        "id": "JHFLIl4GXzO8",
        "outputId": "f24d6d88-9dc4-44f2-b117-75c98c7aa6dd"
      },
      "execution_count": 186,
      "outputs": [
        {
          "output_type": "stream",
          "name": "stdout",
          "text": [
            "22\n"
          ]
        }
      ]
    },
    {
      "cell_type": "markdown",
      "source": [
        "#Question 1.6 Program for Traffic Signal Message: Displays appropriate messages based on the color of the signal."
      ],
      "metadata": {
        "id": "JPI-_v6t5baR"
      }
    },
    {
      "cell_type": "code",
      "source": [
        "signal = input(\"Enter the signal color (RED/YELLOW/GREEN): \").lower()\n",
        "\n",
        "if signal == 'red':\n",
        "    print(\"Stop\")\n",
        "elif signal == 'yellow':\n",
        "    print(\"Stay\")\n",
        "elif signal == 'green':\n",
        "    print(\"Go\")\n",
        "else:\n",
        "    print(\"Invalid signal color\")\n"
      ],
      "metadata": {
        "colab": {
          "base_uri": "https://localhost:8080/"
        },
        "id": "wWRdDYQ_4fxS",
        "outputId": "c8048bc6-7ad9-4468-957d-c270ade261af"
      },
      "execution_count": 187,
      "outputs": [
        {
          "output_type": "stream",
          "name": "stdout",
          "text": [
            "Enter the signal color (RED/YELLOW/GREEN): RED\n",
            "Stop\n"
          ]
        }
      ]
    },
    {
      "cell_type": "markdown",
      "source": [
        "# Question 1.7 Program for a Simple Calculator: Performs basic arithmetic operations: addition, subtraction, multiplication, and division."
      ],
      "metadata": {
        "id": "NsgIhltM5uH7"
      }
    },
    {
      "cell_type": "code",
      "source": [
        "def calculator():\n",
        "    print(\"Select operation:\")\n",
        "    print(\"1. Addition\")\n",
        "    print(\"2. Subtraction\")\n",
        "    print(\"3. Multiplication\")\n",
        "    print(\"4. Division\")\n",
        "\n",
        "    choice = input(\"Enter choice (1/2/3/4): \")\n",
        "\n",
        "    if choice in ['1', '2', '3', '4']:\n",
        "        num1 = float(input(\"Enter first number: \"))\n",
        "        num2 = float(input(\"Enter second number: \"))\n",
        "\n",
        "        if choice == '1':\n",
        "            print(f\"{num1} + {num2} = {num1 + num2}\")\n",
        "        elif choice == '2':\n",
        "            print(f\"{num1} - {num2} = {num1 - num2}\")\n",
        "        elif choice == '3':\n",
        "            print(f\"{num1} * {num2} = {num1 * num2}\")\n",
        "        elif choice == '4':\n",
        "            if num2 != 0:\n",
        "                print(f\"{num1} / {num2} = {num1 / num2}\")\n",
        "            else:\n",
        "                print(\"Cannot divide by zero\")\n",
        "    else:\n",
        "        print(\"Invalid input\")\n",
        "\n",
        "calculator()\n"
      ],
      "metadata": {
        "colab": {
          "base_uri": "https://localhost:8080/"
        },
        "id": "7rWlp72U4fvd",
        "outputId": "e532be72-f983-47dc-fba2-8f6a1c24423b"
      },
      "execution_count": 188,
      "outputs": [
        {
          "output_type": "stream",
          "name": "stdout",
          "text": [
            "Select operation:\n",
            "1. Addition\n",
            "2. Subtraction\n",
            "3. Multiplication\n",
            "4. Division\n",
            "Enter choice (1/2/3/4): 3\n",
            "Enter first number: 2\n",
            "Enter second number: 5\n",
            "2.0 * 5.0 = 10.0\n"
          ]
        }
      ]
    },
    {
      "cell_type": "markdown",
      "source": [
        "# Question 1.8 Program to Find the Largest of Three Numbers Using Ternary Operator:"
      ],
      "metadata": {
        "id": "vZm3Ehhq52_0"
      }
    },
    {
      "cell_type": "code",
      "source": [
        "a, b, c = 10, 20, 15\n",
        "largest = a if (a > b and a > c) else (b if b > c else c)\n",
        "print(f\"Largest number is: {largest}\")\n"
      ],
      "metadata": {
        "colab": {
          "base_uri": "https://localhost:8080/"
        },
        "id": "hBlUWyQF4ftv",
        "outputId": "9c5cb0d9-a660-418b-bcb8-e58a563b0512"
      },
      "execution_count": 189,
      "outputs": [
        {
          "output_type": "stream",
          "name": "stdout",
          "text": [
            "Largest number is: 20\n"
          ]
        }
      ]
    },
    {
      "cell_type": "markdown",
      "source": [
        "# Question 1.9 Program to Find the Factors of a Number Using While Loop:"
      ],
      "metadata": {
        "id": "YaqN38fB6AW2"
      }
    },
    {
      "cell_type": "code",
      "source": [
        "num = int(input(\"Enter a number: \"))\n",
        "i = 1\n",
        "print(f\"Factors of {num} are: \")\n",
        "while i <= num:\n",
        "    if num % i == 0:\n",
        "        print(i)\n",
        "    i += 1\n"
      ],
      "metadata": {
        "colab": {
          "base_uri": "https://localhost:8080/"
        },
        "id": "2boehBsF4frz",
        "outputId": "9ac6cfb7-74fc-418c-cb98-ef0a283dddb2"
      },
      "execution_count": 190,
      "outputs": [
        {
          "output_type": "stream",
          "name": "stdout",
          "text": [
            "Enter a number: 8\n",
            "Factors of 8 are: \n",
            "1\n",
            "2\n",
            "4\n",
            "8\n"
          ]
        }
      ]
    },
    {
      "cell_type": "markdown",
      "source": [
        "# Question 1.10 Program to Find the Sum of Positive Numbers Until a Negative Number is Entered:"
      ],
      "metadata": {
        "id": "GHfbfulx6I7Q"
      }
    },
    {
      "cell_type": "code",
      "source": [
        "total = 0\n",
        "while True:\n",
        "    number = int(input(\"Enter a number: \"))\n",
        "    if number < 0:\n",
        "        break\n",
        "    total += number\n",
        "print(f\"Sum of positive numbers: {total}\")\n"
      ],
      "metadata": {
        "colab": {
          "base_uri": "https://localhost:8080/"
        },
        "id": "6Mak8AuP4fpL",
        "outputId": "55f77154-3504-474f-a405-89e8fdad7c6e"
      },
      "execution_count": 191,
      "outputs": [
        {
          "output_type": "stream",
          "name": "stdout",
          "text": [
            "Enter a number: 5\n",
            "Enter a number: 3\n",
            "Enter a number: -1\n",
            "Sum of positive numbers: 8\n"
          ]
        }
      ]
    },
    {
      "cell_type": "markdown",
      "source": [
        "# Question 1.11 Program to Find Prime Numbers Between 2 to 100 Using Nested For Loops:"
      ],
      "metadata": {
        "id": "KHcrbWj16VVh"
      }
    },
    {
      "cell_type": "code",
      "source": [
        "for num in range(2, 101):\n",
        "    is_prime = True\n",
        "    for i in range(2, int(num**0.5) + 1):\n",
        "        if num % i == 0:\n",
        "            is_prime = False\n",
        "            break\n",
        "    if is_prime:\n",
        "        print(num, end=' ')\n"
      ],
      "metadata": {
        "colab": {
          "base_uri": "https://localhost:8080/"
        },
        "id": "89G7UnH44flk",
        "outputId": "8ea4f6fe-2745-4b3b-8781-d8932c8cd398"
      },
      "execution_count": 192,
      "outputs": [
        {
          "output_type": "stream",
          "name": "stdout",
          "text": [
            "2 3 5 7 11 13 17 19 23 29 31 37 41 43 47 53 59 61 67 71 73 79 83 89 97 "
          ]
        }
      ]
    },
    {
      "cell_type": "markdown",
      "source": [
        "# Question 1.12.   Write the  programs for the following:\n",
        "\n",
        "1. Accept Marks and Display:\n",
        "2. Calculate Sum and Percentage:\n",
        "3. Find Grade Using Match Case:"
      ],
      "metadata": {
        "id": "XE9sn9rh99c6"
      }
    },
    {
      "cell_type": "code",
      "source": [
        "marks = []\n",
        "for i in range(5):\n",
        "    marks.append(int(input(f\"Enter marks for subject {i+1}: \")))\n",
        "\n",
        "print(f\"Marks of the student: {marks}\")\n",
        "\n",
        "total = sum(marks)\n",
        "percentage = total / 5\n",
        "print(f\"Total Marks: {total}\")\n",
        "print(f\"Percentage: {percentage}%\")\n",
        "\n",
        "match percentage:\n",
        "    case p if p >= 90:\n",
        "        grade = 'A'\n",
        "    case p if p >= 80:\n",
        "        grade = 'B'\n",
        "    case p if p >= 70:\n",
        "        grade = 'C'\n",
        "    case p if p >= 60:\n",
        "        grade = 'D'\n",
        "    case p if p >= 50:\n",
        "        grade = 'E'\n",
        "    case _:\n",
        "        grade = 'F'\n",
        "\n",
        "print(f\"Grade: {grade}\")\n"
      ],
      "metadata": {
        "colab": {
          "base_uri": "https://localhost:8080/"
        },
        "id": "ojneO8QH4fi-",
        "outputId": "900812f6-e02e-496b-a617-acedbd3dd3e8"
      },
      "execution_count": 193,
      "outputs": [
        {
          "output_type": "stream",
          "name": "stdout",
          "text": [
            "Enter marks for subject 1: 87\n",
            "Enter marks for subject 2: 76\n",
            "Enter marks for subject 3: 97\n",
            "Enter marks for subject 4: 77\n",
            "Enter marks for subject 5: 56\n",
            "Marks of the student: [87, 76, 97, 77, 56]\n",
            "Total Marks: 393\n",
            "Percentage: 78.6%\n",
            "Grade: C\n"
          ]
        }
      ]
    },
    {
      "cell_type": "markdown",
      "source": [
        "#Question 1.13 Program for VIBGYOR Spectrum Based on Wavelength:"
      ],
      "metadata": {
        "id": "qQ8kUrhQ-oQG"
      }
    },
    {
      "cell_type": "code",
      "source": [
        "wavelength = float(input(\"Enter wavelength in nm: \"))\n",
        "\n",
        "if 380 <= wavelength < 450:\n",
        "    print(\"Violet\")\n",
        "elif 450 <= wavelength < 495:\n",
        "    print(\"Blue\")\n",
        "elif 495 <= wavelength < 570:\n",
        "    print(\"Green\")\n",
        "elif 570 <= wavelength < 590:\n",
        "    print(\"Yellow\")\n",
        "elif 590 <= wavelength < 620:\n",
        "    print(\"Orange\")\n",
        "elif 620 <= wavelength <= 750:\n",
        "    print(\"Red\")\n",
        "else:\n",
        "    print(\"Wavelength out of visible range\")\n"
      ],
      "metadata": {
        "colab": {
          "base_uri": "https://localhost:8080/"
        },
        "id": "il4kS3AY-uKj",
        "outputId": "14158909-ca4b-4887-bcb5-d36c872b7798"
      },
      "execution_count": 194,
      "outputs": [
        {
          "output_type": "stream",
          "name": "stdout",
          "text": [
            "Enter wavelength in nm: 1000\n",
            "Wavelength out of visible range\n"
          ]
        }
      ]
    },
    {
      "cell_type": "markdown",
      "source": [
        "# Question 1.14\n",
        "Calculate Gravitational Forces:\n",
        "\n",
        "1. Gravitational Force Between Earth and Sun:\n",
        "2. Gravitational Force Between Moon and Earth:\n",
        "3. Comparison of Forces:\n",
        "4. Celestial Body Attraction:"
      ],
      "metadata": {
        "id": "KjDy--PV-yb2"
      }
    },
    {
      "cell_type": "code",
      "source": [
        "mass_earth = 5.972e24  # Mass of Earth in kilograms\n",
        "mass_sun = 1.989e30  # Mass of Sun in kilograms\n",
        "distance_earth_sun = 1.496e11  # Distance between Earth and Sun in meters\n",
        "G = 6.67430e-11  # Gravitational constant in N(m^2/kg^2)\n",
        "\n",
        "force_earth_sun = G * (mass_earth * mass_sun) / (distance_earth_sun ** 2)\n",
        "print(f\"Gravitational force between Earth and Sun: {force_earth_sun} N\")\n",
        "\n",
        "mass_moon = 7.34767309e22  # Mass of Moon in kilograms\n",
        "distance_moon_earth = 3.844e8  # Distance between Moon and Earth in meters\n",
        "\n",
        "force_moon_earth = G * (mass_earth * mass_moon) / (distance_moon_earth ** 2)\n",
        "print(f\"Gravitational force between Moon and Earth: {force_moon_earth} N\")\n"
      ],
      "metadata": {
        "colab": {
          "base_uri": "https://localhost:8080/"
        },
        "id": "GUw0MzIG-oj-",
        "outputId": "3f628729-ff20-4f65-e43c-771548943868"
      },
      "execution_count": 195,
      "outputs": [
        {
          "output_type": "stream",
          "name": "stdout",
          "text": [
            "Gravitational force between Earth and Sun: 3.5423960813684973e+22 N\n",
            "Gravitational force between Moon and Earth: 1.9820225456526813e+20 N\n"
          ]
        }
      ]
    },
    {
      "cell_type": "markdown",
      "source": [
        "# Question 2\n",
        " Design and implement a Python program for managing student information using object-oriented\n",
        "principles. Create a class called `Student` with encapsulated attributes for name, age, and roll number.\n",
        "Implement getter and setter methods for these attributes. Additionally, provide methods to display student\n",
        "information and update student details\n",
        "1. Define the `Student` class with encapsulated attribute.\n",
        "2. Implement getter and setter methods for the attributes.\n",
        "3.  Write methods to display student information and update details.\n",
        "4. Create instances of the `Student` class and test the implemented functionality."
      ],
      "metadata": {
        "id": "LH9ZGcQ7_dfX"
      }
    },
    {
      "cell_type": "code",
      "source": [
        "class Student:\n",
        "    def __init__(self, name, age, roll_number):\n",
        "        self.__name = name\n",
        "        self.__age = age\n",
        "        self.__roll_number = roll_number\n",
        "\n",
        "    def get_name(self):\n",
        "        return self.__name\n",
        "\n",
        "    def get_age(self):\n",
        "        return self.__age\n",
        "\n",
        "    def get_roll_number(self):\n",
        "        return self.__roll_number\n",
        "\n",
        "    def set_name(self, name):\n",
        "        self.__name = name\n",
        "\n",
        "    def set_age(self, age):\n",
        "        self.__age = age\n",
        "\n",
        "    def set_roll_number(self, roll_number):\n",
        "        self.__roll_number = roll_number\n",
        "\n",
        "\n",
        "    def display_info(self):\n",
        "        print(f\"Name: {self.__name}, Age: {self.__age}, Roll Number: {self.__roll_number}\")\n",
        "\n",
        "\n",
        "    def update_details(self, name, age, roll_number):\n",
        "        self.set_name(name)\n",
        "        self.set_age(age)\n",
        "        self.set_roll_number(roll_number)\n",
        "\n",
        "\n",
        "student = Student(\"Ria\", 21, \"1\")\n",
        "student.display_info()\n",
        "student.update_details(\"Janavi\", 22, \"2\")\n",
        "student.display_info()\n"
      ],
      "metadata": {
        "colab": {
          "base_uri": "https://localhost:8080/"
        },
        "id": "XpZ0FRR24ff8",
        "outputId": "af2fa196-0e7d-45b0-c55a-7734ae54029b"
      },
      "execution_count": 196,
      "outputs": [
        {
          "output_type": "stream",
          "name": "stdout",
          "text": [
            "Name: Ria, Age: 21, Roll Number: 1\n",
            "Name: Janavi, Age: 22, Roll Number: 2\n"
          ]
        }
      ]
    },
    {
      "cell_type": "markdown",
      "source": [
        "# Question 3.\n",
        "Develop a Python program for managing library resources efficiently. Design a class named `LibraryBook`\n",
        "with attributes like book name, author, and availability status. Implement methods for borrowing and\n",
        "returning books while ensuring proper encapsulation of attributes:\n",
        "Tasks:\n",
        "1. Create the `LibraryBook` class with encapsulated attributes.\n",
        "2. Implement methods for borrowing and returning books.\n",
        "3. Ensure proper encapsulation to protect book details.\n",
        "4. Test the borrowing and returning functionality with sample data."
      ],
      "metadata": {
        "id": "zd0mGtNB_hzm"
      }
    },
    {
      "cell_type": "code",
      "source": [
        "class LibraryBook:\n",
        "    def __init__(self, book_name, author, available=True):\n",
        "        self.__book_name = book_name\n",
        "        self.__author = author\n",
        "        self.__available = available\n",
        "\n",
        "    def borrow_book(self):\n",
        "        if self.__available:\n",
        "            self.__available = False\n",
        "            print(f\"You have borrowed '{self.__book_name}' by {self.__author}\")\n",
        "        else:\n",
        "            print(f\"Sorry, '{self.__book_name}' is currently not available\")\n",
        "\n",
        "    def return_book(self):\n",
        "        self.__available = True\n",
        "        print(f\"You have returned '{self.__book_name}'\")\n",
        "\n",
        "    def display_book_info(self):\n",
        "        status = \"Available\" if self.__available else \"Not Available\"\n",
        "        print(f\"Book: {self.__book_name}, Author: {self.__author}, Status: {status}\")\n",
        "\n",
        "book = LibraryBook(\"Python Programming\", \"John Doe\")\n",
        "book.display_book_info()\n",
        "book.borrow_book()\n",
        "book.display_book_info()\n",
        "book.return_book()\n",
        "book.display_book_info()\n"
      ],
      "metadata": {
        "colab": {
          "base_uri": "https://localhost:8080/"
        },
        "id": "ffXb4XDJ_haq",
        "outputId": "b5c716cb-66b2-46de-a2a8-ea32fe265edc"
      },
      "execution_count": 197,
      "outputs": [
        {
          "output_type": "stream",
          "name": "stdout",
          "text": [
            "Book: Python Programming, Author: John Doe, Status: Available\n",
            "You have borrowed 'Python Programming' by John Doe\n",
            "Book: Python Programming, Author: John Doe, Status: Not Available\n",
            "You have returned 'Python Programming'\n",
            "Book: Python Programming, Author: John Doe, Status: Available\n"
          ]
        }
      ]
    },
    {
      "cell_type": "markdown",
      "source": [
        "# Question 4.\n",
        "Create a simple banking system using object-oriented concepts in Python. Design classes representing\n",
        "different types of bank accounts such as savings and checking. Implement methods for deposit, withdraw,\n",
        "and balance inquiry. Utilize inheritance to manage different account types efficiently.\n",
        "Tasks:\n",
        "1. Define base class(es) for bank accounts with common attributes and methods.\n",
        "2. Implement subclasses for specific account types (e.g., SavingsAccount, CheckingAccount)\n",
        "3. Provide methods for deposit, withdraw, and balance inquiry in each subclass.\n",
        "4. Test the banking system by creating instances of different account types and performing transactions."
      ],
      "metadata": {
        "id": "ff2Xa6_vBiYQ"
      }
    },
    {
      "cell_type": "code",
      "source": [
        "class BankAccount:\n",
        "    def __init__(self, account_number, balance=0):\n",
        "        self.account_number = account_number\n",
        "        self.balance = balance\n",
        "\n",
        "    def deposit(self, amount):\n",
        "        self.balance += amount\n",
        "        print(f\"Deposited: {amount}, New Balance: {self.balance}\")\n",
        "\n",
        "    def withdraw(self, amount):\n",
        "        if self.balance >= amount:\n",
        "            self.balance -= amount\n",
        "            print(f\"Withdrawn: {amount}, Remaining Balance: {self.balance}\")\n",
        "        else:\n",
        "            print(\"Insufficient funds\")\n",
        "\n",
        "    def check_balance(self):\n",
        "        print(f\"Account Number: {self.account_number}, Balance: {self.balance}\")\n",
        "\n",
        "class SavingsAccount(BankAccount):\n",
        "    pass\n",
        "\n",
        "class CheckingAccount(BankAccount):\n",
        "    pass\n",
        "\n",
        "savings = SavingsAccount(\"S123\", 1000)\n",
        "savings.deposit(500)\n",
        "savings.withdraw(200)\n",
        "savings.check_balance()\n"
      ],
      "metadata": {
        "colab": {
          "base_uri": "https://localhost:8080/"
        },
        "id": "t1GhBI_M_hXD",
        "outputId": "4687d235-e861-4696-865f-37754c7b9550"
      },
      "execution_count": 198,
      "outputs": [
        {
          "output_type": "stream",
          "name": "stdout",
          "text": [
            "Deposited: 500, New Balance: 1500\n",
            "Withdrawn: 200, Remaining Balance: 1300\n",
            "Account Number: S123, Balance: 1300\n"
          ]
        }
      ]
    },
    {
      "cell_type": "markdown",
      "source": [
        "# Question 5.\n",
        "Write a Python program that models different animals and their sounds. Design a base class called\n",
        "`Animal` with a method `make_sound()`. Create subclasses like `Dog` and `Cat` that override the\n",
        "`make_sound()` method to produce appropriate sounds.\n",
        "Tasks:\n",
        "1. Define the `Animal` class with a method `make_sound()`.\n",
        "2. Create subclasses `Dog` and `Cat` that override the `make_sound()` method.\n",
        "3. Implement the sound generation logic for each subclass.\n",
        "4. Test the program by creating instances of `Dog` and `Cat` and calling the `make_sound()` method."
      ],
      "metadata": {
        "id": "g4n5-5p2B9ac"
      }
    },
    {
      "cell_type": "code",
      "source": [
        "class Animal:\n",
        "    def make_sound(self):\n",
        "        raise NotImplementedError(\"Subclass must implement abstract method\")\n",
        "\n",
        "class Dog(Animal):\n",
        "    def make_sound(self):\n",
        "        return \"Woof!\"\n",
        "\n",
        "class Cat(Animal):\n",
        "    def make_sound(self):\n",
        "        return \"Meow!\"\n",
        "\n",
        "dog = Dog()\n",
        "cat = Cat()\n",
        "print(dog.make_sound())\n",
        "print(cat.make_sound())\n"
      ],
      "metadata": {
        "colab": {
          "base_uri": "https://localhost:8080/"
        },
        "id": "vzn3Q7nD_hUQ",
        "outputId": "86b6902c-1f34-456b-fa14-5ea406c407ca"
      },
      "execution_count": 199,
      "outputs": [
        {
          "output_type": "stream",
          "name": "stdout",
          "text": [
            "Woof!\n",
            "Meow!\n"
          ]
        }
      ]
    },
    {
      "cell_type": "markdown",
      "source": [
        "# Question 6.\n",
        "Write a code for Restaurant Management System Using OOPS:\n",
        "1. Create a Menu item class that has attributes such as name, description, price, and category.\n",
        "2. Implement methods to hide the menu item's unique identification number.\n",
        "3. Use encapsulation to hide the menu item's unique identification number.\n",
        "4. Inherit from the menu item class to create a food item class and a beverage item class, each with their own specific attributes and methods."
      ],
      "metadata": {
        "id": "7V_lcfZeCZSA"
      }
    },
    {
      "cell_type": "code",
      "source": [
        "class MenuItem:\n",
        "    def __init__(self, name, description, price, category):\n",
        "        self.__id = id(self)\n",
        "        self.name = name\n",
        "        self.description = description\n",
        "        self.price = price\n",
        "        self.category = category\n",
        "\n",
        "    def update_info(self, name, description, price, category):\n",
        "        self.name = name\n",
        "        self.description = description\n",
        "        self.price = price\n",
        "        self.category = category\n",
        "\n",
        "    def display(self):\n",
        "        print(f\"Item: {self.name}, Description: {self.description}, Price: {self.price}, Category: {self.category}\")\n",
        "\n",
        "class FoodItem(MenuItem):\n",
        "    pass\n",
        "\n",
        "class BeverageItem(MenuItem):\n",
        "    pass\n",
        "\n",
        "\n",
        "pizza = FoodItem(\"Pizza\", \"Fresh Pizza\", 500, \"Food\")\n",
        "juice = BeverageItem(\"Orange Juice\", \"Juice\", 100, \"Beverage\")\n",
        "\n",
        "pizza.display()\n",
        "juice.display()\n"
      ],
      "metadata": {
        "colab": {
          "base_uri": "https://localhost:8080/"
        },
        "id": "EFwcP2UM_hRo",
        "outputId": "671fdbe9-5d75-4ceb-ee57-139e1e4e35c4"
      },
      "execution_count": 200,
      "outputs": [
        {
          "output_type": "stream",
          "name": "stdout",
          "text": [
            "Item: Pizza, Description: Fresh Pizza, Price: 500, Category: Food\n",
            "Item: Orange Juice, Description: Juice, Price: 100, Category: Beverage\n"
          ]
        }
      ]
    },
    {
      "cell_type": "markdown",
      "source": [
        "# Question 7.\n",
        "Write a code for  Hotel Management System using OOPS.\n",
        "1. Create a Room class that has attributes such as room number, room type, rate, and availability (private).\n",
        "2. Implement methods to book a room, check in a guest, and check out a guest.\n",
        "3. Use encapsulation to hide the room's unique identification number.\n",
        "4. Inherit from the Room class to create a SuiteRoom class and a StandardRoom class, each with their own\n",
        "specific attributes and methods."
      ],
      "metadata": {
        "id": "7LZLMgWLDaAL"
      }
    },
    {
      "cell_type": "code",
      "source": [
        "class Room:\n",
        "    def __init__(self, room_number, room_type, rate):\n",
        "        self.__id = id(self)\n",
        "        self.room_number = room_number\n",
        "        self.room_type = room_type\n",
        "        self.rate = rate\n",
        "        self.__available = True\n",
        "\n",
        "    def book_room(self):\n",
        "        if self.__available:\n",
        "            self.__available = False\n",
        "            print(f\"Room {self.room_number} booked successfully!\")\n",
        "        else:\n",
        "            print(f\"Room {self.room_number} is already booked.\")\n",
        "\n",
        "    def check_in(self):\n",
        "        self.__available = False\n",
        "        print(f\"Checked into room {self.room_number}\")\n",
        "\n",
        "    def check_out(self):\n",
        "        self.__available = True\n",
        "        print(f\"Checked out from room {self.room_number}\")\n",
        "\n",
        "class SuiteRoom(Room):\n",
        "    pass\n",
        "\n",
        "class StandardRoom(Room):\n",
        "    pass\n",
        "\n",
        "room1 = SuiteRoom(101, \"Suite\", 200)\n",
        "room2 = StandardRoom(102, \"Standard\", 100)\n",
        "\n",
        "room1.book_room()\n",
        "room1.check_out()\n",
        "room1.check_in()\n"
      ],
      "metadata": {
        "colab": {
          "base_uri": "https://localhost:8080/"
        },
        "id": "beeyrwoU_hO3",
        "outputId": "0194aa0c-be57-4a20-b4d5-b11c0f6e96b3"
      },
      "execution_count": 201,
      "outputs": [
        {
          "output_type": "stream",
          "name": "stdout",
          "text": [
            "Room 101 booked successfully!\n",
            "Checked out from room 101\n",
            "Checked into room 101\n"
          ]
        }
      ]
    },
    {
      "cell_type": "markdown",
      "source": [
        "# Question 8.\n",
        "Write a code for  Fitness Club Management System using OOPS.\n",
        "1. Create a Member class that has attributes such as name, age, membership type, and membership status\n",
        "(private).\n",
        "2. Implement methods to register a new member, renew a membership, and cancel a membership.\n",
        "3. Use encapsulation to hide the member's unique identification number.\n",
        "4. Inherit from the Member class to create a FamilyMember class and an IndividualMember class, each with\n",
        "their own specific attributes and methods."
      ],
      "metadata": {
        "id": "RLb7RX4zFs3T"
      }
    },
    {
      "cell_type": "code",
      "source": [
        "class Member:\n",
        "    def __init__(self, name, age, membership_type):\n",
        "        self.__id = id(self)  # Encapsulation of unique ID\n",
        "        self.name = name\n",
        "        self.age = age\n",
        "        self.__membership_type = membership_type\n",
        "        self.__status = \"Active\"\n",
        "\n",
        "    def register_member(self):\n",
        "        print(f\"{self.name} has been registered with {self.__membership_type} membership.\")\n",
        "\n",
        "    def renew_membership(self):\n",
        "        self.__status = \"Renewed\"\n",
        "        print(f\"{self.name}'s membership has been renewed.\")\n",
        "\n",
        "    def cancel_membership(self):\n",
        "        self.__status = \"Cancelled\"\n",
        "        print(f\"{self.name}'s membership has been cancelled.\")\n",
        "\n",
        "class FamilyMember(Member):\n",
        "    pass\n",
        "\n",
        "class IndividualMember(Member):\n",
        "    pass\n",
        "\n",
        "# Test the classes\n",
        "john = FamilyMember(\"John Doe\", 40, \"Family\")\n",
        "john.register_member()\n",
        "john.renew_membership()\n",
        "john.cancel_membership()\n"
      ],
      "metadata": {
        "colab": {
          "base_uri": "https://localhost:8080/"
        },
        "id": "9EhcQYmY_hKG",
        "outputId": "0f2d4435-6ab0-4167-d1ce-41cfafa539d1"
      },
      "execution_count": 202,
      "outputs": [
        {
          "output_type": "stream",
          "name": "stdout",
          "text": [
            "John Doe has been registered with Family membership.\n",
            "John Doe's membership has been renewed.\n",
            "John Doe's membership has been cancelled.\n"
          ]
        }
      ]
    },
    {
      "cell_type": "markdown",
      "source": [
        "# Question 9.\n",
        "Write a code for  Event Management System using OOPS.\n",
        "1. Create an Event class that has attributes such as name, date, time, location, and list of attendees (private).\n",
        "2. Implement methods to create a new event, add or remove attendees, and get the total number of\n",
        "attendees.\n",
        "3. Use encapsulation to hide the event's unique identification number.\n",
        "4. Inherit from the Event class to create a PrivateEvent class and a PublicEvent class, each with their own\n",
        "specific attributes and methods."
      ],
      "metadata": {
        "id": "JeI1MBKiGO7R"
      }
    },
    {
      "cell_type": "code",
      "source": [
        "class Event:\n",
        "    def __init__(self, name, date, time, location):\n",
        "        self.__id = id(self)\n",
        "        self.name = name\n",
        "        self.date = date\n",
        "        self.time = time\n",
        "        self.location = location\n",
        "        self.__attendees = []\n",
        "\n",
        "    def create_event(self):\n",
        "        print(f\"Event '{self.name}' created at {self.location} on {self.date} at {self.time}.\")\n",
        "\n",
        "    def add_attendee(self, attendee):\n",
        "        self.__attendees.append(attendee)\n",
        "        print(f\"Added attendee: {attendee}\")\n",
        "\n",
        "    def remove_attendee(self, attendee):\n",
        "        self.__attendees.remove(attendee)\n",
        "        print(f\"Removed attendee: {attendee}\")\n",
        "\n",
        "    def total_attendees(self):\n",
        "        print(f\"Total attendees: {len(self.__attendees)}\")\n",
        "\n",
        "class PrivateEvent(Event):\n",
        "    pass\n",
        "\n",
        "class PublicEvent(Event):\n",
        "    pass\n",
        "\n",
        "party = PublicEvent(\"Birthday Party\", \"2024-09-15\", \"18:00\", \"New York\")\n",
        "party.create_event()\n",
        "party.add_attendee(\"A\")\n",
        "party.add_attendee(\"B\")\n",
        "party.total_attendees()\n",
        "party.remove_attendee(\"A\")\n",
        "party.total_attendees()\n"
      ],
      "metadata": {
        "colab": {
          "base_uri": "https://localhost:8080/"
        },
        "id": "7Ly3PbZT_hHf",
        "outputId": "ca0ed764-07e7-4bd4-d4ff-eb7f6f3b9695"
      },
      "execution_count": 203,
      "outputs": [
        {
          "output_type": "stream",
          "name": "stdout",
          "text": [
            "Event 'Birthday Party' created at New York on 2024-09-15 at 18:00.\n",
            "Added attendee: A\n",
            "Added attendee: B\n",
            "Total attendees: 2\n",
            "Removed attendee: A\n",
            "Total attendees: 1\n"
          ]
        }
      ]
    },
    {
      "cell_type": "markdown",
      "source": [
        "# Question 10.\n",
        "Write a code for Airline Reservation System using OOPS.\n",
        "1. Create a Flight class that has attributes such as flight number, departure and arrival airports, departure and\n",
        "arrival times, and available seats (private).\n",
        "2. Implement methods to book a seat, cancel a reservation, and get the remaining available seats.\n",
        "3. Use encapsulation to hide the flight's unique identification number.\n",
        "4. Inherit from the Flight class to create a DomesticFlight class and an InternationalFlight class, each with their own specific attributes and methods."
      ],
      "metadata": {
        "id": "k-i4d09lGqYy"
      }
    },
    {
      "cell_type": "code",
      "source": [
        "class Flight:\n",
        "    def __init__(self, flight_number, departure, arrival, seats):\n",
        "        self.__id = id(self)  # Encapsulation of unique ID\n",
        "        self.flight_number = flight_number\n",
        "        self.departure = departure\n",
        "        self.arrival = arrival\n",
        "        self.__available_seats = seats\n",
        "\n",
        "    def book_seat(self):\n",
        "        if self.__available_seats > 0:\n",
        "            self.__available_seats -= 1\n",
        "            print(f\"Seat booked on flight {self.flight_number}. Remaining seats: {self.__available_seats}\")\n",
        "        else:\n",
        "            print(\"No available seats.\")\n",
        "\n",
        "    def cancel_reservation(self):\n",
        "        self.__available_seats += 1\n",
        "        print(f\"Reservation canceled. Seats available: {self.__available_seats}\")\n",
        "\n",
        "class DomesticFlight(Flight):\n",
        "    pass\n",
        "\n",
        "class InternationalFlight(Flight):\n",
        "    pass\n",
        "\n",
        "\n",
        "flight1 = DomesticFlight(\"D123\", \"New York\", \"Los Angeles\", 150)\n",
        "flight1.book_seat()\n",
        "flight1.cancel_reservation()\n"
      ],
      "metadata": {
        "colab": {
          "base_uri": "https://localhost:8080/"
        },
        "id": "MiYwFzA24fdA",
        "outputId": "32191ff4-5b79-4522-a406-42d1ce65f365"
      },
      "execution_count": 204,
      "outputs": [
        {
          "output_type": "stream",
          "name": "stdout",
          "text": [
            "Seat booked on flight D123. Remaining seats: 149\n",
            "Reservation canceled. Seats available: 150\n"
          ]
        }
      ]
    },
    {
      "cell_type": "markdown",
      "source": [
        "# Question 11. Define a Python module named constants.py containing constants like pi and the speed of light."
      ],
      "metadata": {
        "id": "Lxxa0x0Ebyy4"
      }
    },
    {
      "cell_type": "code",
      "source": [
        "%%writefile constants.py\n",
        "\n",
        "PI = 3.14159\n",
        "SPEED_OF_LIGHT = 299792458"
      ],
      "metadata": {
        "id": "VocgQlhzHOF_",
        "colab": {
          "base_uri": "https://localhost:8080/"
        },
        "outputId": "e9ec1d10-c784-46e3-a2ef-3bee0947eb23"
      },
      "execution_count": 205,
      "outputs": [
        {
          "output_type": "stream",
          "name": "stdout",
          "text": [
            "Overwriting constants.py\n"
          ]
        }
      ]
    },
    {
      "cell_type": "code",
      "source": [
        "!python /content/constants.py"
      ],
      "metadata": {
        "id": "u3LJFCX2HODk"
      },
      "execution_count": 206,
      "outputs": []
    },
    {
      "cell_type": "code",
      "source": [
        "import constants"
      ],
      "metadata": {
        "id": "qZyR6wjaic8E"
      },
      "execution_count": 207,
      "outputs": []
    },
    {
      "cell_type": "code",
      "source": [
        "constants.PI"
      ],
      "metadata": {
        "colab": {
          "base_uri": "https://localhost:8080/"
        },
        "id": "63Dv2ZfUigxI",
        "outputId": "396ad290-2723-45a2-c87c-d261444fd0cd"
      },
      "execution_count": 208,
      "outputs": [
        {
          "output_type": "execute_result",
          "data": {
            "text/plain": [
              "3.14159"
            ]
          },
          "metadata": {},
          "execution_count": 208
        }
      ]
    },
    {
      "cell_type": "markdown",
      "source": [
        "# Question 12. Write a Python module named calculator.py containing functions for addition, subtraction,multiplication, and division."
      ],
      "metadata": {
        "id": "8qFmODUqh0qu"
      }
    },
    {
      "cell_type": "code",
      "source": [
        "%%writefile calculator.py\n",
        "\n",
        "def add(x, y):\n",
        "    return x + y\n",
        "\n",
        "def subtract(x, y):\n",
        "    return x - y\n",
        "\n",
        "def multiply(x, y):\n",
        "    return x * y\n",
        "\n",
        "def divide(x, y):\n",
        "    if y != 0:\n",
        "        return x / y\n",
        "    else:\n",
        "        raise ValueError(\"Cannot divide by zero\")"
      ],
      "metadata": {
        "id": "Gjt8jfEMHOBL",
        "colab": {
          "base_uri": "https://localhost:8080/"
        },
        "outputId": "5ac99fc5-b958-4e57-a356-74225dc3ac73"
      },
      "execution_count": 209,
      "outputs": [
        {
          "output_type": "stream",
          "name": "stdout",
          "text": [
            "Overwriting calculator.py\n"
          ]
        }
      ]
    },
    {
      "cell_type": "code",
      "source": [
        "!python calculator.py"
      ],
      "metadata": {
        "id": "_tpnaHEriGFo"
      },
      "execution_count": 210,
      "outputs": []
    },
    {
      "cell_type": "code",
      "source": [
        "import calculator"
      ],
      "metadata": {
        "id": "Xjuuj2lMimrC"
      },
      "execution_count": 211,
      "outputs": []
    },
    {
      "cell_type": "code",
      "source": [
        "calculator.add(2,4)"
      ],
      "metadata": {
        "colab": {
          "base_uri": "https://localhost:8080/"
        },
        "id": "nYxz_Tcxips0",
        "outputId": "ca49a1f3-9bf7-4cbd-bb8b-5a2524e45a53"
      },
      "execution_count": 212,
      "outputs": [
        {
          "output_type": "execute_result",
          "data": {
            "text/plain": [
              "6"
            ]
          },
          "metadata": {},
          "execution_count": 212
        }
      ]
    },
    {
      "cell_type": "markdown",
      "source": [
        "# Question 14. Implement a Python module named string_utils.py containing functions for string manipulation, such as reversing and capitalizing strings."
      ],
      "metadata": {
        "id": "8MaGPQdwi9wq"
      }
    },
    {
      "cell_type": "code",
      "source": [
        "%%writefile string_utils.py\n",
        "\n",
        "def reverse(s):\n",
        "    return s[::-1]\n",
        "\n",
        "def capitalize(s):\n",
        "    return s.capitalize()"
      ],
      "metadata": {
        "colab": {
          "base_uri": "https://localhost:8080/"
        },
        "id": "y2P0J8KNjEDT",
        "outputId": "5c26d7b0-ae24-4c56-fd76-aec0d1637cb8"
      },
      "execution_count": 213,
      "outputs": [
        {
          "output_type": "stream",
          "name": "stdout",
          "text": [
            "Overwriting string_utils.py\n"
          ]
        }
      ]
    },
    {
      "cell_type": "code",
      "source": [
        "!python string_utils.py"
      ],
      "metadata": {
        "id": "ruHlHXcdjQP8"
      },
      "execution_count": 214,
      "outputs": []
    },
    {
      "cell_type": "code",
      "source": [
        "import string_utils"
      ],
      "metadata": {
        "id": "A9dXUaeajQNP"
      },
      "execution_count": 215,
      "outputs": []
    },
    {
      "cell_type": "code",
      "source": [
        "string_utils.capitalize('abc')"
      ],
      "metadata": {
        "colab": {
          "base_uri": "https://localhost:8080/",
          "height": 36
        },
        "id": "K0mCayB7jQJj",
        "outputId": "93dcf919-2154-4fc9-ee40-840c2a54a049"
      },
      "execution_count": 216,
      "outputs": [
        {
          "output_type": "execute_result",
          "data": {
            "text/plain": [
              "'Abc'"
            ],
            "application/vnd.google.colaboratory.intrinsic+json": {
              "type": "string"
            }
          },
          "metadata": {},
          "execution_count": 216
        }
      ]
    },
    {
      "cell_type": "markdown",
      "source": [
        "# Question 15. Write a Python module named file_operations.py with functions for reading, writing, and appending data to a file."
      ],
      "metadata": {
        "id": "zse9CpTnjjDs"
      }
    },
    {
      "cell_type": "code",
      "source": [
        "%%writefile file_operations.py\n",
        "\n",
        "def read_file(file_name):\n",
        "    with open(file_name, 'r') as file:\n",
        "        return file.read()\n",
        "\n",
        "def write_file(file_name, content):\n",
        "    with open(file_name, 'w') as file:\n",
        "        file.write(content)\n",
        "\n",
        "def append_file(file_name, content):\n",
        "    with open(file_name, 'a') as file:\n",
        "        file.write(content)"
      ],
      "metadata": {
        "colab": {
          "base_uri": "https://localhost:8080/"
        },
        "id": "IfKAnP05jQGU",
        "outputId": "6b721e5f-1c49-4432-f93c-b6b9e8d697ca"
      },
      "execution_count": 217,
      "outputs": [
        {
          "output_type": "stream",
          "name": "stdout",
          "text": [
            "Overwriting file_operations.py\n"
          ]
        }
      ]
    },
    {
      "cell_type": "code",
      "source": [
        "!python /content/file_operations.py"
      ],
      "metadata": {
        "id": "cTPCxytejQB_"
      },
      "execution_count": 218,
      "outputs": []
    },
    {
      "cell_type": "code",
      "source": [
        "import file_operations as fl"
      ],
      "metadata": {
        "id": "bACi7T7ujP9G"
      },
      "execution_count": 219,
      "outputs": []
    },
    {
      "cell_type": "code",
      "source": [
        "fl.write_file('example.txt','Hello, World!')"
      ],
      "metadata": {
        "id": "EGWEF8FJjP2t"
      },
      "execution_count": 220,
      "outputs": []
    },
    {
      "cell_type": "code",
      "source": [
        "print(fl.read_file('example.txt'))"
      ],
      "metadata": {
        "colab": {
          "base_uri": "https://localhost:8080/"
        },
        "id": "EPzGtPBGk6Ms",
        "outputId": "417d878e-f16d-47ba-e116-c659c26d68f2"
      },
      "execution_count": 221,
      "outputs": [
        {
          "output_type": "stream",
          "name": "stdout",
          "text": [
            "Hello, World!\n"
          ]
        }
      ]
    },
    {
      "cell_type": "markdown",
      "source": [
        "# Question 16. Write a Python program to create a text file named \"employees.txt\" and write the details of employees, including their name, age, and salary, into the file."
      ],
      "metadata": {
        "id": "W-Vd50DllHhG"
      }
    },
    {
      "cell_type": "code",
      "source": [
        "%%writefile employees.txt"
      ],
      "metadata": {
        "colab": {
          "base_uri": "https://localhost:8080/"
        },
        "id": "lQ4rBHPvlEGV",
        "outputId": "e85a54cd-a00c-4f4e-ff8a-00f1e7e8aed7"
      },
      "execution_count": 222,
      "outputs": [
        {
          "output_type": "stream",
          "name": "stdout",
          "text": [
            "Overwriting employees.txt\n"
          ]
        }
      ]
    },
    {
      "cell_type": "code",
      "source": [
        "!cat employees.txt"
      ],
      "metadata": {
        "colab": {
          "base_uri": "https://localhost:8080/"
        },
        "id": "_LYVK_cDoAD4",
        "outputId": "8506904a-d9db-48e0-c228-8ba41210136b"
      },
      "execution_count": 223,
      "outputs": [
        {
          "output_type": "stream",
          "name": "stdout",
          "text": [
            " "
          ]
        }
      ]
    },
    {
      "cell_type": "code",
      "source": [
        "employees = [\n",
        "    {'name': 'Alice', 'age': 30, 'salary': 50000},\n",
        "    {'name': 'Bob', 'age': 25, 'salary': 45000},\n",
        "    {'name': 'Charlie', 'age': 35, 'salary': 55000}\n",
        "]\n",
        "\n",
        "\n",
        "with open('employees.txt', 'w') as file:\n",
        "    for employee in employees:\n",
        "        line = f\"Name: {employee['name']}, Age: {employee['age']}, Salary: ${employee['salary']}\\n\"\n",
        "        file.write(line)\n",
        "\n",
        "with open('employees.txt', 'r') as file:\n",
        "    content = file.read()\n",
        "    print(content)\n"
      ],
      "metadata": {
        "colab": {
          "base_uri": "https://localhost:8080/"
        },
        "id": "ieoWGJo9qNsD",
        "outputId": "8b639eec-140f-4025-a7a4-ca56bc481dde"
      },
      "execution_count": 224,
      "outputs": [
        {
          "output_type": "stream",
          "name": "stdout",
          "text": [
            "Name: Alice, Age: 30, Salary: $50000\n",
            "Name: Bob, Age: 25, Salary: $45000\n",
            "Name: Charlie, Age: 35, Salary: $55000\n",
            "\n"
          ]
        }
      ]
    },
    {
      "cell_type": "markdown",
      "source": [
        "# Question 17. Develop a Python script that opens an existing text file named \"inventory.txt\" in read mode and displays the contents of the file line by line."
      ],
      "metadata": {
        "id": "26GfYR86lL3H"
      }
    },
    {
      "cell_type": "code",
      "source": [
        "%%writefile inventory.txt"
      ],
      "metadata": {
        "colab": {
          "base_uri": "https://localhost:8080/"
        },
        "id": "tOxF2S5xlEDB",
        "outputId": "9e255640-dc7e-444a-fb4f-33be45fca614"
      },
      "execution_count": 225,
      "outputs": [
        {
          "output_type": "stream",
          "name": "stdout",
          "text": [
            "Overwriting inventory.txt\n"
          ]
        }
      ]
    },
    {
      "cell_type": "code",
      "source": [
        "!cat inventory.txt"
      ],
      "metadata": {
        "colab": {
          "base_uri": "https://localhost:8080/"
        },
        "id": "Y3cliPzXq-ey",
        "outputId": "7f406857-d691-4512-c7c1-6815887cfa41"
      },
      "execution_count": 226,
      "outputs": [
        {
          "output_type": "stream",
          "name": "stdout",
          "text": [
            " "
          ]
        }
      ]
    },
    {
      "cell_type": "code",
      "source": [
        "with open('inventory.txt', 'r') as file:\n",
        "  for line in file:\n",
        "    print(line.strip())"
      ],
      "metadata": {
        "colab": {
          "base_uri": "https://localhost:8080/"
        },
        "id": "SCceKPJxq-cH",
        "outputId": "a43b6a0f-1852-4864-effb-d619fcf3c5da"
      },
      "execution_count": 227,
      "outputs": [
        {
          "output_type": "stream",
          "name": "stdout",
          "text": [
            "\n"
          ]
        }
      ]
    },
    {
      "cell_type": "markdown",
      "source": [
        "# Question 18. Create a Python script that reads a text file named \"expenses.txt\" and calculates the total amount spent on various expenses listed in the file."
      ],
      "metadata": {
        "id": "UDPZ9QEylSJM"
      }
    },
    {
      "cell_type": "code",
      "source": [
        "%%writefile expenses.txt\n",
        "\n",
        "Expense: Rent, Amount: 1200\n",
        "Expense: Groceries, Amount: 300\n",
        "Expense: Utilities, Amount: 150"
      ],
      "metadata": {
        "colab": {
          "base_uri": "https://localhost:8080/"
        },
        "id": "-8acIGF8lEAi",
        "outputId": "e2d5112e-c7aa-4682-8726-12627edc10dc"
      },
      "execution_count": 228,
      "outputs": [
        {
          "output_type": "stream",
          "name": "stdout",
          "text": [
            "Overwriting expenses.txt\n"
          ]
        }
      ]
    },
    {
      "cell_type": "code",
      "source": [
        "with open('expenses.txt', 'r') as file:\n",
        "    content = file.read()\n",
        "    print(content)"
      ],
      "metadata": {
        "id": "d_7vIAO3rwVT",
        "outputId": "bfb7f767-16c5-40b5-b58f-30a1ab191a69",
        "colab": {
          "base_uri": "https://localhost:8080/"
        }
      },
      "execution_count": 229,
      "outputs": [
        {
          "output_type": "stream",
          "name": "stdout",
          "text": [
            "\n",
            "Expense: Rent, Amount: 1200\n",
            "Expense: Groceries, Amount: 300\n",
            "Expense: Utilities, Amount: 150\n",
            "\n"
          ]
        }
      ]
    },
    {
      "cell_type": "markdown",
      "source": [
        "# Question 19. Create a Python program that reads a text file named \"paragraph.txt\" and counts the occurrences of each word in the paragraph, displaying the results in alphabetical order."
      ],
      "metadata": {
        "id": "3Eu0UiKBlXd_"
      }
    },
    {
      "cell_type": "code",
      "source": [
        "%%writefile paragraph.txt\n",
        "\n",
        "Hello, world\n"
      ],
      "metadata": {
        "colab": {
          "base_uri": "https://localhost:8080/"
        },
        "id": "7NxqmroWsNN1",
        "outputId": "1be51dfd-759b-4717-f1e6-d2a32d4eb5cc"
      },
      "execution_count": 230,
      "outputs": [
        {
          "output_type": "stream",
          "name": "stdout",
          "text": [
            "Overwriting paragraph.txt\n"
          ]
        }
      ]
    },
    {
      "cell_type": "code",
      "source": [
        "from collections import Counter\n",
        "import re\n",
        "\n",
        "def count_word_occurrences(filename):\n",
        "    try:\n",
        "        with open(filename, 'r') as file:\n",
        "            text = file.read()\n",
        "\n",
        "            # Normalize case and remove non-alphanumeric characters\n",
        "            words = re.findall(r'\\b\\w+\\b', text.lower())\n",
        "\n",
        "            # Count occurrences of each word\n",
        "            word_counts = Counter(words)\n",
        "\n",
        "            # Display results in alphabetical order\n",
        "            for word in sorted(word_counts):\n",
        "                print(f\"{word}: {word_counts[word]}\")\n",
        "    except FileNotFoundError:\n",
        "        print(f\"The file {filename} does not exist.\")\n",
        "\n",
        "count_word_occurrences('paragraph.txt')\n"
      ],
      "metadata": {
        "id": "vETO6qyWlD93",
        "colab": {
          "base_uri": "https://localhost:8080/"
        },
        "outputId": "156601f6-03b9-441b-bc16-9ef3b5b66033"
      },
      "execution_count": 231,
      "outputs": [
        {
          "output_type": "stream",
          "name": "stdout",
          "text": [
            "hello: 1\n",
            "world: 1\n"
          ]
        }
      ]
    },
    {
      "cell_type": "markdown",
      "source": [
        "# Question 20. What do you mean by Measure of Central Tendency and Measures of Dispersion .How it can be calculated."
      ],
      "metadata": {
        "id": "1LnCriOHKmf9"
      }
    },
    {
      "cell_type": "markdown",
      "source": [
        "\n",
        "*   Measures of Central Tendency and Measures of Dispersion:\n",
        "\n",
        " Mean: The average of all data points.\n",
        "\n",
        "    Median: The middle value in an ordered data set.\n",
        "\n",
        "    Mode: The most frequently occurring value.\n",
        "\n",
        "\n",
        "*   Measures of Dispersion: Describe the spread of data points.\n",
        "\n",
        "    Range: Difference between the maximum and minimum values.\n",
        "\n",
        "    Variance: The average of the squared differences from the Mean.\n",
        "\n",
        "    Standard Deviation: The square root of the Variance."
      ],
      "metadata": {
        "id": "tLMHOZnCPk25"
      }
    },
    {
      "cell_type": "markdown",
      "source": [
        "# Question 21.What do you mean by skewness.Explain its types.Use graph to show."
      ],
      "metadata": {
        "id": "a9O_JRwIKvnQ"
      }
    },
    {
      "cell_type": "markdown",
      "source": [
        "Skewness: A measure of the asymmetry of the probability distribution of a real-valued random variable.\n",
        "\n",
        "Types:\n",
        "Positive Skewness (Right-Skewed): Longer tail on the right side.\n",
        "\n",
        "Negative Skewness (Left-Skewed): Longer tail on the left side."
      ],
      "metadata": {
        "id": "mXQcca78Ymgo"
      }
    },
    {
      "cell_type": "code",
      "source": [
        "positively_skewed_data = np.random.exponential(scale=2, size=1000)\n",
        "negatively_skewed_data = 10 - np.random.exponential(scale=2, size=1000)\n",
        "\n",
        "plt.figure(figsize=(12, 6))\n",
        "\n",
        "# Plot Positively Skewed Distribution\n",
        "plt.subplot(1, 2, 1)\n",
        "sns.distplot(positively_skewed_data, bins=30, color='skyblue')\n",
        "plt.title('Positively Skewed Distribution (Right-Skewed)')\n",
        "plt.xlabel('Value')\n",
        "plt.ylabel('Frequency')\n",
        "\n",
        "# Plot Negatively Skewed Distribution\n",
        "plt.subplot(1, 2, 2)\n",
        "sns.distplot(negatively_skewed_data, bins=30, color='lightcoral')\n",
        "plt.title('Negatively Skewed Distribution (Left-Skewed)')\n",
        "plt.xlabel('Value')\n",
        "plt.ylabel('Frequency')\n",
        "\n",
        "plt.tight_layout()\n",
        "plt.show()"
      ],
      "metadata": {
        "colab": {
          "base_uri": "https://localhost:8080/",
          "height": 607
        },
        "id": "WSkY7RVZanKe",
        "outputId": "621f2345-e118-432b-9596-edd54be78dfe"
      },
      "execution_count": 232,
      "outputs": [
        {
          "output_type": "display_data",
          "data": {
            "text/plain": [
              "<Figure size 1200x600 with 2 Axes>"
            ],
            "image/png": "[encoded data removed]"
          },
          "metadata": {}
        }
      ]
    },
    {
      "cell_type": "markdown",
      "source": [
        "# Question 22. Explain PROBABILITY MASS FUNCTION (PMF) and PROBABILITY DENSITY FUNCTION (PDF). and what is the difference between them?"
      ],
      "metadata": {
        "id": "gC0ReTQiK2cv"
      }
    },
    {
      "cell_type": "markdown",
      "source": [
        "Probability Mass Function (PMF): Used for discrete random variables. Represents the probability that a discrete random variable is exactly equal to some value.\n",
        "\n",
        "Probability Density Function (PDF): Used for continuous random variables. Represents the probability that a continuous random variable falls within a particular range of values."
      ],
      "metadata": {
        "id": "ldxwyZmocDNX"
      }
    },
    {
      "cell_type": "markdown",
      "source": [
        "# Question 23.What is correlation. Explain its type in details.what are the  methods of determining correlation"
      ],
      "metadata": {
        "id": "oDEkj9LTLJFn"
      }
    },
    {
      "cell_type": "markdown",
      "source": [
        "Correlation: A statistical measure that expresses the extent to which two variables are linearly related.\n",
        "\n",
        "Types:\n",
        "\n",
        "Positive Correlation: Both variables increase or decrease together.\n",
        "\n",
        "Negative Correlation: One variable increases as the other decreases.\n",
        "\n",
        "Zero Correlation: No linear relationship between variables.\n",
        "\n",
        "Methods: Pearson, Spearman, Kendall Tau."
      ],
      "metadata": {
        "id": "Z4D3M7hRcP7f"
      }
    },
    {
      "cell_type": "markdown",
      "source": [
        "# Question 24.Calculate coefficient of correlation between the marks obtained by 10 students in Accountancy and statistics:\n",
        "Use Karl Pearson’s Coefficient of Correlation Method to find it."
      ],
      "metadata": {
        "id": "Ryui0MnIOrSJ"
      }
    },
    {
      "cell_type": "code",
      "source": [
        "accountancy_marks = np.array([45,70,65,30,90,40,50,75,85,60])\n",
        "statistics_marks = np.array([35,90,70,40,95,40,60,80,80,50])\n",
        "\n",
        "n = 10\n",
        "sum_X = np.sum(accountancy_marks)\n",
        "sum_Y = np.sum(statistics_marks)\n",
        "sum_XY = np.sum(accountancy_marks * statistics_marks)\n",
        "sum_X2 = np.sum(accountancy_marks ** 2)\n",
        "sum_Y2 = np.sum(statistics_marks ** 2)\n",
        "\n",
        "r = (n * sum_XY - sum_X * sum_Y) / np.sqrt((n * sum_X2 - sum_X ** 2) * (n * sum_Y2 - sum_Y ** 2))\n",
        "\n",
        "print(f\"Pearson correlation coefficient: {r:.4f}\")"
      ],
      "metadata": {
        "id": "Bx38sfONK4lR",
        "colab": {
          "base_uri": "https://localhost:8080/"
        },
        "outputId": "831fd6e3-b294-4e82-a6d1-20310aba7b29"
      },
      "execution_count": 233,
      "outputs": [
        {
          "output_type": "stream",
          "name": "stdout",
          "text": [
            "Pearson correlation coefficient: 0.9031\n"
          ]
        }
      ]
    },
    {
      "cell_type": "markdown",
      "source": [
        "# Question 25. Discuss the 4  differences between correlation and regression."
      ],
      "metadata": {
        "id": "2jwVRrUbLcuo"
      }
    },
    {
      "cell_type": "markdown",
      "source": [
        "1. Correlation measures the degree of association between two variables, while Regression predicts the value of a dependent variable based on an independent variable.\n",
        "2. Correlation does not imply causation, while Regression establishes a cause-and-effect relationship.\n",
        "3. Correlation has no units, while Regression has units.\n",
        "4. Correlation is a single value, while Regression provides an equation."
      ],
      "metadata": {
        "id": "x3x6FU_ydwXx"
      }
    },
    {
      "cell_type": "markdown",
      "source": [
        "# Question 26. Find the most likely price at Delhi corresponding to the price of Rs. 70 at Agra from the following data:\n",
        "\n",
        "Coefficient of correlation between the prices of the two places +0.8"
      ],
      "metadata": {
        "id": "naOEV_CwLlJd"
      }
    },
    {
      "cell_type": "code",
      "source": [
        "mean_agras = 65\n",
        "std_dev_agras = 10\n",
        "mean_delhi = 80\n",
        "std_dev_delhi = 15\n",
        "correlation_coefficient = 0.8\n",
        "price_in_agras = 70\n",
        "\n",
        "price_in_delhi = mean_delhi + (correlation_coefficient * std_dev_delhi / std_dev_agras) * (price_in_agras - mean_agras)\n",
        "\n",
        "print(f\"The most likely price in Delhi corresponding to Rs. {price_in_agras} in Agra is Rs. {price_in_delhi:.2f}\")"
      ],
      "metadata": {
        "id": "Z3RHxxmYK4c5",
        "colab": {
          "base_uri": "https://localhost:8080/"
        },
        "outputId": "d553bba9-483e-4f4e-9ff6-c13e7b68be16"
      },
      "execution_count": 234,
      "outputs": [
        {
          "output_type": "stream",
          "name": "stdout",
          "text": [
            "The most likely price in Delhi corresponding to Rs. 70 in Agra is Rs. 86.00\n"
          ]
        }
      ]
    },
    {
      "cell_type": "markdown",
      "source": [
        "# Question 28.What is  Normal Distribution? What are the four Assumptions of Normal Distribution? Explain"
      ],
      "metadata": {
        "id": "Z2prnVl7MF10"
      }
    },
    {
      "cell_type": "markdown",
      "source": [
        "Normal Distribution: A bell-shaped curve that represents a distribution of data where most values cluster around a central peak.\n",
        "\n",
        "Assumptions:\n",
        "1. Data is symmetrically distributed around the mean.\n",
        "2. Mean, median, and mode are equal.\n",
        "3. The distribution is defined by its mean and standard deviation.\n",
        "4. Data follows the empirical rule (68-95-99.7)."
      ],
      "metadata": {
        "id": "IXO3OM0OeXk2"
      }
    },
    {
      "cell_type": "markdown",
      "source": [
        "# Question 29.Write all the characteristics or Properties of the Normal Distribution Curve."
      ],
      "metadata": {
        "id": "b5vUsdSgMMPD"
      }
    },
    {
      "cell_type": "markdown",
      "source": [
        "Characteristics of the Normal Distribution Curve:\n",
        "\n",
        "1. Symmetrical around the mean.\n",
        "2. Mean, median, and mode are all equal.\n",
        "3. Asymptotic: Tails approach but never touch the x-axis.\n",
        "4. Area under the curve equals 1."
      ],
      "metadata": {
        "id": "9TCAl16Eet_K"
      }
    },
    {
      "cell_type": "markdown",
      "source": [
        "# Question 30.Which of the following options are  correct about Normal Distribution Curve.\n",
        "\n",
        "(a) Within a range 0.6745 of σ on both sides the middle 50% of the observations occur i,e. mean ±0.6745σ\n",
        "covers 50% area 25% on each side.\n",
        "\n",
        "(b) Mean ±1S.D. (i,e.µ ± 1σ) covers 68.268% area, 34.134 % area lies on either side of the mean.\n",
        "\n",
        "(c) Mean ±2S.D. (i,e. µ ± 2σ) covers 95.45% area, 47.725% area lies on either side of the mean.\n",
        "\n",
        "(d) Mean ±3 S.D. (i,e. µ ±3σ) covers 99.73% area, 49.856% area lies on the either side of the mean.\n",
        "\n",
        "(e) Only 0.27% area is outside the range µ ±3σ."
      ],
      "metadata": {
        "id": "QdYc94uyMUP2"
      }
    },
    {
      "cell_type": "markdown",
      "source": [
        "Correct Options About Normal Distribution Curve:\n",
        "\n",
        "(a) Incorrect\n",
        "(b) Correct\n",
        "(c) Correct\n",
        "(d) Correct\n",
        "(e) Correct"
      ],
      "metadata": {
        "id": "1gb4AqUUe54j"
      }
    },
    {
      "cell_type": "markdown",
      "source": [
        "# Question 31.The mean of a distribution is 60 with a standard deviation of 10. Assuming that the distribution is normal,what percentage of items be (i) between 60 and 72, (ii) between 50 and 60, (iii) beyond 72 and (iv) between 70 and 80?"
      ],
      "metadata": {
        "id": "aD8edeDCMwGG"
      }
    },
    {
      "cell_type": "code",
      "source": [
        "from scipy.stats import norm\n",
        "\n",
        "# Given data\n",
        "mean = 60\n",
        "std_dev = 10\n",
        "\n",
        "# Calculate percentages\n",
        "def percentage_between(lower, upper):\n",
        "    z_lower = (lower - mean) / std_dev\n",
        "    z_upper = (upper - mean) / std_dev\n",
        "    return (norm.cdf(z_upper) - norm.cdf(z_lower)) * 100\n",
        "\n",
        "def percentage_beyond(value):\n",
        "    z = (value - mean) / std_dev\n",
        "    return (1 - norm.cdf(z)) * 100\n",
        "\n",
        "# (i) Percentage between 60 and 72\n",
        "percent_60_72 = percentage_between(60, 72)\n",
        "\n",
        "# (ii) Percentage between 50 and 60\n",
        "percent_50_60 = percentage_between(50, 60)\n",
        "\n",
        "# (iii) Percentage beyond 72\n",
        "percent_beyond_72 = percentage_beyond(72)\n",
        "\n",
        "# (iv) Percentage between 70 and 80\n",
        "percent_70_80 = percentage_between(70, 80)\n",
        "\n",
        "print(f\"Percentage between 60 and 72: {percent_60_72:.2f}%\")\n",
        "print(f\"Percentage between 50 and 60: {percent_50_60:.2f}%\")\n",
        "print(f\"Percentage beyond 72: {percent_beyond_72:.2f}%\")\n",
        "print(f\"Percentage between 70 and 80: {percent_70_80:.2f}%\")\n"
      ],
      "metadata": {
        "id": "0n3OW9FlHN5X",
        "colab": {
          "base_uri": "https://localhost:8080/"
        },
        "outputId": "dd33e0f7-2ac6-4c9c-cdc4-0abf270886ea"
      },
      "execution_count": 235,
      "outputs": [
        {
          "output_type": "stream",
          "name": "stdout",
          "text": [
            "Percentage between 60 and 72: 38.49%\n",
            "Percentage between 50 and 60: 34.13%\n",
            "Percentage beyond 72: 11.51%\n",
            "Percentage between 70 and 80: 13.59%\n"
          ]
        }
      ]
    },
    {
      "cell_type": "markdown",
      "source": [
        "# Question 32.15000 students sat for an examination. The mean marks was 49 and the distribution of marks had astandard deviation of 6. Assuming that the marks were normally distributed what proportion of students scored (a) more than 55 marks, (b) more than 70 marks."
      ],
      "metadata": {
        "id": "9gDgc8f0M3j8"
      }
    },
    {
      "cell_type": "code",
      "source": [
        "from scipy.stats import norm\n",
        "\n",
        "mean = 49\n",
        "std_dev = 6\n",
        "\n",
        "def proportion_above(value):\n",
        "    z = (value - mean) / std_dev\n",
        "    return 1 - norm.cdf(z)\n",
        "\n",
        "# (a) Proportion of students who scored more than 55 marks\n",
        "proportion_above_55 = proportion_above(55)\n",
        "\n",
        "# (b) Proportion of students who scored more than 70 marks\n",
        "proportion_above_70 = proportion_above(70)\n",
        "\n",
        "print(f\"Proportion of students who scored more than 55 marks: {proportion_above_55:.4f}\")\n",
        "print(f\"Proportion of students who scored more than 70 marks: {proportion_above_70:.4f}\")\n"
      ],
      "metadata": {
        "id": "TyzKaRcMM3QU",
        "colab": {
          "base_uri": "https://localhost:8080/"
        },
        "outputId": "16558eb2-5524-49bd-ff05-d828913868ad"
      },
      "execution_count": 236,
      "outputs": [
        {
          "output_type": "stream",
          "name": "stdout",
          "text": [
            "Proportion of students who scored more than 55 marks: 0.1587\n",
            "Proportion of students who scored more than 70 marks: 0.0002\n"
          ]
        }
      ]
    },
    {
      "cell_type": "markdown",
      "source": [
        "# Question 33.If the height of 500 students are normally distributed with mean 65 inch and standard deviation 5 inch.How many students have height : a) greater than 70 inch. b) between 60 and 70 inch."
      ],
      "metadata": {
        "id": "7_h2JasXM9Ba"
      }
    },
    {
      "cell_type": "code",
      "source": [
        "from scipy.stats import norm\n",
        "\n",
        "mean = 65\n",
        "std_dev = 5\n",
        "total_students = 500\n",
        "\n",
        "def number_above(value):\n",
        "    z = (value - mean) / std_dev\n",
        "    return (1 - norm.cdf(z)) * total_students\n",
        "\n",
        "def number_between(lower, upper):\n",
        "    z_lower = (lower - mean) / std_dev\n",
        "    z_upper = (upper - mean) / std_dev\n",
        "    return (norm.cdf(z_upper) - norm.cdf(z_lower)) * total_students\n",
        "\n",
        "# (a) Number of students with height greater than 70 inches\n",
        "students_above_70 = number_above(70)\n",
        "\n",
        "# (b) Number of students with height between 60 and 70 inches\n",
        "students_between_60_70 = number_between(60, 70)\n",
        "\n",
        "print(f\"Number of students with height greater than 70 inches: {students_above_70:.0f}\")\n",
        "print(f\"Number of students with height between 60 and 70 inches: {students_between_60_70:.0f}\")\n"
      ],
      "metadata": {
        "id": "N0bk6ckxM3NG",
        "colab": {
          "base_uri": "https://localhost:8080/"
        },
        "outputId": "8afdd2b3-88a2-4ca8-a490-a44c72365d0a"
      },
      "execution_count": 237,
      "outputs": [
        {
          "output_type": "stream",
          "name": "stdout",
          "text": [
            "Number of students with height greater than 70 inches: 79\n",
            "Number of students with height between 60 and 70 inches: 341\n"
          ]
        }
      ]
    },
    {
      "cell_type": "markdown",
      "source": [
        "# Question 34.What is the statistical hypothesis? Explain the errors in hypothesis testing.b)Explain the  Sample. What are Large Samples & Small Samples?"
      ],
      "metadata": {
        "id": "PQx0XhUWNB65"
      }
    },
    {
      "cell_type": "markdown",
      "source": [
        "- Statistical Hypothesis: Assumptions about a population parameter tested using sample data. Includes null and alternative hypotheses.\n",
        "- Errors in Hypothesis Testing: Type I error (false positive) and Type II error (false negative).\n",
        "- Sample: A subset of a population used to estimate characteristics of the whole population.\n",
        "\n",
        "    Large Samples: Typically > 30, provide more accurate estimates.\n",
        "    \n",
        "    Small Samples: Typically ≤ 30, may lead to less reliable estimates."
      ],
      "metadata": {
        "id": "SgXJ7wQ6ywtL"
      }
    },
    {
      "cell_type": "markdown",
      "source": [
        "# Question 35.A random sample of size 25 from a population gives the sample standard derivation to be 9.0. Test the hypothesis that the population standard derivation is 10.5.\n",
        "\n",
        "Hint(Use chi-square distribution)."
      ],
      "metadata": {
        "id": "5A6OQio2NIO1"
      }
    },
    {
      "cell_type": "code",
      "source": [
        "n = 25\n",
        "s = 9.0\n",
        "sigma = 10.5"
      ],
      "metadata": {
        "id": "XArY8rLQM3G6"
      },
      "execution_count": 238,
      "outputs": []
    },
    {
      "cell_type": "code",
      "source": [
        "from scipy.stats import chi2\n",
        "# Sample variance\n",
        "s2 = s**2\n",
        "\n",
        "# Hypothesized population variance\n",
        "sigma2 = sigma**2\n",
        "\n",
        "# Test statistic\n",
        "chi2_stat = (n - 1) * s2 / sigma2\n",
        "\n",
        "# Degrees of freedom\n",
        "df = n - 1\n",
        "\n",
        "# Two-tailed p-value\n",
        "p_value = 2 * (1 - chi2.cdf(chi2_stat, df))\n",
        "\n",
        "# Significance level (common choices: 0.05, 0.01)\n",
        "alpha = 0.05"
      ],
      "metadata": {
        "id": "I3Bk4CYGzUd_"
      },
      "execution_count": 239,
      "outputs": []
    },
    {
      "cell_type": "code",
      "source": [
        "print(f\"Test Statistic: {chi2_stat:.2f}\")\n",
        "print(f\"P-value: {p_value:.4f}\")"
      ],
      "metadata": {
        "colab": {
          "base_uri": "https://localhost:8080/"
        },
        "id": "qV2hELtwzfYy",
        "outputId": "204d214f-bada-46f0-9633-353c8b26bdc9"
      },
      "execution_count": 240,
      "outputs": [
        {
          "output_type": "stream",
          "name": "stdout",
          "text": [
            "Test Statistic: 17.63\n",
            "P-value: 1.6409\n"
          ]
        }
      ]
    },
    {
      "cell_type": "code",
      "source": [
        "if p_value < alpha:\n",
        "    print(\"Reject the null hypothesis.\")\n",
        "else:\n",
        "    print(\"Fail to reject the null hypothesis.\")"
      ],
      "metadata": {
        "colab": {
          "base_uri": "https://localhost:8080/"
        },
        "id": "XboIBfwLzh5x",
        "outputId": "59866646-07ff-46b1-dc00-966cc18d59c9"
      },
      "execution_count": 241,
      "outputs": [
        {
          "output_type": "stream",
          "name": "stdout",
          "text": [
            "Fail to reject the null hypothesis.\n"
          ]
        }
      ]
    },
    {
      "cell_type": "markdown",
      "source": [
        "# Question 37.\n",
        "100 students of a PW IOI obtained the following grades in Data Science paper :\n",
        "\n",
        "Grade :[A, B, C, D, E]\n",
        "\n",
        " Total Frequency :[15, 17, 30, 22, 16, 100]\n",
        "\n",
        "Using the  χ 2 test , examine the hypothesis that the distribution of grades is uniform."
      ],
      "metadata": {
        "id": "4qJCdCJyNQLu"
      }
    },
    {
      "cell_type": "code",
      "source": [
        "from scipy.stats import chi2\n",
        "\n",
        "observed = np.array([15, 17, 30, 22, 16])\n",
        "expected = np.array([20] * 5)\n",
        "\n",
        "chi2_stat = np.sum((observed - expected)**2 / expected)\n",
        "\n",
        "df = len(observed) - 1\n",
        "\n",
        "p_value = 1 - chi2.cdf(chi2_stat, df)\n",
        "\n",
        "print(f\"Chi-Square Test Statistic: {chi2_stat:.2f}\")\n",
        "print(f\"P-value: {p_value:.4f}\")\n",
        "\n",
        "if p_value < alpha:\n",
        "    print(\"Reject the null hypothesis: The distribution of grades is not uniform.\")\n",
        "else:\n",
        "    print(\"Fail to reject the null hypothesis: There is no sufficient evidence to suggest the distribution of grades is not uniform.\")"
      ],
      "metadata": {
        "id": "9ruAtuFWM3Dc",
        "colab": {
          "base_uri": "https://localhost:8080/"
        },
        "outputId": "ba856cf6-845e-4d68-b1da-4625accad619"
      },
      "execution_count": 242,
      "outputs": [
        {
          "output_type": "stream",
          "name": "stdout",
          "text": [
            "Chi-Square Test Statistic: 7.70\n",
            "P-value: 0.1032\n",
            "Fail to reject the null hypothesis: There is no sufficient evidence to suggest the distribution of grades is not uniform.\n"
          ]
        }
      ]
    },
    {
      "cell_type": "markdown",
      "source": [
        "# Question 50. Machine Learning\n",
        "1. Difference between Series & DataFrames:\n",
        "\n",
        "Series: One-dimensional labeled array (like a column in a table).\n",
        "\n",
        "DataFrame: Two-dimensional labeled data structure (like a table with rows and columns).\n",
        "\n",
        "3. Difference between loc and iloc:\n",
        "\n",
        "loc: Access data by label (index names).\n",
        "\n",
        "iloc: Access data by position (integer index).\n",
        "\n",
        "4. Supervised vs. Unsupervised Learning:\n",
        "\n",
        "Supervised Learning: Uses labeled data to train models.\n",
        "\n",
        "Unsupervised Learning: Uses unlabeled data to find hidden patterns.\n",
        "\n",
        "5. Bias-Variance Tradeoff:\n",
        "\n",
        "Bias: Error due to overly simplistic models.\n",
        "\n",
        "Variance: Error due to overly complex models.\n",
        "\n",
        "Tradeoff involves balancing between bias and variance to minimize total error.\n",
        "\n",
        "6. Precision and Recall vs. Accuracy:\n",
        "\n",
        "Precision: (True Positives) / (True Positives + False Positives)\n",
        "\n",
        "Recall: (True Positives) / (True Positives + False Negatives)\n",
        "\n",
        "Accuracy: (True Positives + True Negatives) / (Total Predictions)\n",
        "\n",
        "7. Overfitting and Prevention:\n",
        "\n",
        "Overfitting: Model learns noise in training data rather than general patterns.\n",
        "\n",
        "Prevention: Use regularization, cross-validation, or simplify the model.\n",
        "\n",
        "8. Cross-Validation:\n",
        "\n",
        "Technique to assess model performance by dividing data into training and testing sets multiple times.\n",
        "\n",
        "9. Classification vs. Regression:\n",
        "\n",
        "Classification: Predicts categorical labels.\n",
        "\n",
        "Regression: Predicts continuous values.\n",
        "\n",
        "10. Ensemble Learning:\n",
        "\n",
        "Combining multiple models to improve performance and robustness (e.g., Random Forest, Gradient Boosting).\n",
        "\n",
        "11. Gradient Descent:\n",
        "\n",
        "Optimization algorithm to minimize loss function by iteratively adjusting model parameters.\n",
        "\n",
        "12. Batch vs. Stochastic Gradient Descent:\n",
        "\n",
        "Batch: Uses the entire dataset for each update.\n",
        "\n",
        "Stochastic: Uses a single data point for each update.\n",
        "\n",
        "13. Curse of Dimensionality:\n",
        "\n",
        "As the number of features increases, the volume of the feature space grows exponentially, making data sparse and harder to analyze.\n",
        "\n",
        "14. L1 vs. L2 Regularization:\n",
        "\n",
        "L1: Adds the absolute value of coefficients to the loss function (Lasso).\n",
        "\n",
        "L2: Adds the squared value of coefficients (Ridge).\n",
        "\n",
        "15. Confusion Matrix:\n",
        "\n",
        "Table showing the performance of a classification model by displaying True Positives, False Positives, True Negatives, and False Negatives.\n",
        "\n",
        "16. AUC-ROC Curve:\n",
        "\n",
        "Measures the ability of a model to distinguish between classes, plotting True Positive Rate against False Positive Rate.\n",
        "\n",
        "15. K-Nearest Neighbors (KNN):\n",
        "\n",
        "Classifies data points based on the majority class among its k nearest neighbors.\n",
        "\n",
        "16. Support Vector Machine (SVM):\n",
        "\n",
        "Classifies data by finding the hyperplane that best separates different classes.\n",
        "\n",
        "17. Kernel Trick in SVM:\n",
        "\n",
        "Transforms data into a higher-dimensional space to find a separating hyperplane.\n",
        "\n",
        "18. Types of Kernels:\n",
        "\n",
        "Linear: For linearly separable data.\n",
        "Polynomial: For polynomially separable data.\n",
        "\n",
        "RBF: For non-linearly separable data.\n",
        "\n",
        "19. Hyperplane in SVM:\n",
        "\n",
        "The decision boundary that separates different classes; determined by maximizing the margin between classes.\n",
        "\n",
        "20. Pros and Cons of SVM:\n",
        "\n",
        "Pros: Effective in high-dimensional spaces, clear margin of separation.\n",
        "\n",
        "Cons: Less effective on large datasets, memory-intensive.\n",
        "\n",
        "21. Hard Margin vs. Soft Margin SVM:\n",
        "\n",
        "Hard Margin: No tolerance for misclassification (used with linearly separable data).\n",
        "\n",
        "Soft Margin: Allows some misclassification for better generalization.\n",
        "\n",
        "22. Decision Tree Construction:\n",
        "\n",
        "Split data based on feature values to create branches until reaching leaf nodes with predictions.\n",
        "\n",
        "23. Decision Tree Working Principle:\n",
        "\n",
        "Uses a tree-like model of decisions and their possible consequences.\n",
        "\n",
        "24. Information Gain in Decision Trees:\n",
        "\n",
        "Measures how much uncertainty in the target variable is reduced by splitting on a feature.\n",
        "\n",
        "25. Gini Impurity:\n",
        "\n",
        "Measures the impurity of a node; used to decide the best split in decision trees.\n",
        "\n",
        "26. Advantages and Disadvantages of Decision Trees:\n",
        "\n",
        "Advantages: Easy to understand, handle both numerical and categorical data.\n",
        "\n",
        "Disadvantages: Prone to overfitting, can be unstable.\n",
        "\n",
        "27. Random Forest Improvement:\n",
        "\n",
        "Combines multiple decision trees to improve accuracy and robustness.\n",
        "\n",
        "28. Random Forest Algorithm:\n",
        "\n",
        "Builds multiple decision trees using bootstrapped samples and averages their predictions.\n",
        "\n",
        "29. Bootstrapping in Random Forests:\n",
        "\n",
        "Generating multiple training datasets by sampling with replacement.\n",
        "\n",
        "30. Feature Importance in Random Forests:\n",
        "\n",
        "Measures the contribution of each feature to the model's predictive performance.\n",
        "\n",
        "31. Key Hyperparameters in Random Forests:\n",
        "\n",
        "n_estimators: Number of trees in the forest.\n",
        "\n",
        "max_depth: Maximum depth of the trees.\n",
        "\n",
        "min_samples_split: Minimum number of samples required to split a node.\n",
        "\n",
        "32. Logistic Regression Model:\n",
        "\n",
        "Predicts probabilities for binary outcomes using the sigmoid function.\n",
        "\n",
        "33. Logistic Regression for Binary Classification:\n",
        "\n",
        "Uses the logistic function to model the probability of a binary outcome.\n",
        "\n",
        "34. Sigmoid Function:\n",
        "\n",
        "Maps input values to a range between 0 and 1, used for binary classification probabilities.\n",
        "\n",
        "35. Cost Function in Logistic Regression:\n",
        "\n",
        "Measures the difference between predicted and actual values; optimized to find the best model parameters.\n",
        "\n",
        "36. Multi-class Classification in Logistic Regression:\n",
        "\n",
        "Extended using techniques like one-vs-rest or softmax regression.\n",
        "\n",
        "37. L1 vs. L2 Regularization in Logistic Regression:\n",
        "\n",
        "L1: Encourages sparsity in feature selection.\n",
        "\n",
        "L2: Penalizes large coefficients, encouraging smaller weights.\n",
        "\n",
        "38. XGBoost:\n",
        "\n",
        "An optimized gradient boosting algorithm that improves on other boosting methods with speed and performance enhancements.\n",
        "\n",
        "39. Boosting Concept in Ensemble Learning:\n",
        "\n",
        "Sequentially combines weak learners to create a strong learner, reducing bias and variance.\n",
        "\n",
        "40. Handling Missing Values in XGBoost:\n",
        "\n",
        "XGBoost automatically handles missing values during training by learning the best direction to go.\n",
        "\n",
        "41. Key Hyperparameters in XGBoost:\n",
        "\n",
        "n_estimators: Number of boosting rounds.\n",
        "\n",
        "learning_rate: Step size at each iteration.\n",
        "\n",
        "max_depth: Maximum depth of trees.\n",
        "\n",
        "42. Gradient Boosting in XGBoost:\n",
        "\n",
        "Builds trees sequentially, each one correcting errors of the previous tree.\n",
        "\n",
        "43. Advantages and Disadvantages of XGBoost:\n",
        "\n",
        "Advantages: High performance, handles large datasets, and missing values.\n",
        "\n",
        "Disadvantages: Complex to tune, computationally intensive.\n",
        "\n"
      ],
      "metadata": {
        "id": "tTT1QrQbtBwx"
      }
    },
    {
      "cell_type": "markdown",
      "source": [
        "# Machine learning practical questipn:"
      ],
      "metadata": {
        "id": "yVre4th22yik"
      }
    },
    {
      "cell_type": "markdown",
      "source": [
        "### 2. Do the EDA on the given dataset: Lung cancer, and extract some useful information from this.\n",
        "\n",
        "         \n",
        "\n",
        "Dataset Description:\n",
        "\n",
        "Lung cancer is one of the _ost prevalent and deadly for_s of cancer worldwide, presenting significant\n",
        "challenges in early detection and effective treat_ent. To aid in the global effort to understand and co_bat this\n",
        "disease, we are excited to introduce our co_prehensive Lung Cancer Dataset"
      ],
      "metadata": {
        "id": "3DCggMSl26Zl"
      }
    },
    {
      "cell_type": "code",
      "execution_count": 243,
      "metadata": {
        "id": "mjFTDFcYYWU-"
      },
      "outputs": [],
      "source": [
        "import pandas as pd\n",
        "import numpy as np\n",
        "import seaborn as sns\n",
        "import matplotlib.pyplot as plt\n",
        "%matplotlib inline"
      ]
    },
    {
      "cell_type": "code",
      "source": [
        "df = pd.read_csv('/content/drive/MyDrive/dataset.csv')\n",
        "df.head()"
      ],
      "metadata": {
        "colab": {
          "base_uri": "https://localhost:8080/",
          "height": 226
        },
        "id": "Dd5y8MxnZvYV",
        "outputId": "93e97082-594f-417b-ca24-88ca363e47a2"
      },
      "execution_count": 246,
      "outputs": [
        {
          "output_type": "execute_result",
          "data": {
            "text/plain": [
              "  GENDER  AGE  SMOKING  YELLOW_FINGERS  ANXIETY  PEER_PRESSURE  \\\n",
              "0      M   65        1               1        1              2   \n",
              "1      F   55        1               2        2              1   \n",
              "2      F   78        2               2        1              1   \n",
              "3      M   60        2               1        1              1   \n",
              "4      F   80        1               1        2              1   \n",
              "\n",
              "   CHRONIC_DISEASE  FATIGUE  ALLERGY  WHEEZING  ALCOHOL_CONSUMING  COUGHING  \\\n",
              "0                2        1        2         2                  2         2   \n",
              "1                1        2        2         2                  1         1   \n",
              "2                1        2        1         2                  1         1   \n",
              "3                2        1        2         1                  1         2   \n",
              "4                1        2        1         2                  1         1   \n",
              "\n",
              "   SHORTNESS_OF_BREATH  SWALLOWING_DIFFICULTY  CHEST_PAIN LUNG_CANCER  \n",
              "0                    2                      2           1          NO  \n",
              "1                    1                      2           2          NO  \n",
              "2                    2                      1           1         YES  \n",
              "3                    1                      2           2         YES  \n",
              "4                    1                      1           2          NO  "
            ],
            "text/html": [
              "\n",
              "  <div id=\"df-e9f91aec-e8bf-4f8e-a61a-47e1e5eef418\" class=\"colab-df-container\">\n",
              "    <div>\n",
              "<style scoped>\n",
              "    .dataframe tbody tr th:only-of-type {\n",
              "        vertical-align: middle;\n",
              "    }\n",
              "\n",
              "    .dataframe tbody tr th {\n",
              "        vertical-align: top;\n",
              "    }\n",
              "\n",
              "    .dataframe thead th {\n",
              "        text-align: right;\n",
              "    }\n",
              "</style>\n",
              "<table border=\"1\" class=\"dataframe\">\n",
              "  <thead>\n",
              "    <tr style=\"text-align: right;\">\n",
              "      <th></th>\n",
              "      <th>GENDER</th>\n",
              "      <th>AGE</th>\n",
              "      <th>SMOKING</th>\n",
              "      <th>YELLOW_FINGERS</th>\n",
              "      <th>ANXIETY</th>\n",
              "      <th>PEER_PRESSURE</th>\n",
              "      <th>CHRONIC_DISEASE</th>\n",
              "      <th>FATIGUE</th>\n",
              "      <th>ALLERGY</th>\n",
              "      <th>WHEEZING</th>\n",
              "      <th>ALCOHOL_CONSUMING</th>\n",
              "      <th>COUGHING</th>\n",
              "      <th>SHORTNESS_OF_BREATH</th>\n",
              "      <th>SWALLOWING_DIFFICULTY</th>\n",
              "      <th>CHEST_PAIN</th>\n",
              "      <th>LUNG_CANCER</th>\n",
              "    </tr>\n",
              "  </thead>\n",
              "  <tbody>\n",
              "    <tr>\n",
              "      <th>0</th>\n",
              "      <td>M</td>\n",
              "      <td>65</td>\n",
              "      <td>1</td>\n",
              "      <td>1</td>\n",
              "      <td>1</td>\n",
              "      <td>2</td>\n",
              "      <td>2</td>\n",
              "      <td>1</td>\n",
              "      <td>2</td>\n",
              "      <td>2</td>\n",
              "      <td>2</td>\n",
              "      <td>2</td>\n",
              "      <td>2</td>\n",
              "      <td>2</td>\n",
              "      <td>1</td>\n",
              "      <td>NO</td>\n",
              "    </tr>\n",
              "    <tr>\n",
              "      <th>1</th>\n",
              "      <td>F</td>\n",
              "      <td>55</td>\n",
              "      <td>1</td>\n",
              "      <td>2</td>\n",
              "      <td>2</td>\n",
              "      <td>1</td>\n",
              "      <td>1</td>\n",
              "      <td>2</td>\n",
              "      <td>2</td>\n",
              "      <td>2</td>\n",
              "      <td>1</td>\n",
              "      <td>1</td>\n",
              "      <td>1</td>\n",
              "      <td>2</td>\n",
              "      <td>2</td>\n",
              "      <td>NO</td>\n",
              "    </tr>\n",
              "    <tr>\n",
              "      <th>2</th>\n",
              "      <td>F</td>\n",
              "      <td>78</td>\n",
              "      <td>2</td>\n",
              "      <td>2</td>\n",
              "      <td>1</td>\n",
              "      <td>1</td>\n",
              "      <td>1</td>\n",
              "      <td>2</td>\n",
              "      <td>1</td>\n",
              "      <td>2</td>\n",
              "      <td>1</td>\n",
              "      <td>1</td>\n",
              "      <td>2</td>\n",
              "      <td>1</td>\n",
              "      <td>1</td>\n",
              "      <td>YES</td>\n",
              "    </tr>\n",
              "    <tr>\n",
              "      <th>3</th>\n",
              "      <td>M</td>\n",
              "      <td>60</td>\n",
              "      <td>2</td>\n",
              "      <td>1</td>\n",
              "      <td>1</td>\n",
              "      <td>1</td>\n",
              "      <td>2</td>\n",
              "      <td>1</td>\n",
              "      <td>2</td>\n",
              "      <td>1</td>\n",
              "      <td>1</td>\n",
              "      <td>2</td>\n",
              "      <td>1</td>\n",
              "      <td>2</td>\n",
              "      <td>2</td>\n",
              "      <td>YES</td>\n",
              "    </tr>\n",
              "    <tr>\n",
              "      <th>4</th>\n",
              "      <td>F</td>\n",
              "      <td>80</td>\n",
              "      <td>1</td>\n",
              "      <td>1</td>\n",
              "      <td>2</td>\n",
              "      <td>1</td>\n",
              "      <td>1</td>\n",
              "      <td>2</td>\n",
              "      <td>1</td>\n",
              "      <td>2</td>\n",
              "      <td>1</td>\n",
              "      <td>1</td>\n",
              "      <td>1</td>\n",
              "      <td>1</td>\n",
              "      <td>2</td>\n",
              "      <td>NO</td>\n",
              "    </tr>\n",
              "  </tbody>\n",
              "</table>\n",
              "</div>\n",
              "    <div class=\"colab-df-buttons\">\n",
              "\n",
              "  <div class=\"colab-df-container\">\n",
              "    <button class=\"colab-df-convert\" onclick=\"convertToInteractive('df-e9f91aec-e8bf-4f8e-a61a-47e1e5eef418')\"\n",
              "            title=\"Convert this dataframe to an interactive table.\"\n",
              "            style=\"display:none;\">\n",
              "\n",
              "  <svg xmlns=\"http://www.w3.org/2000/svg\" height=\"24px\" viewBox=\"0 -960 960 960\">\n",
              "    <path d=\"M120-120v-720h720v720H120Zm60-500h600v-160H180v160Zm220 220h160v-160H400v160Zm0 220h160v-160H400v160ZM180-400h160v-160H180v160Zm440 0h160v-160H620v160ZM180-180h160v-160H180v160Zm440 0h160v-160H620v160Z\"/>\n",
              "  </svg>\n",
              "    </button>\n",
              "\n",
              "  <style>\n",
              "    .colab-df-container {\n",
              "      display:flex;\n",
              "      gap: 12px;\n",
              "    }\n",
              "\n",
              "    .colab-df-convert {\n",
              "      background-color: #E8F0FE;\n",
              "      border: none;\n",
              "      border-radius: 50%;\n",
              "      cursor: pointer;\n",
              "      display: none;\n",
              "      fill: #1967D2;\n",
              "      height: 32px;\n",
              "      padding: 0 0 0 0;\n",
              "      width: 32px;\n",
              "    }\n",
              "\n",
              "    .colab-df-convert:hover {\n",
              "      background-color: #E2EBFA;\n",
              "      box-shadow: 0px 1px 2px rgba(60, 64, 67, 0.3), 0px 1px 3px 1px rgba(60, 64, 67, 0.15);\n",
              "      fill: #174EA6;\n",
              "    }\n",
              "\n",
              "    .colab-df-buttons div {\n",
              "      margin-bottom: 4px;\n",
              "    }\n",
              "\n",
              "    [theme=dark] .colab-df-convert {\n",
              "      background-color: #3B4455;\n",
              "      fill: #D2E3FC;\n",
              "    }\n",
              "\n",
              "    [theme=dark] .colab-df-convert:hover {\n",
              "      background-color: #434B5C;\n",
              "      box-shadow: 0px 1px 3px 1px rgba(0, 0, 0, 0.15);\n",
              "      filter: drop-shadow(0px 1px 2px rgba(0, 0, 0, 0.3));\n",
              "      fill: #FFFFFF;\n",
              "    }\n",
              "  </style>\n",
              "\n",
              "    <script>\n",
              "      const buttonEl =\n",
              "        document.querySelector('#df-e9f91aec-e8bf-4f8e-a61a-47e1e5eef418 button.colab-df-convert');\n",
              "      buttonEl.style.display =\n",
              "        google.colab.kernel.accessAllowed ? 'block' : 'none';\n",
              "\n",
              "      async function convertToInteractive(key) {\n",
              "        const element = document.querySelector('#df-e9f91aec-e8bf-4f8e-a61a-47e1e5eef418');\n",
              "        const dataTable =\n",
              "          await google.colab.kernel.invokeFunction('convertToInteractive',\n",
              "                                                    [key], {});\n",
              "        if (!dataTable) return;\n",
              "\n",
              "        const docLinkHtml = 'Like what you see? Visit the ' +\n",
              "          '<a target=\"_blank\" href=https://colab.research.google.com/notebooks/data_table.ipynb>data table notebook</a>'\n",
              "          + ' to learn more about interactive tables.';\n",
              "        element.innerHTML = '';\n",
              "        dataTable['output_type'] = 'display_data';\n",
              "        await google.colab.output.renderOutput(dataTable, element);\n",
              "        const docLink = document.createElement('div');\n",
              "        docLink.innerHTML = docLinkHtml;\n",
              "        element.appendChild(docLink);\n",
              "      }\n",
              "    </script>\n",
              "  </div>\n",
              "\n",
              "\n",
              "<div id=\"df-473bef29-dcdc-4f43-9317-f56142d88286\">\n",
              "  <button class=\"colab-df-quickchart\" onclick=\"quickchart('df-473bef29-dcdc-4f43-9317-f56142d88286')\"\n",
              "            title=\"Suggest charts\"\n",
              "            style=\"display:none;\">\n",
              "\n",
              "<svg xmlns=\"http://www.w3.org/2000/svg\" height=\"24px\"viewBox=\"0 0 24 24\"\n",
              "     width=\"24px\">\n",
              "    <g>\n",
              "        <path d=\"M19 3H5c-1.1 0-2 .9-2 2v14c0 1.1.9 2 2 2h14c1.1 0 2-.9 2-2V5c0-1.1-.9-2-2-2zM9 17H7v-7h2v7zm4 0h-2V7h2v10zm4 0h-2v-4h2v4z\"/>\n",
              "    </g>\n",
              "</svg>\n",
              "  </button>\n",
              "\n",
              "<style>\n",
              "  .colab-df-quickchart {\n",
              "      --bg-color: #E8F0FE;\n",
              "      --fill-color: #1967D2;\n",
              "      --hover-bg-color: #E2EBFA;\n",
              "      --hover-fill-color: #174EA6;\n",
              "      --disabled-fill-color: #AAA;\n",
              "      --disabled-bg-color: #DDD;\n",
              "  }\n",
              "\n",
              "  [theme=dark] .colab-df-quickchart {\n",
              "      --bg-color: #3B4455;\n",
              "      --fill-color: #D2E3FC;\n",
              "      --hover-bg-color: #434B5C;\n",
              "      --hover-fill-color: #FFFFFF;\n",
              "      --disabled-bg-color: #3B4455;\n",
              "      --disabled-fill-color: #666;\n",
              "  }\n",
              "\n",
              "  .colab-df-quickchart {\n",
              "    background-color: var(--bg-color);\n",
              "    border: none;\n",
              "    border-radius: 50%;\n",
              "    cursor: pointer;\n",
              "    display: none;\n",
              "    fill: var(--fill-color);\n",
              "    height: 32px;\n",
              "    padding: 0;\n",
              "    width: 32px;\n",
              "  }\n",
              "\n",
              "  .colab-df-quickchart:hover {\n",
              "    background-color: var(--hover-bg-color);\n",
              "    box-shadow: 0 1px 2px rgba(60, 64, 67, 0.3), 0 1px 3px 1px rgba(60, 64, 67, 0.15);\n",
              "    fill: var(--button-hover-fill-color);\n",
              "  }\n",
              "\n",
              "  .colab-df-quickchart-complete:disabled,\n",
              "  .colab-df-quickchart-complete:disabled:hover {\n",
              "    background-color: var(--disabled-bg-color);\n",
              "    fill: var(--disabled-fill-color);\n",
              "    box-shadow: none;\n",
              "  }\n",
              "\n",
              "  .colab-df-spinner {\n",
              "    border: 2px solid var(--fill-color);\n",
              "    border-color: transparent;\n",
              "    border-bottom-color: var(--fill-color);\n",
              "    animation:\n",
              "      spin 1s steps(1) infinite;\n",
              "  }\n",
              "\n",
              "  @keyframes spin {\n",
              "    0% {\n",
              "      border-color: transparent;\n",
              "      border-bottom-color: var(--fill-color);\n",
              "      border-left-color: var(--fill-color);\n",
              "    }\n",
              "    20% {\n",
              "      border-color: transparent;\n",
              "      border-left-color: var(--fill-color);\n",
              "      border-top-color: var(--fill-color);\n",
              "    }\n",
              "    30% {\n",
              "      border-color: transparent;\n",
              "      border-left-color: var(--fill-color);\n",
              "      border-top-color: var(--fill-color);\n",
              "      border-right-color: var(--fill-color);\n",
              "    }\n",
              "    40% {\n",
              "      border-color: transparent;\n",
              "      border-right-color: var(--fill-color);\n",
              "      border-top-color: var(--fill-color);\n",
              "    }\n",
              "    60% {\n",
              "      border-color: transparent;\n",
              "      border-right-color: var(--fill-color);\n",
              "    }\n",
              "    80% {\n",
              "      border-color: transparent;\n",
              "      border-right-color: var(--fill-color);\n",
              "      border-bottom-color: var(--fill-color);\n",
              "    }\n",
              "    90% {\n",
              "      border-color: transparent;\n",
              "      border-bottom-color: var(--fill-color);\n",
              "    }\n",
              "  }\n",
              "</style>\n",
              "\n",
              "  <script>\n",
              "    async function quickchart(key) {\n",
              "      const quickchartButtonEl =\n",
              "        document.querySelector('#' + key + ' button');\n",
              "      quickchartButtonEl.disabled = true;  // To prevent multiple clicks.\n",
              "      quickchartButtonEl.classList.add('colab-df-spinner');\n",
              "      try {\n",
              "        const charts = await google.colab.kernel.invokeFunction(\n",
              "            'suggestCharts', [key], {});\n",
              "      } catch (error) {\n",
              "        console.error('Error during call to suggestCharts:', error);\n",
              "      }\n",
              "      quickchartButtonEl.classList.remove('colab-df-spinner');\n",
              "      quickchartButtonEl.classList.add('colab-df-quickchart-complete');\n",
              "    }\n",
              "    (() => {\n",
              "      let quickchartButtonEl =\n",
              "        document.querySelector('#df-473bef29-dcdc-4f43-9317-f56142d88286 button');\n",
              "      quickchartButtonEl.style.display =\n",
              "        google.colab.kernel.accessAllowed ? 'block' : 'none';\n",
              "    })();\n",
              "  </script>\n",
              "</div>\n",
              "\n",
              "    </div>\n",
              "  </div>\n"
            ],
            "application/vnd.google.colaboratory.intrinsic+json": {
              "type": "dataframe",
              "variable_name": "df",
              "summary": "{\n  \"name\": \"df\",\n  \"rows\": 3000,\n  \"fields\": [\n    {\n      \"column\": \"GENDER\",\n      \"properties\": {\n        \"dtype\": \"category\",\n        \"num_unique_values\": 2,\n        \"samples\": [\n          \"F\",\n          \"M\"\n        ],\n        \"semantic_type\": \"\",\n        \"description\": \"\"\n      }\n    },\n    {\n      \"column\": \"AGE\",\n      \"properties\": {\n        \"dtype\": \"number\",\n        \"std\": 14,\n        \"min\": 30,\n        \"max\": 80,\n        \"num_unique_values\": 51,\n        \"samples\": [\n          73,\n          52\n        ],\n        \"semantic_type\": \"\",\n        \"description\": \"\"\n      }\n    },\n    {\n      \"column\": \"SMOKING\",\n      \"properties\": {\n        \"dtype\": \"number\",\n        \"std\": 0,\n        \"min\": 1,\n        \"max\": 2,\n        \"num_unique_values\": 2,\n        \"samples\": [\n          2,\n          1\n        ],\n        \"semantic_type\": \"\",\n        \"description\": \"\"\n      }\n    },\n    {\n      \"column\": \"YELLOW_FINGERS\",\n      \"properties\": {\n        \"dtype\": \"number\",\n        \"std\": 0,\n        \"min\": 1,\n        \"max\": 2,\n        \"num_unique_values\": 2,\n        \"samples\": [\n          2,\n          1\n        ],\n        \"semantic_type\": \"\",\n        \"description\": \"\"\n      }\n    },\n    {\n      \"column\": \"ANXIETY\",\n      \"properties\": {\n        \"dtype\": \"number\",\n        \"std\": 0,\n        \"min\": 1,\n        \"max\": 2,\n        \"num_unique_values\": 2,\n        \"samples\": [\n          2,\n          1\n        ],\n        \"semantic_type\": \"\",\n        \"description\": \"\"\n      }\n    },\n    {\n      \"column\": \"PEER_PRESSURE\",\n      \"properties\": {\n        \"dtype\": \"number\",\n        \"std\": 0,\n        \"min\": 1,\n        \"max\": 2,\n        \"num_unique_values\": 2,\n        \"samples\": [\n          1,\n          2\n        ],\n        \"semantic_type\": \"\",\n        \"description\": \"\"\n      }\n    },\n    {\n      \"column\": \"CHRONIC_DISEASE\",\n      \"properties\": {\n        \"dtype\": \"number\",\n        \"std\": 0,\n        \"min\": 1,\n        \"max\": 2,\n        \"num_unique_values\": 2,\n        \"samples\": [\n          1,\n          2\n        ],\n        \"semantic_type\": \"\",\n        \"description\": \"\"\n      }\n    },\n    {\n      \"column\": \"FATIGUE\",\n      \"properties\": {\n        \"dtype\": \"number\",\n        \"std\": 0,\n        \"min\": 1,\n        \"max\": 2,\n        \"num_unique_values\": 2,\n        \"samples\": [\n          2,\n          1\n        ],\n        \"semantic_type\": \"\",\n        \"description\": \"\"\n      }\n    },\n    {\n      \"column\": \"ALLERGY\",\n      \"properties\": {\n        \"dtype\": \"number\",\n        \"std\": 0,\n        \"min\": 1,\n        \"max\": 2,\n        \"num_unique_values\": 2,\n        \"samples\": [\n          1,\n          2\n        ],\n        \"semantic_type\": \"\",\n        \"description\": \"\"\n      }\n    },\n    {\n      \"column\": \"WHEEZING\",\n      \"properties\": {\n        \"dtype\": \"number\",\n        \"std\": 0,\n        \"min\": 1,\n        \"max\": 2,\n        \"num_unique_values\": 2,\n        \"samples\": [\n          1,\n          2\n        ],\n        \"semantic_type\": \"\",\n        \"description\": \"\"\n      }\n    },\n    {\n      \"column\": \"ALCOHOL_CONSUMING\",\n      \"properties\": {\n        \"dtype\": \"number\",\n        \"std\": 0,\n        \"min\": 1,\n        \"max\": 2,\n        \"num_unique_values\": 2,\n        \"samples\": [\n          1,\n          2\n        ],\n        \"semantic_type\": \"\",\n        \"description\": \"\"\n      }\n    },\n    {\n      \"column\": \"COUGHING\",\n      \"properties\": {\n        \"dtype\": \"number\",\n        \"std\": 0,\n        \"min\": 1,\n        \"max\": 2,\n        \"num_unique_values\": 2,\n        \"samples\": [\n          1,\n          2\n        ],\n        \"semantic_type\": \"\",\n        \"description\": \"\"\n      }\n    },\n    {\n      \"column\": \"SHORTNESS_OF_BREATH\",\n      \"properties\": {\n        \"dtype\": \"number\",\n        \"std\": 0,\n        \"min\": 1,\n        \"max\": 2,\n        \"num_unique_values\": 2,\n        \"samples\": [\n          1,\n          2\n        ],\n        \"semantic_type\": \"\",\n        \"description\": \"\"\n      }\n    },\n    {\n      \"column\": \"SWALLOWING_DIFFICULTY\",\n      \"properties\": {\n        \"dtype\": \"number\",\n        \"std\": 0,\n        \"min\": 1,\n        \"max\": 2,\n        \"num_unique_values\": 2,\n        \"samples\": [\n          1,\n          2\n        ],\n        \"semantic_type\": \"\",\n        \"description\": \"\"\n      }\n    },\n    {\n      \"column\": \"CHEST_PAIN\",\n      \"properties\": {\n        \"dtype\": \"number\",\n        \"std\": 0,\n        \"min\": 1,\n        \"max\": 2,\n        \"num_unique_values\": 2,\n        \"samples\": [\n          2,\n          1\n        ],\n        \"semantic_type\": \"\",\n        \"description\": \"\"\n      }\n    },\n    {\n      \"column\": \"LUNG_CANCER\",\n      \"properties\": {\n        \"dtype\": \"category\",\n        \"num_unique_values\": 2,\n        \"samples\": [\n          \"YES\",\n          \"NO\"\n        ],\n        \"semantic_type\": \"\",\n        \"description\": \"\"\n      }\n    }\n  ]\n}"
            }
          },
          "metadata": {},
          "execution_count": 246
        }
      ]
    },
    {
      "cell_type": "code",
      "source": [
        "df.shape"
      ],
      "metadata": {
        "colab": {
          "base_uri": "https://localhost:8080/"
        },
        "id": "6N-w1y8CZvlJ",
        "outputId": "1912b2c9-45ea-4062-ad92-19f499a6403d"
      },
      "execution_count": 247,
      "outputs": [
        {
          "output_type": "execute_result",
          "data": {
            "text/plain": [
              "(3000, 16)"
            ]
          },
          "metadata": {},
          "execution_count": 247
        }
      ]
    },
    {
      "cell_type": "code",
      "source": [
        "df.duplicated().sum()"
      ],
      "metadata": {
        "colab": {
          "base_uri": "https://localhost:8080/"
        },
        "id": "udrZg9MR32F0",
        "outputId": "6b88c42f-e387-491f-d805-6bf00cea064d"
      },
      "execution_count": 248,
      "outputs": [
        {
          "output_type": "execute_result",
          "data": {
            "text/plain": [
              "2"
            ]
          },
          "metadata": {},
          "execution_count": 248
        }
      ]
    },
    {
      "cell_type": "code",
      "source": [
        "df.info()"
      ],
      "metadata": {
        "colab": {
          "base_uri": "https://localhost:8080/"
        },
        "id": "2gWkOFEKZvn_",
        "outputId": "5d08f8e0-5721-4b6b-a3ab-d80ba6fe74a3"
      },
      "execution_count": 249,
      "outputs": [
        {
          "output_type": "stream",
          "name": "stdout",
          "text": [
            "<class 'pandas.core.frame.DataFrame'>\n",
            "RangeIndex: 3000 entries, 0 to 2999\n",
            "Data columns (total 16 columns):\n",
            " #   Column                 Non-Null Count  Dtype \n",
            "---  ------                 --------------  ----- \n",
            " 0   GENDER                 3000 non-null   object\n",
            " 1   AGE                    3000 non-null   int64 \n",
            " 2   SMOKING                3000 non-null   int64 \n",
            " 3   YELLOW_FINGERS         3000 non-null   int64 \n",
            " 4   ANXIETY                3000 non-null   int64 \n",
            " 5   PEER_PRESSURE          3000 non-null   int64 \n",
            " 6   CHRONIC_DISEASE        3000 non-null   int64 \n",
            " 7   FATIGUE                3000 non-null   int64 \n",
            " 8   ALLERGY                3000 non-null   int64 \n",
            " 9   WHEEZING               3000 non-null   int64 \n",
            " 10  ALCOHOL_CONSUMING      3000 non-null   int64 \n",
            " 11  COUGHING               3000 non-null   int64 \n",
            " 12  SHORTNESS_OF_BREATH    3000 non-null   int64 \n",
            " 13  SWALLOWING_DIFFICULTY  3000 non-null   int64 \n",
            " 14  CHEST_PAIN             3000 non-null   int64 \n",
            " 15  LUNG_CANCER            3000 non-null   object\n",
            "dtypes: int64(14), object(2)\n",
            "memory usage: 375.1+ KB\n"
          ]
        }
      ]
    },
    {
      "cell_type": "code",
      "source": [
        "# null values in data\n",
        "df.isna().sum()"
      ],
      "metadata": {
        "colab": {
          "base_uri": "https://localhost:8080/",
          "height": 585
        },
        "id": "4F4C1fb2Zvqm",
        "outputId": "3f445909-96f0-42fc-9e70-b762e6d6faab"
      },
      "execution_count": 250,
      "outputs": [
        {
          "output_type": "execute_result",
          "data": {
            "text/plain": [
              "GENDER                   0\n",
              "AGE                      0\n",
              "SMOKING                  0\n",
              "YELLOW_FINGERS           0\n",
              "ANXIETY                  0\n",
              "PEER_PRESSURE            0\n",
              "CHRONIC_DISEASE          0\n",
              "FATIGUE                  0\n",
              "ALLERGY                  0\n",
              "WHEEZING                 0\n",
              "ALCOHOL_CONSUMING        0\n",
              "COUGHING                 0\n",
              "SHORTNESS_OF_BREATH      0\n",
              "SWALLOWING_DIFFICULTY    0\n",
              "CHEST_PAIN               0\n",
              "LUNG_CANCER              0\n",
              "dtype: int64"
            ],
            "text/html": [
              "<div>\n",
              "<style scoped>\n",
              "    .dataframe tbody tr th:only-of-type {\n",
              "        vertical-align: middle;\n",
              "    }\n",
              "\n",
              "    .dataframe tbody tr th {\n",
              "        vertical-align: top;\n",
              "    }\n",
              "\n",
              "    .dataframe thead th {\n",
              "        text-align: right;\n",
              "    }\n",
              "</style>\n",
              "<table border=\"1\" class=\"dataframe\">\n",
              "  <thead>\n",
              "    <tr style=\"text-align: right;\">\n",
              "      <th></th>\n",
              "      <th>0</th>\n",
              "    </tr>\n",
              "  </thead>\n",
              "  <tbody>\n",
              "    <tr>\n",
              "      <th>GENDER</th>\n",
              "      <td>0</td>\n",
              "    </tr>\n",
              "    <tr>\n",
              "      <th>AGE</th>\n",
              "      <td>0</td>\n",
              "    </tr>\n",
              "    <tr>\n",
              "      <th>SMOKING</th>\n",
              "      <td>0</td>\n",
              "    </tr>\n",
              "    <tr>\n",
              "      <th>YELLOW_FINGERS</th>\n",
              "      <td>0</td>\n",
              "    </tr>\n",
              "    <tr>\n",
              "      <th>ANXIETY</th>\n",
              "      <td>0</td>\n",
              "    </tr>\n",
              "    <tr>\n",
              "      <th>PEER_PRESSURE</th>\n",
              "      <td>0</td>\n",
              "    </tr>\n",
              "    <tr>\n",
              "      <th>CHRONIC_DISEASE</th>\n",
              "      <td>0</td>\n",
              "    </tr>\n",
              "    <tr>\n",
              "      <th>FATIGUE</th>\n",
              "      <td>0</td>\n",
              "    </tr>\n",
              "    <tr>\n",
              "      <th>ALLERGY</th>\n",
              "      <td>0</td>\n",
              "    </tr>\n",
              "    <tr>\n",
              "      <th>WHEEZING</th>\n",
              "      <td>0</td>\n",
              "    </tr>\n",
              "    <tr>\n",
              "      <th>ALCOHOL_CONSUMING</th>\n",
              "      <td>0</td>\n",
              "    </tr>\n",
              "    <tr>\n",
              "      <th>COUGHING</th>\n",
              "      <td>0</td>\n",
              "    </tr>\n",
              "    <tr>\n",
              "      <th>SHORTNESS_OF_BREATH</th>\n",
              "      <td>0</td>\n",
              "    </tr>\n",
              "    <tr>\n",
              "      <th>SWALLOWING_DIFFICULTY</th>\n",
              "      <td>0</td>\n",
              "    </tr>\n",
              "    <tr>\n",
              "      <th>CHEST_PAIN</th>\n",
              "      <td>0</td>\n",
              "    </tr>\n",
              "    <tr>\n",
              "      <th>LUNG_CANCER</th>\n",
              "      <td>0</td>\n",
              "    </tr>\n",
              "  </tbody>\n",
              "</table>\n",
              "</div><br><label><b>dtype:</b> int64</label>"
            ]
          },
          "metadata": {},
          "execution_count": 250
        }
      ]
    },
    {
      "cell_type": "code",
      "source": [
        "# make class of age\n",
        "df['AGE_class'] = pd.cut(df['AGE'], bins = 10, labels = ['30-35','36-40','41-45','46-50','51-55','56-60','61-65','65-70','71-75','75-80'] )"
      ],
      "metadata": {
        "id": "7PuEJsftZvtW"
      },
      "execution_count": 251,
      "outputs": []
    },
    {
      "cell_type": "code",
      "source": [
        "df.describe()"
      ],
      "metadata": {
        "colab": {
          "base_uri": "https://localhost:8080/",
          "height": 320
        },
        "id": "Mb7EIn-tZvv_",
        "outputId": "666d027b-8cb9-45ec-99c0-17d8480aaa54"
      },
      "execution_count": 252,
      "outputs": [
        {
          "output_type": "execute_result",
          "data": {
            "text/plain": [
              "               AGE      SMOKING  YELLOW_FINGERS      ANXIETY  PEER_PRESSURE  \\\n",
              "count  3000.000000  3000.000000     3000.000000  3000.000000    3000.000000   \n",
              "mean     55.169000     1.491000        1.514000     1.494000       1.499000   \n",
              "std      14.723746     0.500002        0.499887     0.500047       0.500082   \n",
              "min      30.000000     1.000000        1.000000     1.000000       1.000000   \n",
              "25%      42.000000     1.000000        1.000000     1.000000       1.000000   \n",
              "50%      55.000000     1.000000        2.000000     1.000000       1.000000   \n",
              "75%      68.000000     2.000000        2.000000     2.000000       2.000000   \n",
              "max      80.000000     2.000000        2.000000     2.000000       2.000000   \n",
              "\n",
              "       CHRONIC_DISEASE      FATIGUE      ALLERGY     WHEEZING  \\\n",
              "count      3000.000000  3000.000000  3000.000000  3000.000000   \n",
              "mean          1.509667     1.489667     1.506667     1.497333   \n",
              "std           0.499990     0.499977     0.500039     0.500076   \n",
              "min           1.000000     1.000000     1.000000     1.000000   \n",
              "25%           1.000000     1.000000     1.000000     1.000000   \n",
              "50%           2.000000     1.000000     2.000000     1.000000   \n",
              "75%           2.000000     2.000000     2.000000     2.000000   \n",
              "max           2.000000     2.000000     2.000000     2.000000   \n",
              "\n",
              "       ALCOHOL_CONSUMING     COUGHING  SHORTNESS_OF_BREATH  \\\n",
              "count        3000.000000  3000.000000          3000.000000   \n",
              "mean            1.491333     1.510667             1.488000   \n",
              "std             0.500008     0.499970             0.499939   \n",
              "min             1.000000     1.000000             1.000000   \n",
              "25%             1.000000     1.000000             1.000000   \n",
              "50%             1.000000     2.000000             1.000000   \n",
              "75%             2.000000     2.000000             2.000000   \n",
              "max             2.000000     2.000000             2.000000   \n",
              "\n",
              "       SWALLOWING_DIFFICULTY   CHEST_PAIN  \n",
              "count            3000.000000  3000.000000  \n",
              "mean                1.489667     1.498667  \n",
              "std                 0.499977     0.500082  \n",
              "min                 1.000000     1.000000  \n",
              "25%                 1.000000     1.000000  \n",
              "50%                 1.000000     1.000000  \n",
              "75%                 2.000000     2.000000  \n",
              "max                 2.000000     2.000000  "
            ],
            "text/html": [
              "\n",
              "  <div id=\"df-5a28d10a-6c96-433c-8686-f9c137a30a3a\" class=\"colab-df-container\">\n",
              "    <div>\n",
              "<style scoped>\n",
              "    .dataframe tbody tr th:only-of-type {\n",
              "        vertical-align: middle;\n",
              "    }\n",
              "\n",
              "    .dataframe tbody tr th {\n",
              "        vertical-align: top;\n",
              "    }\n",
              "\n",
              "    .dataframe thead th {\n",
              "        text-align: right;\n",
              "    }\n",
              "</style>\n",
              "<table border=\"1\" class=\"dataframe\">\n",
              "  <thead>\n",
              "    <tr style=\"text-align: right;\">\n",
              "      <th></th>\n",
              "      <th>AGE</th>\n",
              "      <th>SMOKING</th>\n",
              "      <th>YELLOW_FINGERS</th>\n",
              "      <th>ANXIETY</th>\n",
              "      <th>PEER_PRESSURE</th>\n",
              "      <th>CHRONIC_DISEASE</th>\n",
              "      <th>FATIGUE</th>\n",
              "      <th>ALLERGY</th>\n",
              "      <th>WHEEZING</th>\n",
              "      <th>ALCOHOL_CONSUMING</th>\n",
              "      <th>COUGHING</th>\n",
              "      <th>SHORTNESS_OF_BREATH</th>\n",
              "      <th>SWALLOWING_DIFFICULTY</th>\n",
              "      <th>CHEST_PAIN</th>\n",
              "    </tr>\n",
              "  </thead>\n",
              "  <tbody>\n",
              "    <tr>\n",
              "      <th>count</th>\n",
              "      <td>3000.000000</td>\n",
              "      <td>3000.000000</td>\n",
              "      <td>3000.000000</td>\n",
              "      <td>3000.000000</td>\n",
              "      <td>3000.000000</td>\n",
              "      <td>3000.000000</td>\n",
              "      <td>3000.000000</td>\n",
              "      <td>3000.000000</td>\n",
              "      <td>3000.000000</td>\n",
              "      <td>3000.000000</td>\n",
              "      <td>3000.000000</td>\n",
              "      <td>3000.000000</td>\n",
              "      <td>3000.000000</td>\n",
              "      <td>3000.000000</td>\n",
              "    </tr>\n",
              "    <tr>\n",
              "      <th>mean</th>\n",
              "      <td>55.169000</td>\n",
              "      <td>1.491000</td>\n",
              "      <td>1.514000</td>\n",
              "      <td>1.494000</td>\n",
              "      <td>1.499000</td>\n",
              "      <td>1.509667</td>\n",
              "      <td>1.489667</td>\n",
              "      <td>1.506667</td>\n",
              "      <td>1.497333</td>\n",
              "      <td>1.491333</td>\n",
              "      <td>1.510667</td>\n",
              "      <td>1.488000</td>\n",
              "      <td>1.489667</td>\n",
              "      <td>1.498667</td>\n",
              "    </tr>\n",
              "    <tr>\n",
              "      <th>std</th>\n",
              "      <td>14.723746</td>\n",
              "      <td>0.500002</td>\n",
              "      <td>0.499887</td>\n",
              "      <td>0.500047</td>\n",
              "      <td>0.500082</td>\n",
              "      <td>0.499990</td>\n",
              "      <td>0.499977</td>\n",
              "      <td>0.500039</td>\n",
              "      <td>0.500076</td>\n",
              "      <td>0.500008</td>\n",
              "      <td>0.499970</td>\n",
              "      <td>0.499939</td>\n",
              "      <td>0.499977</td>\n",
              "      <td>0.500082</td>\n",
              "    </tr>\n",
              "    <tr>\n",
              "      <th>min</th>\n",
              "      <td>30.000000</td>\n",
              "      <td>1.000000</td>\n",
              "      <td>1.000000</td>\n",
              "      <td>1.000000</td>\n",
              "      <td>1.000000</td>\n",
              "      <td>1.000000</td>\n",
              "      <td>1.000000</td>\n",
              "      <td>1.000000</td>\n",
              "      <td>1.000000</td>\n",
              "      <td>1.000000</td>\n",
              "      <td>1.000000</td>\n",
              "      <td>1.000000</td>\n",
              "      <td>1.000000</td>\n",
              "      <td>1.000000</td>\n",
              "    </tr>\n",
              "    <tr>\n",
              "      <th>25%</th>\n",
              "      <td>42.000000</td>\n",
              "      <td>1.000000</td>\n",
              "      <td>1.000000</td>\n",
              "      <td>1.000000</td>\n",
              "      <td>1.000000</td>\n",
              "      <td>1.000000</td>\n",
              "      <td>1.000000</td>\n",
              "      <td>1.000000</td>\n",
              "      <td>1.000000</td>\n",
              "      <td>1.000000</td>\n",
              "      <td>1.000000</td>\n",
              "      <td>1.000000</td>\n",
              "      <td>1.000000</td>\n",
              "      <td>1.000000</td>\n",
              "    </tr>\n",
              "    <tr>\n",
              "      <th>50%</th>\n",
              "      <td>55.000000</td>\n",
              "      <td>1.000000</td>\n",
              "      <td>2.000000</td>\n",
              "      <td>1.000000</td>\n",
              "      <td>1.000000</td>\n",
              "      <td>2.000000</td>\n",
              "      <td>1.000000</td>\n",
              "      <td>2.000000</td>\n",
              "      <td>1.000000</td>\n",
              "      <td>1.000000</td>\n",
              "      <td>2.000000</td>\n",
              "      <td>1.000000</td>\n",
              "      <td>1.000000</td>\n",
              "      <td>1.000000</td>\n",
              "    </tr>\n",
              "    <tr>\n",
              "      <th>75%</th>\n",
              "      <td>68.000000</td>\n",
              "      <td>2.000000</td>\n",
              "      <td>2.000000</td>\n",
              "      <td>2.000000</td>\n",
              "      <td>2.000000</td>\n",
              "      <td>2.000000</td>\n",
              "      <td>2.000000</td>\n",
              "      <td>2.000000</td>\n",
              "      <td>2.000000</td>\n",
              "      <td>2.000000</td>\n",
              "      <td>2.000000</td>\n",
              "      <td>2.000000</td>\n",
              "      <td>2.000000</td>\n",
              "      <td>2.000000</td>\n",
              "    </tr>\n",
              "    <tr>\n",
              "      <th>max</th>\n",
              "      <td>80.000000</td>\n",
              "      <td>2.000000</td>\n",
              "      <td>2.000000</td>\n",
              "      <td>2.000000</td>\n",
              "      <td>2.000000</td>\n",
              "      <td>2.000000</td>\n",
              "      <td>2.000000</td>\n",
              "      <td>2.000000</td>\n",
              "      <td>2.000000</td>\n",
              "      <td>2.000000</td>\n",
              "      <td>2.000000</td>\n",
              "      <td>2.000000</td>\n",
              "      <td>2.000000</td>\n",
              "      <td>2.000000</td>\n",
              "    </tr>\n",
              "  </tbody>\n",
              "</table>\n",
              "</div>\n",
              "    <div class=\"colab-df-buttons\">\n",
              "\n",
              "  <div class=\"colab-df-container\">\n",
              "    <button class=\"colab-df-convert\" onclick=\"convertToInteractive('df-5a28d10a-6c96-433c-8686-f9c137a30a3a')\"\n",
              "            title=\"Convert this dataframe to an interactive table.\"\n",
              "            style=\"display:none;\">\n",
              "\n",
              "  <svg xmlns=\"http://www.w3.org/2000/svg\" height=\"24px\" viewBox=\"0 -960 960 960\">\n",
              "    <path d=\"M120-120v-720h720v720H120Zm60-500h600v-160H180v160Zm220 220h160v-160H400v160Zm0 220h160v-160H400v160ZM180-400h160v-160H180v160Zm440 0h160v-160H620v160ZM180-180h160v-160H180v160Zm440 0h160v-160H620v160Z\"/>\n",
              "  </svg>\n",
              "    </button>\n",
              "\n",
              "  <style>\n",
              "    .colab-df-container {\n",
              "      display:flex;\n",
              "      gap: 12px;\n",
              "    }\n",
              "\n",
              "    .colab-df-convert {\n",
              "      background-color: #E8F0FE;\n",
              "      border: none;\n",
              "      border-radius: 50%;\n",
              "      cursor: pointer;\n",
              "      display: none;\n",
              "      fill: #1967D2;\n",
              "      height: 32px;\n",
              "      padding: 0 0 0 0;\n",
              "      width: 32px;\n",
              "    }\n",
              "\n",
              "    .colab-df-convert:hover {\n",
              "      background-color: #E2EBFA;\n",
              "      box-shadow: 0px 1px 2px rgba(60, 64, 67, 0.3), 0px 1px 3px 1px rgba(60, 64, 67, 0.15);\n",
              "      fill: #174EA6;\n",
              "    }\n",
              "\n",
              "    .colab-df-buttons div {\n",
              "      margin-bottom: 4px;\n",
              "    }\n",
              "\n",
              "    [theme=dark] .colab-df-convert {\n",
              "      background-color: #3B4455;\n",
              "      fill: #D2E3FC;\n",
              "    }\n",
              "\n",
              "    [theme=dark] .colab-df-convert:hover {\n",
              "      background-color: #434B5C;\n",
              "      box-shadow: 0px 1px 3px 1px rgba(0, 0, 0, 0.15);\n",
              "      filter: drop-shadow(0px 1px 2px rgba(0, 0, 0, 0.3));\n",
              "      fill: #FFFFFF;\n",
              "    }\n",
              "  </style>\n",
              "\n",
              "    <script>\n",
              "      const buttonEl =\n",
              "        document.querySelector('#df-5a28d10a-6c96-433c-8686-f9c137a30a3a button.colab-df-convert');\n",
              "      buttonEl.style.display =\n",
              "        google.colab.kernel.accessAllowed ? 'block' : 'none';\n",
              "\n",
              "      async function convertToInteractive(key) {\n",
              "        const element = document.querySelector('#df-5a28d10a-6c96-433c-8686-f9c137a30a3a');\n",
              "        const dataTable =\n",
              "          await google.colab.kernel.invokeFunction('convertToInteractive',\n",
              "                                                    [key], {});\n",
              "        if (!dataTable) return;\n",
              "\n",
              "        const docLinkHtml = 'Like what you see? Visit the ' +\n",
              "          '<a target=\"_blank\" href=https://colab.research.google.com/notebooks/data_table.ipynb>data table notebook</a>'\n",
              "          + ' to learn more about interactive tables.';\n",
              "        element.innerHTML = '';\n",
              "        dataTable['output_type'] = 'display_data';\n",
              "        await google.colab.output.renderOutput(dataTable, element);\n",
              "        const docLink = document.createElement('div');\n",
              "        docLink.innerHTML = docLinkHtml;\n",
              "        element.appendChild(docLink);\n",
              "      }\n",
              "    </script>\n",
              "  </div>\n",
              "\n",
              "\n",
              "<div id=\"df-f232447f-73e6-41b1-906a-0057a5f5de68\">\n",
              "  <button class=\"colab-df-quickchart\" onclick=\"quickchart('df-f232447f-73e6-41b1-906a-0057a5f5de68')\"\n",
              "            title=\"Suggest charts\"\n",
              "            style=\"display:none;\">\n",
              "\n",
              "<svg xmlns=\"http://www.w3.org/2000/svg\" height=\"24px\"viewBox=\"0 0 24 24\"\n",
              "     width=\"24px\">\n",
              "    <g>\n",
              "        <path d=\"M19 3H5c-1.1 0-2 .9-2 2v14c0 1.1.9 2 2 2h14c1.1 0 2-.9 2-2V5c0-1.1-.9-2-2-2zM9 17H7v-7h2v7zm4 0h-2V7h2v10zm4 0h-2v-4h2v4z\"/>\n",
              "    </g>\n",
              "</svg>\n",
              "  </button>\n",
              "\n",
              "<style>\n",
              "  .colab-df-quickchart {\n",
              "      --bg-color: #E8F0FE;\n",
              "      --fill-color: #1967D2;\n",
              "      --hover-bg-color: #E2EBFA;\n",
              "      --hover-fill-color: #174EA6;\n",
              "      --disabled-fill-color: #AAA;\n",
              "      --disabled-bg-color: #DDD;\n",
              "  }\n",
              "\n",
              "  [theme=dark] .colab-df-quickchart {\n",
              "      --bg-color: #3B4455;\n",
              "      --fill-color: #D2E3FC;\n",
              "      --hover-bg-color: #434B5C;\n",
              "      --hover-fill-color: #FFFFFF;\n",
              "      --disabled-bg-color: #3B4455;\n",
              "      --disabled-fill-color: #666;\n",
              "  }\n",
              "\n",
              "  .colab-df-quickchart {\n",
              "    background-color: var(--bg-color);\n",
              "    border: none;\n",
              "    border-radius: 50%;\n",
              "    cursor: pointer;\n",
              "    display: none;\n",
              "    fill: var(--fill-color);\n",
              "    height: 32px;\n",
              "    padding: 0;\n",
              "    width: 32px;\n",
              "  }\n",
              "\n",
              "  .colab-df-quickchart:hover {\n",
              "    background-color: var(--hover-bg-color);\n",
              "    box-shadow: 0 1px 2px rgba(60, 64, 67, 0.3), 0 1px 3px 1px rgba(60, 64, 67, 0.15);\n",
              "    fill: var(--button-hover-fill-color);\n",
              "  }\n",
              "\n",
              "  .colab-df-quickchart-complete:disabled,\n",
              "  .colab-df-quickchart-complete:disabled:hover {\n",
              "    background-color: var(--disabled-bg-color);\n",
              "    fill: var(--disabled-fill-color);\n",
              "    box-shadow: none;\n",
              "  }\n",
              "\n",
              "  .colab-df-spinner {\n",
              "    border: 2px solid var(--fill-color);\n",
              "    border-color: transparent;\n",
              "    border-bottom-color: var(--fill-color);\n",
              "    animation:\n",
              "      spin 1s steps(1) infinite;\n",
              "  }\n",
              "\n",
              "  @keyframes spin {\n",
              "    0% {\n",
              "      border-color: transparent;\n",
              "      border-bottom-color: var(--fill-color);\n",
              "      border-left-color: var(--fill-color);\n",
              "    }\n",
              "    20% {\n",
              "      border-color: transparent;\n",
              "      border-left-color: var(--fill-color);\n",
              "      border-top-color: var(--fill-color);\n",
              "    }\n",
              "    30% {\n",
              "      border-color: transparent;\n",
              "      border-left-color: var(--fill-color);\n",
              "      border-top-color: var(--fill-color);\n",
              "      border-right-color: var(--fill-color);\n",
              "    }\n",
              "    40% {\n",
              "      border-color: transparent;\n",
              "      border-right-color: var(--fill-color);\n",
              "      border-top-color: var(--fill-color);\n",
              "    }\n",
              "    60% {\n",
              "      border-color: transparent;\n",
              "      border-right-color: var(--fill-color);\n",
              "    }\n",
              "    80% {\n",
              "      border-color: transparent;\n",
              "      border-right-color: var(--fill-color);\n",
              "      border-bottom-color: var(--fill-color);\n",
              "    }\n",
              "    90% {\n",
              "      border-color: transparent;\n",
              "      border-bottom-color: var(--fill-color);\n",
              "    }\n",
              "  }\n",
              "</style>\n",
              "\n",
              "  <script>\n",
              "    async function quickchart(key) {\n",
              "      const quickchartButtonEl =\n",
              "        document.querySelector('#' + key + ' button');\n",
              "      quickchartButtonEl.disabled = true;  // To prevent multiple clicks.\n",
              "      quickchartButtonEl.classList.add('colab-df-spinner');\n",
              "      try {\n",
              "        const charts = await google.colab.kernel.invokeFunction(\n",
              "            'suggestCharts', [key], {});\n",
              "      } catch (error) {\n",
              "        console.error('Error during call to suggestCharts:', error);\n",
              "      }\n",
              "      quickchartButtonEl.classList.remove('colab-df-spinner');\n",
              "      quickchartButtonEl.classList.add('colab-df-quickchart-complete');\n",
              "    }\n",
              "    (() => {\n",
              "      let quickchartButtonEl =\n",
              "        document.querySelector('#df-f232447f-73e6-41b1-906a-0057a5f5de68 button');\n",
              "      quickchartButtonEl.style.display =\n",
              "        google.colab.kernel.accessAllowed ? 'block' : 'none';\n",
              "    })();\n",
              "  </script>\n",
              "</div>\n",
              "\n",
              "    </div>\n",
              "  </div>\n"
            ],
            "application/vnd.google.colaboratory.intrinsic+json": {
              "type": "dataframe",
              "summary": "{\n  \"name\": \"df\",\n  \"rows\": 8,\n  \"fields\": [\n    {\n      \"column\": \"AGE\",\n      \"properties\": {\n        \"dtype\": \"number\",\n        \"std\": 1043.4444999836326,\n        \"min\": 14.723746191123832,\n        \"max\": 3000.0,\n        \"num_unique_values\": 8,\n        \"samples\": [\n          55.169,\n          55.0,\n          3000.0\n        ],\n        \"semantic_type\": \"\",\n        \"description\": \"\"\n      }\n    },\n    {\n      \"column\": \"SMOKING\",\n      \"properties\": {\n        \"dtype\": \"number\",\n        \"std\": 1060.206187262471,\n        \"min\": 0.5000023341059224,\n        \"max\": 3000.0,\n        \"num_unique_values\": 5,\n        \"samples\": [\n          1.491,\n          2.0,\n          0.5000023341059224\n        ],\n        \"semantic_type\": \"\",\n        \"description\": \"\"\n      }\n    },\n    {\n      \"column\": \"YELLOW_FINGERS\",\n      \"properties\": {\n        \"dtype\": \"number\",\n        \"std\": 1060.1545434429215,\n        \"min\": 0.4998872830601466,\n        \"max\": 3000.0,\n        \"num_unique_values\": 5,\n        \"samples\": [\n          1.514,\n          2.0,\n          0.4998872830601466\n        ],\n        \"semantic_type\": \"\",\n        \"description\": \"\"\n      }\n    },\n    {\n      \"column\": \"ANXIETY\",\n      \"properties\": {\n        \"dtype\": \"number\",\n        \"std\": 1060.206033545383,\n        \"min\": 0.5000473468746455,\n        \"max\": 3000.0,\n        \"num_unique_values\": 5,\n        \"samples\": [\n          1.494,\n          2.0,\n          0.5000473468746455\n        ],\n        \"semantic_type\": \"\",\n        \"description\": \"\"\n      }\n    },\n    {\n      \"column\": \"PEER_PRESSURE\",\n      \"properties\": {\n        \"dtype\": \"number\",\n        \"std\": 1060.205779377789,\n        \"min\": 0.5000823540047469,\n        \"max\": 3000.0,\n        \"num_unique_values\": 5,\n        \"samples\": [\n          1.499,\n          2.0,\n          0.5000823540047469\n        ],\n        \"semantic_type\": \"\",\n        \"description\": \"\"\n      }\n    },\n    {\n      \"column\": \"CHRONIC_DISEASE\",\n      \"properties\": {\n        \"dtype\": \"number\",\n        \"std\": 1060.1547570665757,\n        \"min\": 0.49998988541508976,\n        \"max\": 3000.0,\n        \"num_unique_values\": 5,\n        \"samples\": [\n          1.5096666666666667,\n          2.0,\n          0.49998988541508976\n        ],\n        \"semantic_type\": \"\",\n        \"description\": \"\"\n      }\n    },\n    {\n      \"column\": \"FATIGUE\",\n      \"properties\": {\n        \"dtype\": \"number\",\n        \"std\": 1060.206255874117,\n        \"min\": 0.4999765471881005,\n        \"max\": 3000.0,\n        \"num_unique_values\": 5,\n        \"samples\": [\n          1.4896666666666667,\n          2.0,\n          0.4999765471881005\n        ],\n        \"semantic_type\": \"\",\n        \"description\": \"\"\n      }\n    },\n    {\n      \"column\": \"ALLERGY\",\n      \"properties\": {\n        \"dtype\": \"number\",\n        \"std\": 1060.154906075964,\n        \"min\": 0.5000389003429376,\n        \"max\": 3000.0,\n        \"num_unique_values\": 5,\n        \"samples\": [\n          1.5066666666666666,\n          2.0,\n          0.5000389003429376\n        ],\n        \"semantic_type\": \"\",\n        \"description\": \"\"\n      }\n    },\n    {\n      \"column\": \"WHEEZING\",\n      \"properties\": {\n        \"dtype\": \"number\",\n        \"std\": 1060.205863818748,\n        \"min\": 0.5000762418252857,\n        \"max\": 3000.0,\n        \"num_unique_values\": 5,\n        \"samples\": [\n          1.4973333333333334,\n          2.0,\n          0.5000762418252857\n        ],\n        \"semantic_type\": \"\",\n        \"description\": \"\"\n      }\n    },\n    {\n      \"column\": \"ALCOHOL_CONSUMING\",\n      \"properties\": {\n        \"dtype\": \"number\",\n        \"std\": 1060.2061701377295,\n        \"min\": 0.500008224896228,\n        \"max\": 3000.0,\n        \"num_unique_values\": 5,\n        \"samples\": [\n          1.4913333333333334,\n          2.0,\n          0.500008224896228\n        ],\n        \"semantic_type\": \"\",\n        \"description\": \"\"\n      }\n    },\n    {\n      \"column\": \"COUGHING\",\n      \"properties\": {\n        \"dtype\": \"number\",\n        \"std\": 1060.1547075996768,\n        \"min\": 0.4999695444764846,\n        \"max\": 3000.0,\n        \"num_unique_values\": 5,\n        \"samples\": [\n          1.5106666666666666,\n          2.0,\n          0.4999695444764846\n        ],\n        \"semantic_type\": \"\",\n        \"description\": \"\"\n      }\n    },\n    {\n      \"column\": \"SHORTNESS_OF_BREATH\",\n      \"properties\": {\n        \"dtype\": \"number\",\n        \"std\": 1060.2063418922362,\n        \"min\": 0.49993930942102177,\n        \"max\": 3000.0,\n        \"num_unique_values\": 5,\n        \"samples\": [\n          1.488,\n          2.0,\n          0.49993930942102177\n        ],\n        \"semantic_type\": \"\",\n        \"description\": \"\"\n      }\n    },\n    {\n      \"column\": \"SWALLOWING_DIFFICULTY\",\n      \"properties\": {\n        \"dtype\": \"number\",\n        \"std\": 1060.206255874117,\n        \"min\": 0.4999765471881005,\n        \"max\": 3000.0,\n        \"num_unique_values\": 5,\n        \"samples\": [\n          1.4896666666666667,\n          2.0,\n          0.4999765471881005\n        ],\n        \"semantic_type\": \"\",\n        \"description\": \"\"\n      }\n    },\n    {\n      \"column\": \"CHEST_PAIN\",\n      \"properties\": {\n        \"dtype\": \"number\",\n        \"std\": 1060.2057962434562,\n        \"min\": 0.5000815760951461,\n        \"max\": 3000.0,\n        \"num_unique_values\": 5,\n        \"samples\": [\n          1.4986666666666666,\n          2.0,\n          0.5000815760951461\n        ],\n        \"semantic_type\": \"\",\n        \"description\": \"\"\n      }\n    }\n  ]\n}"
            }
          },
          "metadata": {},
          "execution_count": 252
        }
      ]
    },
    {
      "cell_type": "code",
      "source": [
        "def unique_values():\n",
        "  for col in df.columns:\n",
        "    print(f\"{col} has unique values: {df[col].unique()}\")\n",
        "\n",
        "unique_values()"
      ],
      "metadata": {
        "colab": {
          "base_uri": "https://localhost:8080/"
        },
        "id": "wlB40MK5Zvyt",
        "outputId": "c925516b-0ec7-4858-fcc1-249ab7483dc0"
      },
      "execution_count": 253,
      "outputs": [
        {
          "output_type": "stream",
          "name": "stdout",
          "text": [
            "GENDER has unique values: ['M' 'F']\n",
            "AGE has unique values: [65 55 78 60 80 58 70 74 77 67 35 79 39 62 64 66 76 48 33 47 50 36 37 51\n",
            " 53 72 71 54 41 46 59 32 34 44 38 69 45 40 63 75 52 31 57 73 42 56 68 61\n",
            " 30 49 43]\n",
            "SMOKING has unique values: [1 2]\n",
            "YELLOW_FINGERS has unique values: [1 2]\n",
            "ANXIETY has unique values: [1 2]\n",
            "PEER_PRESSURE has unique values: [2 1]\n",
            "CHRONIC_DISEASE has unique values: [2 1]\n",
            "FATIGUE has unique values: [1 2]\n",
            "ALLERGY has unique values: [2 1]\n",
            "WHEEZING has unique values: [2 1]\n",
            "ALCOHOL_CONSUMING has unique values: [2 1]\n",
            "COUGHING has unique values: [2 1]\n",
            "SHORTNESS_OF_BREATH has unique values: [2 1]\n",
            "SWALLOWING_DIFFICULTY has unique values: [2 1]\n",
            "CHEST_PAIN has unique values: [1 2]\n",
            "LUNG_CANCER has unique values: ['NO' 'YES']\n",
            "AGE_class has unique values: ['61-65', '51-55', '75-80', '56-60', '65-70', '71-75', '30-35', '36-40', '46-50', '41-45']\n",
            "Categories (10, object): ['30-35' < '36-40' < '41-45' < '46-50' ... '61-65' < '65-70' < '71-75' < '75-80']\n"
          ]
        }
      ]
    },
    {
      "cell_type": "code",
      "source": [
        "numerical_col = [col for col in df.columns if df[col].dtype == 'int64']\n",
        "numerical_col"
      ],
      "metadata": {
        "colab": {
          "base_uri": "https://localhost:8080/"
        },
        "id": "nq2V6mIGfylj",
        "outputId": "3ff0a000-971d-4174-c727-425274cfda94"
      },
      "execution_count": 254,
      "outputs": [
        {
          "output_type": "execute_result",
          "data": {
            "text/plain": [
              "['AGE',\n",
              " 'SMOKING',\n",
              " 'YELLOW_FINGERS',\n",
              " 'ANXIETY',\n",
              " 'PEER_PRESSURE',\n",
              " 'CHRONIC_DISEASE',\n",
              " 'FATIGUE',\n",
              " 'ALLERGY',\n",
              " 'WHEEZING',\n",
              " 'ALCOHOL_CONSUMING',\n",
              " 'COUGHING',\n",
              " 'SHORTNESS_OF_BREATH',\n",
              " 'SWALLOWING_DIFFICULTY',\n",
              " 'CHEST_PAIN']"
            ]
          },
          "metadata": {},
          "execution_count": 254
        }
      ]
    },
    {
      "cell_type": "code",
      "source": [
        "def change_label(df):\n",
        "  for col in numerical_col:\n",
        "    if df[col].nunique() == 2:\n",
        "      df[col] = df[col].map({1:0, 2:1})\n",
        "  return df\n",
        "\n",
        "df = change_label(df)\n",
        "df.head()"
      ],
      "metadata": {
        "colab": {
          "base_uri": "https://localhost:8080/",
          "height": 226
        },
        "id": "bwSG-sWgfjQ_",
        "outputId": "1c8f055d-d984-4b1c-e844-0f62cc7fe1e4"
      },
      "execution_count": 255,
      "outputs": [
        {
          "output_type": "execute_result",
          "data": {
            "text/plain": [
              "  GENDER  AGE  SMOKING  YELLOW_FINGERS  ANXIETY  PEER_PRESSURE  \\\n",
              "0      M   65        0               0        0              1   \n",
              "1      F   55        0               1        1              0   \n",
              "2      F   78        1               1        0              0   \n",
              "3      M   60        1               0        0              0   \n",
              "4      F   80        0               0        1              0   \n",
              "\n",
              "   CHRONIC_DISEASE  FATIGUE  ALLERGY  WHEEZING  ALCOHOL_CONSUMING  COUGHING  \\\n",
              "0                1        0        1         1                  1         1   \n",
              "1                0        1        1         1                  0         0   \n",
              "2                0        1        0         1                  0         0   \n",
              "3                1        0        1         0                  0         1   \n",
              "4                0        1        0         1                  0         0   \n",
              "\n",
              "   SHORTNESS_OF_BREATH  SWALLOWING_DIFFICULTY  CHEST_PAIN LUNG_CANCER  \\\n",
              "0                    1                      1           0          NO   \n",
              "1                    0                      1           1          NO   \n",
              "2                    1                      0           0         YES   \n",
              "3                    0                      1           1         YES   \n",
              "4                    0                      0           1          NO   \n",
              "\n",
              "  AGE_class  \n",
              "0     61-65  \n",
              "1     51-55  \n",
              "2     75-80  \n",
              "3     56-60  \n",
              "4     75-80  "
            ],
            "text/html": [
              "\n",
              "  <div id=\"df-c1d13812-69a5-4ac4-9066-2b9facc4bf3e\" class=\"colab-df-container\">\n",
              "    <div>\n",
              "<style scoped>\n",
              "    .dataframe tbody tr th:only-of-type {\n",
              "        vertical-align: middle;\n",
              "    }\n",
              "\n",
              "    .dataframe tbody tr th {\n",
              "        vertical-align: top;\n",
              "    }\n",
              "\n",
              "    .dataframe thead th {\n",
              "        text-align: right;\n",
              "    }\n",
              "</style>\n",
              "<table border=\"1\" class=\"dataframe\">\n",
              "  <thead>\n",
              "    <tr style=\"text-align: right;\">\n",
              "      <th></th>\n",
              "      <th>GENDER</th>\n",
              "      <th>AGE</th>\n",
              "      <th>SMOKING</th>\n",
              "      <th>YELLOW_FINGERS</th>\n",
              "      <th>ANXIETY</th>\n",
              "      <th>PEER_PRESSURE</th>\n",
              "      <th>CHRONIC_DISEASE</th>\n",
              "      <th>FATIGUE</th>\n",
              "      <th>ALLERGY</th>\n",
              "      <th>WHEEZING</th>\n",
              "      <th>ALCOHOL_CONSUMING</th>\n",
              "      <th>COUGHING</th>\n",
              "      <th>SHORTNESS_OF_BREATH</th>\n",
              "      <th>SWALLOWING_DIFFICULTY</th>\n",
              "      <th>CHEST_PAIN</th>\n",
              "      <th>LUNG_CANCER</th>\n",
              "      <th>AGE_class</th>\n",
              "    </tr>\n",
              "  </thead>\n",
              "  <tbody>\n",
              "    <tr>\n",
              "      <th>0</th>\n",
              "      <td>M</td>\n",
              "      <td>65</td>\n",
              "      <td>0</td>\n",
              "      <td>0</td>\n",
              "      <td>0</td>\n",
              "      <td>1</td>\n",
              "      <td>1</td>\n",
              "      <td>0</td>\n",
              "      <td>1</td>\n",
              "      <td>1</td>\n",
              "      <td>1</td>\n",
              "      <td>1</td>\n",
              "      <td>1</td>\n",
              "      <td>1</td>\n",
              "      <td>0</td>\n",
              "      <td>NO</td>\n",
              "      <td>61-65</td>\n",
              "    </tr>\n",
              "    <tr>\n",
              "      <th>1</th>\n",
              "      <td>F</td>\n",
              "      <td>55</td>\n",
              "      <td>0</td>\n",
              "      <td>1</td>\n",
              "      <td>1</td>\n",
              "      <td>0</td>\n",
              "      <td>0</td>\n",
              "      <td>1</td>\n",
              "      <td>1</td>\n",
              "      <td>1</td>\n",
              "      <td>0</td>\n",
              "      <td>0</td>\n",
              "      <td>0</td>\n",
              "      <td>1</td>\n",
              "      <td>1</td>\n",
              "      <td>NO</td>\n",
              "      <td>51-55</td>\n",
              "    </tr>\n",
              "    <tr>\n",
              "      <th>2</th>\n",
              "      <td>F</td>\n",
              "      <td>78</td>\n",
              "      <td>1</td>\n",
              "      <td>1</td>\n",
              "      <td>0</td>\n",
              "      <td>0</td>\n",
              "      <td>0</td>\n",
              "      <td>1</td>\n",
              "      <td>0</td>\n",
              "      <td>1</td>\n",
              "      <td>0</td>\n",
              "      <td>0</td>\n",
              "      <td>1</td>\n",
              "      <td>0</td>\n",
              "      <td>0</td>\n",
              "      <td>YES</td>\n",
              "      <td>75-80</td>\n",
              "    </tr>\n",
              "    <tr>\n",
              "      <th>3</th>\n",
              "      <td>M</td>\n",
              "      <td>60</td>\n",
              "      <td>1</td>\n",
              "      <td>0</td>\n",
              "      <td>0</td>\n",
              "      <td>0</td>\n",
              "      <td>1</td>\n",
              "      <td>0</td>\n",
              "      <td>1</td>\n",
              "      <td>0</td>\n",
              "      <td>0</td>\n",
              "      <td>1</td>\n",
              "      <td>0</td>\n",
              "      <td>1</td>\n",
              "      <td>1</td>\n",
              "      <td>YES</td>\n",
              "      <td>56-60</td>\n",
              "    </tr>\n",
              "    <tr>\n",
              "      <th>4</th>\n",
              "      <td>F</td>\n",
              "      <td>80</td>\n",
              "      <td>0</td>\n",
              "      <td>0</td>\n",
              "      <td>1</td>\n",
              "      <td>0</td>\n",
              "      <td>0</td>\n",
              "      <td>1</td>\n",
              "      <td>0</td>\n",
              "      <td>1</td>\n",
              "      <td>0</td>\n",
              "      <td>0</td>\n",
              "      <td>0</td>\n",
              "      <td>0</td>\n",
              "      <td>1</td>\n",
              "      <td>NO</td>\n",
              "      <td>75-80</td>\n",
              "    </tr>\n",
              "  </tbody>\n",
              "</table>\n",
              "</div>\n",
              "    <div class=\"colab-df-buttons\">\n",
              "\n",
              "  <div class=\"colab-df-container\">\n",
              "    <button class=\"colab-df-convert\" onclick=\"convertToInteractive('df-c1d13812-69a5-4ac4-9066-2b9facc4bf3e')\"\n",
              "            title=\"Convert this dataframe to an interactive table.\"\n",
              "            style=\"display:none;\">\n",
              "\n",
              "  <svg xmlns=\"http://www.w3.org/2000/svg\" height=\"24px\" viewBox=\"0 -960 960 960\">\n",
              "    <path d=\"M120-120v-720h720v720H120Zm60-500h600v-160H180v160Zm220 220h160v-160H400v160Zm0 220h160v-160H400v160ZM180-400h160v-160H180v160Zm440 0h160v-160H620v160ZM180-180h160v-160H180v160Zm440 0h160v-160H620v160Z\"/>\n",
              "  </svg>\n",
              "    </button>\n",
              "\n",
              "  <style>\n",
              "    .colab-df-container {\n",
              "      display:flex;\n",
              "      gap: 12px;\n",
              "    }\n",
              "\n",
              "    .colab-df-convert {\n",
              "      background-color: #E8F0FE;\n",
              "      border: none;\n",
              "      border-radius: 50%;\n",
              "      cursor: pointer;\n",
              "      display: none;\n",
              "      fill: #1967D2;\n",
              "      height: 32px;\n",
              "      padding: 0 0 0 0;\n",
              "      width: 32px;\n",
              "    }\n",
              "\n",
              "    .colab-df-convert:hover {\n",
              "      background-color: #E2EBFA;\n",
              "      box-shadow: 0px 1px 2px rgba(60, 64, 67, 0.3), 0px 1px 3px 1px rgba(60, 64, 67, 0.15);\n",
              "      fill: #174EA6;\n",
              "    }\n",
              "\n",
              "    .colab-df-buttons div {\n",
              "      margin-bottom: 4px;\n",
              "    }\n",
              "\n",
              "    [theme=dark] .colab-df-convert {\n",
              "      background-color: #3B4455;\n",
              "      fill: #D2E3FC;\n",
              "    }\n",
              "\n",
              "    [theme=dark] .colab-df-convert:hover {\n",
              "      background-color: #434B5C;\n",
              "      box-shadow: 0px 1px 3px 1px rgba(0, 0, 0, 0.15);\n",
              "      filter: drop-shadow(0px 1px 2px rgba(0, 0, 0, 0.3));\n",
              "      fill: #FFFFFF;\n",
              "    }\n",
              "  </style>\n",
              "\n",
              "    <script>\n",
              "      const buttonEl =\n",
              "        document.querySelector('#df-c1d13812-69a5-4ac4-9066-2b9facc4bf3e button.colab-df-convert');\n",
              "      buttonEl.style.display =\n",
              "        google.colab.kernel.accessAllowed ? 'block' : 'none';\n",
              "\n",
              "      async function convertToInteractive(key) {\n",
              "        const element = document.querySelector('#df-c1d13812-69a5-4ac4-9066-2b9facc4bf3e');\n",
              "        const dataTable =\n",
              "          await google.colab.kernel.invokeFunction('convertToInteractive',\n",
              "                                                    [key], {});\n",
              "        if (!dataTable) return;\n",
              "\n",
              "        const docLinkHtml = 'Like what you see? Visit the ' +\n",
              "          '<a target=\"_blank\" href=https://colab.research.google.com/notebooks/data_table.ipynb>data table notebook</a>'\n",
              "          + ' to learn more about interactive tables.';\n",
              "        element.innerHTML = '';\n",
              "        dataTable['output_type'] = 'display_data';\n",
              "        await google.colab.output.renderOutput(dataTable, element);\n",
              "        const docLink = document.createElement('div');\n",
              "        docLink.innerHTML = docLinkHtml;\n",
              "        element.appendChild(docLink);\n",
              "      }\n",
              "    </script>\n",
              "  </div>\n",
              "\n",
              "\n",
              "<div id=\"df-6cd33377-249e-4fa5-9be7-3c79e8c5e16d\">\n",
              "  <button class=\"colab-df-quickchart\" onclick=\"quickchart('df-6cd33377-249e-4fa5-9be7-3c79e8c5e16d')\"\n",
              "            title=\"Suggest charts\"\n",
              "            style=\"display:none;\">\n",
              "\n",
              "<svg xmlns=\"http://www.w3.org/2000/svg\" height=\"24px\"viewBox=\"0 0 24 24\"\n",
              "     width=\"24px\">\n",
              "    <g>\n",
              "        <path d=\"M19 3H5c-1.1 0-2 .9-2 2v14c0 1.1.9 2 2 2h14c1.1 0 2-.9 2-2V5c0-1.1-.9-2-2-2zM9 17H7v-7h2v7zm4 0h-2V7h2v10zm4 0h-2v-4h2v4z\"/>\n",
              "    </g>\n",
              "</svg>\n",
              "  </button>\n",
              "\n",
              "<style>\n",
              "  .colab-df-quickchart {\n",
              "      --bg-color: #E8F0FE;\n",
              "      --fill-color: #1967D2;\n",
              "      --hover-bg-color: #E2EBFA;\n",
              "      --hover-fill-color: #174EA6;\n",
              "      --disabled-fill-color: #AAA;\n",
              "      --disabled-bg-color: #DDD;\n",
              "  }\n",
              "\n",
              "  [theme=dark] .colab-df-quickchart {\n",
              "      --bg-color: #3B4455;\n",
              "      --fill-color: #D2E3FC;\n",
              "      --hover-bg-color: #434B5C;\n",
              "      --hover-fill-color: #FFFFFF;\n",
              "      --disabled-bg-color: #3B4455;\n",
              "      --disabled-fill-color: #666;\n",
              "  }\n",
              "\n",
              "  .colab-df-quickchart {\n",
              "    background-color: var(--bg-color);\n",
              "    border: none;\n",
              "    border-radius: 50%;\n",
              "    cursor: pointer;\n",
              "    display: none;\n",
              "    fill: var(--fill-color);\n",
              "    height: 32px;\n",
              "    padding: 0;\n",
              "    width: 32px;\n",
              "  }\n",
              "\n",
              "  .colab-df-quickchart:hover {\n",
              "    background-color: var(--hover-bg-color);\n",
              "    box-shadow: 0 1px 2px rgba(60, 64, 67, 0.3), 0 1px 3px 1px rgba(60, 64, 67, 0.15);\n",
              "    fill: var(--button-hover-fill-color);\n",
              "  }\n",
              "\n",
              "  .colab-df-quickchart-complete:disabled,\n",
              "  .colab-df-quickchart-complete:disabled:hover {\n",
              "    background-color: var(--disabled-bg-color);\n",
              "    fill: var(--disabled-fill-color);\n",
              "    box-shadow: none;\n",
              "  }\n",
              "\n",
              "  .colab-df-spinner {\n",
              "    border: 2px solid var(--fill-color);\n",
              "    border-color: transparent;\n",
              "    border-bottom-color: var(--fill-color);\n",
              "    animation:\n",
              "      spin 1s steps(1) infinite;\n",
              "  }\n",
              "\n",
              "  @keyframes spin {\n",
              "    0% {\n",
              "      border-color: transparent;\n",
              "      border-bottom-color: var(--fill-color);\n",
              "      border-left-color: var(--fill-color);\n",
              "    }\n",
              "    20% {\n",
              "      border-color: transparent;\n",
              "      border-left-color: var(--fill-color);\n",
              "      border-top-color: var(--fill-color);\n",
              "    }\n",
              "    30% {\n",
              "      border-color: transparent;\n",
              "      border-left-color: var(--fill-color);\n",
              "      border-top-color: var(--fill-color);\n",
              "      border-right-color: var(--fill-color);\n",
              "    }\n",
              "    40% {\n",
              "      border-color: transparent;\n",
              "      border-right-color: var(--fill-color);\n",
              "      border-top-color: var(--fill-color);\n",
              "    }\n",
              "    60% {\n",
              "      border-color: transparent;\n",
              "      border-right-color: var(--fill-color);\n",
              "    }\n",
              "    80% {\n",
              "      border-color: transparent;\n",
              "      border-right-color: var(--fill-color);\n",
              "      border-bottom-color: var(--fill-color);\n",
              "    }\n",
              "    90% {\n",
              "      border-color: transparent;\n",
              "      border-bottom-color: var(--fill-color);\n",
              "    }\n",
              "  }\n",
              "</style>\n",
              "\n",
              "  <script>\n",
              "    async function quickchart(key) {\n",
              "      const quickchartButtonEl =\n",
              "        document.querySelector('#' + key + ' button');\n",
              "      quickchartButtonEl.disabled = true;  // To prevent multiple clicks.\n",
              "      quickchartButtonEl.classList.add('colab-df-spinner');\n",
              "      try {\n",
              "        const charts = await google.colab.kernel.invokeFunction(\n",
              "            'suggestCharts', [key], {});\n",
              "      } catch (error) {\n",
              "        console.error('Error during call to suggestCharts:', error);\n",
              "      }\n",
              "      quickchartButtonEl.classList.remove('colab-df-spinner');\n",
              "      quickchartButtonEl.classList.add('colab-df-quickchart-complete');\n",
              "    }\n",
              "    (() => {\n",
              "      let quickchartButtonEl =\n",
              "        document.querySelector('#df-6cd33377-249e-4fa5-9be7-3c79e8c5e16d button');\n",
              "      quickchartButtonEl.style.display =\n",
              "        google.colab.kernel.accessAllowed ? 'block' : 'none';\n",
              "    })();\n",
              "  </script>\n",
              "</div>\n",
              "\n",
              "    </div>\n",
              "  </div>\n"
            ],
            "application/vnd.google.colaboratory.intrinsic+json": {
              "type": "dataframe",
              "variable_name": "df",
              "summary": "{\n  \"name\": \"df\",\n  \"rows\": 3000,\n  \"fields\": [\n    {\n      \"column\": \"GENDER\",\n      \"properties\": {\n        \"dtype\": \"category\",\n        \"num_unique_values\": 2,\n        \"samples\": [\n          \"F\",\n          \"M\"\n        ],\n        \"semantic_type\": \"\",\n        \"description\": \"\"\n      }\n    },\n    {\n      \"column\": \"AGE\",\n      \"properties\": {\n        \"dtype\": \"number\",\n        \"std\": 14,\n        \"min\": 30,\n        \"max\": 80,\n        \"num_unique_values\": 51,\n        \"samples\": [\n          73,\n          52\n        ],\n        \"semantic_type\": \"\",\n        \"description\": \"\"\n      }\n    },\n    {\n      \"column\": \"SMOKING\",\n      \"properties\": {\n        \"dtype\": \"number\",\n        \"std\": 0,\n        \"min\": 0,\n        \"max\": 1,\n        \"num_unique_values\": 2,\n        \"samples\": [\n          1,\n          0\n        ],\n        \"semantic_type\": \"\",\n        \"description\": \"\"\n      }\n    },\n    {\n      \"column\": \"YELLOW_FINGERS\",\n      \"properties\": {\n        \"dtype\": \"number\",\n        \"std\": 0,\n        \"min\": 0,\n        \"max\": 1,\n        \"num_unique_values\": 2,\n        \"samples\": [\n          1,\n          0\n        ],\n        \"semantic_type\": \"\",\n        \"description\": \"\"\n      }\n    },\n    {\n      \"column\": \"ANXIETY\",\n      \"properties\": {\n        \"dtype\": \"number\",\n        \"std\": 0,\n        \"min\": 0,\n        \"max\": 1,\n        \"num_unique_values\": 2,\n        \"samples\": [\n          1,\n          0\n        ],\n        \"semantic_type\": \"\",\n        \"description\": \"\"\n      }\n    },\n    {\n      \"column\": \"PEER_PRESSURE\",\n      \"properties\": {\n        \"dtype\": \"number\",\n        \"std\": 0,\n        \"min\": 0,\n        \"max\": 1,\n        \"num_unique_values\": 2,\n        \"samples\": [\n          0,\n          1\n        ],\n        \"semantic_type\": \"\",\n        \"description\": \"\"\n      }\n    },\n    {\n      \"column\": \"CHRONIC_DISEASE\",\n      \"properties\": {\n        \"dtype\": \"number\",\n        \"std\": 0,\n        \"min\": 0,\n        \"max\": 1,\n        \"num_unique_values\": 2,\n        \"samples\": [\n          0,\n          1\n        ],\n        \"semantic_type\": \"\",\n        \"description\": \"\"\n      }\n    },\n    {\n      \"column\": \"FATIGUE\",\n      \"properties\": {\n        \"dtype\": \"number\",\n        \"std\": 0,\n        \"min\": 0,\n        \"max\": 1,\n        \"num_unique_values\": 2,\n        \"samples\": [\n          1,\n          0\n        ],\n        \"semantic_type\": \"\",\n        \"description\": \"\"\n      }\n    },\n    {\n      \"column\": \"ALLERGY\",\n      \"properties\": {\n        \"dtype\": \"number\",\n        \"std\": 0,\n        \"min\": 0,\n        \"max\": 1,\n        \"num_unique_values\": 2,\n        \"samples\": [\n          0,\n          1\n        ],\n        \"semantic_type\": \"\",\n        \"description\": \"\"\n      }\n    },\n    {\n      \"column\": \"WHEEZING\",\n      \"properties\": {\n        \"dtype\": \"number\",\n        \"std\": 0,\n        \"min\": 0,\n        \"max\": 1,\n        \"num_unique_values\": 2,\n        \"samples\": [\n          0,\n          1\n        ],\n        \"semantic_type\": \"\",\n        \"description\": \"\"\n      }\n    },\n    {\n      \"column\": \"ALCOHOL_CONSUMING\",\n      \"properties\": {\n        \"dtype\": \"number\",\n        \"std\": 0,\n        \"min\": 0,\n        \"max\": 1,\n        \"num_unique_values\": 2,\n        \"samples\": [\n          0,\n          1\n        ],\n        \"semantic_type\": \"\",\n        \"description\": \"\"\n      }\n    },\n    {\n      \"column\": \"COUGHING\",\n      \"properties\": {\n        \"dtype\": \"number\",\n        \"std\": 0,\n        \"min\": 0,\n        \"max\": 1,\n        \"num_unique_values\": 2,\n        \"samples\": [\n          0,\n          1\n        ],\n        \"semantic_type\": \"\",\n        \"description\": \"\"\n      }\n    },\n    {\n      \"column\": \"SHORTNESS_OF_BREATH\",\n      \"properties\": {\n        \"dtype\": \"number\",\n        \"std\": 0,\n        \"min\": 0,\n        \"max\": 1,\n        \"num_unique_values\": 2,\n        \"samples\": [\n          0,\n          1\n        ],\n        \"semantic_type\": \"\",\n        \"description\": \"\"\n      }\n    },\n    {\n      \"column\": \"SWALLOWING_DIFFICULTY\",\n      \"properties\": {\n        \"dtype\": \"number\",\n        \"std\": 0,\n        \"min\": 0,\n        \"max\": 1,\n        \"num_unique_values\": 2,\n        \"samples\": [\n          0,\n          1\n        ],\n        \"semantic_type\": \"\",\n        \"description\": \"\"\n      }\n    },\n    {\n      \"column\": \"CHEST_PAIN\",\n      \"properties\": {\n        \"dtype\": \"number\",\n        \"std\": 0,\n        \"min\": 0,\n        \"max\": 1,\n        \"num_unique_values\": 2,\n        \"samples\": [\n          1,\n          0\n        ],\n        \"semantic_type\": \"\",\n        \"description\": \"\"\n      }\n    },\n    {\n      \"column\": \"LUNG_CANCER\",\n      \"properties\": {\n        \"dtype\": \"category\",\n        \"num_unique_values\": 2,\n        \"samples\": [\n          \"YES\",\n          \"NO\"\n        ],\n        \"semantic_type\": \"\",\n        \"description\": \"\"\n      }\n    },\n    {\n      \"column\": \"AGE_class\",\n      \"properties\": {\n        \"dtype\": \"category\",\n        \"num_unique_values\": 10,\n        \"samples\": [\n          \"46-50\",\n          \"51-55\"\n        ],\n        \"semantic_type\": \"\",\n        \"description\": \"\"\n      }\n    }\n  ]\n}"
            }
          },
          "metadata": {},
          "execution_count": 255
        }
      ]
    },
    {
      "cell_type": "code",
      "source": [
        "df['GENDER'] = df['GENDER'].map({\"M\":1,\"F\":0})"
      ],
      "metadata": {
        "id": "n_uvchN_YJhu"
      },
      "execution_count": 256,
      "outputs": []
    },
    {
      "cell_type": "code",
      "source": [
        "df['GENDER'].value_counts(normalize = True)"
      ],
      "metadata": {
        "colab": {
          "base_uri": "https://localhost:8080/",
          "height": 178
        },
        "id": "HPvQcxRlZv1J",
        "outputId": "1727514b-77f0-42d5-ed5c-3fd4b8d91bd9"
      },
      "execution_count": 257,
      "outputs": [
        {
          "output_type": "execute_result",
          "data": {
            "text/plain": [
              "GENDER\n",
              "1    0.504667\n",
              "0    0.495333\n",
              "Name: proportion, dtype: float64"
            ],
            "text/html": [
              "<div>\n",
              "<style scoped>\n",
              "    .dataframe tbody tr th:only-of-type {\n",
              "        vertical-align: middle;\n",
              "    }\n",
              "\n",
              "    .dataframe tbody tr th {\n",
              "        vertical-align: top;\n",
              "    }\n",
              "\n",
              "    .dataframe thead th {\n",
              "        text-align: right;\n",
              "    }\n",
              "</style>\n",
              "<table border=\"1\" class=\"dataframe\">\n",
              "  <thead>\n",
              "    <tr style=\"text-align: right;\">\n",
              "      <th></th>\n",
              "      <th>proportion</th>\n",
              "    </tr>\n",
              "    <tr>\n",
              "      <th>GENDER</th>\n",
              "      <th></th>\n",
              "    </tr>\n",
              "  </thead>\n",
              "  <tbody>\n",
              "    <tr>\n",
              "      <th>1</th>\n",
              "      <td>0.504667</td>\n",
              "    </tr>\n",
              "    <tr>\n",
              "      <th>0</th>\n",
              "      <td>0.495333</td>\n",
              "    </tr>\n",
              "  </tbody>\n",
              "</table>\n",
              "</div><br><label><b>dtype:</b> float64</label>"
            ]
          },
          "metadata": {},
          "execution_count": 257
        }
      ]
    },
    {
      "cell_type": "code",
      "source": [
        "plt.figure(figsize = (5,3))\n",
        "plt.pie(df['GENDER'].value_counts(), labels = [\"Male\",'Female'], autopct = '%1.2f%%')\n",
        "plt.show()"
      ],
      "metadata": {
        "colab": {
          "base_uri": "https://localhost:8080/",
          "height": 268
        },
        "id": "S8b1iup1Zv3-",
        "outputId": "c496a8df-5016-4576-e41d-9e8f9cb7ce84"
      },
      "execution_count": 258,
      "outputs": [
        {
          "output_type": "display_data",
          "data": {
            "text/plain": [
              "<Figure size 500x300 with 1 Axes>"
            ],
            "image/png": "[encoded data removed]"
          },
          "metadata": {}
        }
      ]
    },
    {
      "cell_type": "markdown",
      "source": [
        "### Observation:\n",
        "There are 50.47% male and 49.53% female."
      ],
      "metadata": {
        "id": "m5jqqE_QeK2t"
      }
    },
    {
      "cell_type": "code",
      "source": [
        "anxity = df[df['ANXIETY'] == 1]"
      ],
      "metadata": {
        "id": "3-kTxjDWHgGQ"
      },
      "execution_count": 259,
      "outputs": []
    },
    {
      "cell_type": "code",
      "source": [
        "anxity['GENDER'].value_counts()"
      ],
      "metadata": {
        "colab": {
          "base_uri": "https://localhost:8080/",
          "height": 178
        },
        "id": "U6qdGBRbHf7Q",
        "outputId": "e6b2bd5b-4a36-480a-c59d-c17a369097c6"
      },
      "execution_count": 260,
      "outputs": [
        {
          "output_type": "execute_result",
          "data": {
            "text/plain": [
              "GENDER\n",
              "0    752\n",
              "1    730\n",
              "Name: count, dtype: int64"
            ],
            "text/html": [
              "<div>\n",
              "<style scoped>\n",
              "    .dataframe tbody tr th:only-of-type {\n",
              "        vertical-align: middle;\n",
              "    }\n",
              "\n",
              "    .dataframe tbody tr th {\n",
              "        vertical-align: top;\n",
              "    }\n",
              "\n",
              "    .dataframe thead th {\n",
              "        text-align: right;\n",
              "    }\n",
              "</style>\n",
              "<table border=\"1\" class=\"dataframe\">\n",
              "  <thead>\n",
              "    <tr style=\"text-align: right;\">\n",
              "      <th></th>\n",
              "      <th>count</th>\n",
              "    </tr>\n",
              "    <tr>\n",
              "      <th>GENDER</th>\n",
              "      <th></th>\n",
              "    </tr>\n",
              "  </thead>\n",
              "  <tbody>\n",
              "    <tr>\n",
              "      <th>0</th>\n",
              "      <td>752</td>\n",
              "    </tr>\n",
              "    <tr>\n",
              "      <th>1</th>\n",
              "      <td>730</td>\n",
              "    </tr>\n",
              "  </tbody>\n",
              "</table>\n",
              "</div><br><label><b>dtype:</b> int64</label>"
            ]
          },
          "metadata": {},
          "execution_count": 260
        }
      ]
    },
    {
      "cell_type": "code",
      "source": [
        "plt.figure(figsize = (6,4))\n",
        "plt.pie(anxity['GENDER'].value_counts().values, labels = ['Female','male'], autopct = '%1.2f%%', startangle = 90)\n",
        "plt.title(\"ANXIETY\")\n",
        "plt.show()\n"
      ],
      "metadata": {
        "colab": {
          "base_uri": "https://localhost:8080/",
          "height": 367
        },
        "id": "rAkbqB6KJQIU",
        "outputId": "18da59f9-babf-4685-beb0-ecb67322343c"
      },
      "execution_count": 261,
      "outputs": [
        {
          "output_type": "display_data",
          "data": {
            "text/plain": [
              "<Figure size 600x400 with 1 Axes>"
            ],
            "image/png": "[encoded data removed]"
          },
          "metadata": {}
        }
      ]
    },
    {
      "cell_type": "markdown",
      "source": [
        "### observation:\n",
        "A higher proportion of females experience anxiety compared to males."
      ],
      "metadata": {
        "id": "9Y9xQm6mJ6BO"
      }
    },
    {
      "cell_type": "code",
      "source": [
        "alcohol = df[df['ALCOHOL_CONSUMING'] == 1]"
      ],
      "metadata": {
        "id": "aa5MBZylK5Ia"
      },
      "execution_count": 262,
      "outputs": []
    },
    {
      "cell_type": "code",
      "source": [
        "plt.figure(figsize = (6,4))\n",
        "plt.pie(alcohol['GENDER'].value_counts().values, labels = ['Female','male'], autopct = '%1.2f%%', startangle = 90)\n",
        "plt.title(\"ALCOHOLIC\")\n",
        "plt.show()"
      ],
      "metadata": {
        "colab": {
          "base_uri": "https://localhost:8080/",
          "height": 367
        },
        "id": "RaXTkTLgK5FC",
        "outputId": "2c1617da-8254-4e4b-8813-299c772d752b"
      },
      "execution_count": 263,
      "outputs": [
        {
          "output_type": "display_data",
          "data": {
            "text/plain": [
              "<Figure size 600x400 with 1 Axes>"
            ],
            "image/png": "[encoded data removed]"
          },
          "metadata": {}
        }
      ]
    },
    {
      "cell_type": "markdown",
      "source": [
        "###observations:\n",
        "50% of male and 50% of female are alcoholic."
      ],
      "metadata": {
        "id": "OQkim4coLhQx"
      }
    },
    {
      "cell_type": "code",
      "source": [
        "smokers = df[df['SMOKING'] == 1]"
      ],
      "metadata": {
        "id": "u_o_eKWXK5CW"
      },
      "execution_count": 264,
      "outputs": []
    },
    {
      "cell_type": "code",
      "source": [
        "plt.figure(figsize = (6,4))\n",
        "plt.pie(smokers['GENDER'].value_counts().values, labels = ['Female','male'], autopct = '%1.2f%%', startangle = 90)\n",
        "plt.title(\"SMOKERS\")\n",
        "plt.show()"
      ],
      "metadata": {
        "colab": {
          "base_uri": "https://localhost:8080/",
          "height": 367
        },
        "id": "NlPIcQHfK4-d",
        "outputId": "c26ba4ea-7097-49a1-ea83-f76055dff0c8"
      },
      "execution_count": 265,
      "outputs": [
        {
          "output_type": "display_data",
          "data": {
            "text/plain": [
              "<Figure size 600x400 with 1 Axes>"
            ],
            "image/png": "[encoded data removed]"
          },
          "metadata": {}
        }
      ]
    },
    {
      "cell_type": "markdown",
      "source": [
        "### Observations:\n",
        "Female smokes more than men."
      ],
      "metadata": {
        "id": "VuGN8hlIMBQK"
      }
    },
    {
      "cell_type": "code",
      "source": [
        "plt.figure(figsize = (10,6))\n",
        "sns.countplot(x = 'AGE_class', hue = 'LUNG_CANCER', data = df)\n",
        "plt.show()"
      ],
      "metadata": {
        "colab": {
          "base_uri": "https://localhost:8080/",
          "height": 542
        },
        "id": "ie3_5KnSK47o",
        "outputId": "7cdc76a4-8b62-4091-9fed-5481b48a2d8b"
      },
      "execution_count": 266,
      "outputs": [
        {
          "output_type": "display_data",
          "data": {
            "text/plain": [
              "<Figure size 1000x600 with 1 Axes>"
            ],
            "image/png": "[encoded data removed]"
          },
          "metadata": {}
        }
      ]
    },
    {
      "cell_type": "markdown",
      "source": [
        "### Observation:\n",
        "Age between 30 to 40 has lung cancer"
      ],
      "metadata": {
        "id": "3s-rWYf5WLrO"
      }
    },
    {
      "cell_type": "code",
      "source": [
        "plt.figure(figsize = (15,8))\n",
        "sns.countplot(x = 'AGE_class', hue = 'GENDER', data = df)\n",
        "plt.title('Distribution of gender on age vise')\n",
        "plt.show()"
      ],
      "metadata": {
        "colab": {
          "base_uri": "https://localhost:8080/",
          "height": 718
        },
        "id": "OGD-JwbDK4uu",
        "outputId": "bcfa1e39-f668-4cff-eacc-2d2858bfe3dc"
      },
      "execution_count": 267,
      "outputs": [
        {
          "output_type": "display_data",
          "data": {
            "text/plain": [
              "<Figure size 1500x800 with 1 Axes>"
            ],
            "image/png": "[encoded data removed]"
          },
          "metadata": {}
        }
      ]
    },
    {
      "cell_type": "code",
      "source": [
        "df.columns"
      ],
      "metadata": {
        "colab": {
          "base_uri": "https://localhost:8080/"
        },
        "id": "2ffsPpUJZwFU",
        "outputId": "1b220708-a927-410b-ad49-cb8980a49bc3"
      },
      "execution_count": 268,
      "outputs": [
        {
          "output_type": "execute_result",
          "data": {
            "text/plain": [
              "Index(['GENDER', 'AGE', 'SMOKING', 'YELLOW_FINGERS', 'ANXIETY',\n",
              "       'PEER_PRESSURE', 'CHRONIC_DISEASE', 'FATIGUE', 'ALLERGY', 'WHEEZING',\n",
              "       'ALCOHOL_CONSUMING', 'COUGHING', 'SHORTNESS_OF_BREATH',\n",
              "       'SWALLOWING_DIFFICULTY', 'CHEST_PAIN', 'LUNG_CANCER', 'AGE_class'],\n",
              "      dtype='object')"
            ]
          },
          "metadata": {},
          "execution_count": 268
        }
      ]
    },
    {
      "cell_type": "code",
      "source": [
        "df_drop_col = df.drop([\"AGE_class\",'LUNG_CANCER'], axis = 1)"
      ],
      "metadata": {
        "id": "UUaclya5kpOq"
      },
      "execution_count": 269,
      "outputs": []
    },
    {
      "cell_type": "code",
      "source": [
        "df_drop_col.columns"
      ],
      "metadata": {
        "colab": {
          "base_uri": "https://localhost:8080/"
        },
        "id": "zOw4SzEZkx9V",
        "outputId": "baa41216-4fb8-4fd9-9d4d-8acf7c946f36"
      },
      "execution_count": 270,
      "outputs": [
        {
          "output_type": "execute_result",
          "data": {
            "text/plain": [
              "Index(['GENDER', 'AGE', 'SMOKING', 'YELLOW_FINGERS', 'ANXIETY',\n",
              "       'PEER_PRESSURE', 'CHRONIC_DISEASE', 'FATIGUE', 'ALLERGY', 'WHEEZING',\n",
              "       'ALCOHOL_CONSUMING', 'COUGHING', 'SHORTNESS_OF_BREATH',\n",
              "       'SWALLOWING_DIFFICULTY', 'CHEST_PAIN'],\n",
              "      dtype='object')"
            ]
          },
          "metadata": {},
          "execution_count": 270
        }
      ]
    },
    {
      "cell_type": "code",
      "source": [
        "from scipy.stats import chi2_contingency\n",
        "\n",
        "def chi2_test():\n",
        "\n",
        "  for col in df_drop_col:\n",
        "    observed_values = pd.crosstab(df_drop_col[col], df['LUNG_CANCER'])\n",
        "    chi_stats, p_value, dof, expected_value = chi2_contingency(observed_values)\n",
        "    if p_value < 0.05:\n",
        "      print(f\"There is a association between {col} and Lung cancer.\")\n",
        "    else:\n",
        "      print(f\"There is no significant association between {col} and Lung cancer.\")"
      ],
      "metadata": {
        "id": "z1IGm2hag26W"
      },
      "execution_count": 271,
      "outputs": []
    },
    {
      "cell_type": "code",
      "source": [
        "chi2_test()"
      ],
      "metadata": {
        "colab": {
          "base_uri": "https://localhost:8080/"
        },
        "id": "5EWAGoxYg23u",
        "outputId": "8cab5603-a6e0-40ac-9846-c69f145d9051"
      },
      "execution_count": 272,
      "outputs": [
        {
          "output_type": "stream",
          "name": "stdout",
          "text": [
            "There is no significant association between GENDER and Lung cancer.\n",
            "There is no significant association between AGE and Lung cancer.\n",
            "There is no significant association between SMOKING and Lung cancer.\n",
            "There is no significant association between YELLOW_FINGERS and Lung cancer.\n",
            "There is no significant association between ANXIETY and Lung cancer.\n",
            "There is no significant association between PEER_PRESSURE and Lung cancer.\n",
            "There is no significant association between CHRONIC_DISEASE and Lung cancer.\n",
            "There is no significant association between FATIGUE and Lung cancer.\n",
            "There is no significant association between ALLERGY and Lung cancer.\n",
            "There is a association between WHEEZING and Lung cancer.\n",
            "There is no significant association between ALCOHOL_CONSUMING and Lung cancer.\n",
            "There is no significant association between COUGHING and Lung cancer.\n",
            "There is no significant association between SHORTNESS_OF_BREATH and Lung cancer.\n",
            "There is no significant association between SWALLOWING_DIFFICULTY and Lung cancer.\n",
            "There is no significant association between CHEST_PAIN and Lung cancer.\n"
          ]
        }
      ]
    },
    {
      "cell_type": "code",
      "source": [
        "x = df.drop(['AGE_class', 'LUNG_CANCER'], axis = 1)\n",
        "y = df['LUNG_CANCER']"
      ],
      "metadata": {
        "id": "t64u42kh-7bA"
      },
      "execution_count": 273,
      "outputs": []
    },
    {
      "cell_type": "code",
      "source": [
        "from sklearn.model_selection import train_test_split\n",
        "x_train, x_test, y_train, y_test = train_test_split(x, y, train_size = 0.3, random_state = 1)"
      ],
      "metadata": {
        "id": "VCRc6KxIg2vj"
      },
      "execution_count": 274,
      "outputs": []
    },
    {
      "cell_type": "code",
      "source": [
        "from sklearn.feature_selection import mutual_info_classif\n",
        "mutual_info = mutual_info_classif(x_train, y_train)\n",
        "mutual_info"
      ],
      "metadata": {
        "id": "ukYsO0fog2sj",
        "colab": {
          "base_uri": "https://localhost:8080/"
        },
        "outputId": "1c2830f9-06c6-4237-e87b-98d2c67bdb12"
      },
      "execution_count": 275,
      "outputs": [
        {
          "output_type": "execute_result",
          "data": {
            "text/plain": [
              "array([0.00443268, 0.        , 0.00136271, 0.0138474 , 0.04102773,\n",
              "       0.00019871, 0.01849776, 0.        , 0.00858072, 0.00083777,\n",
              "       0.00751002, 0.01669582, 0.        , 0.00972087, 0.        ])"
            ]
          },
          "metadata": {},
          "execution_count": 275
        }
      ]
    },
    {
      "cell_type": "markdown",
      "source": [
        "### Observation:\n",
        "All features are independent to lung cancer."
      ],
      "metadata": {
        "id": "absKdbBfAWYg"
      }
    },
    {
      "cell_type": "markdown",
      "source": [
        "#3. Do the Eda on this Dataset :Presidential Election Polls 2024 Dataset and extract useful information from this:\n",
        "\n",
        "\n",
        "Dataset: Nationwide Russian election poll data from March 04, 2024\n",
        "\n",
        "Dataset Description:\n",
        "\n",
        "This dataset co_prises the results of a nationwide presidential election poll conducted on March 4, 2024. The\n",
        "data offers various insights but does not align with the official election results. You are encouraged to create\n",
        "your notebooks and delve into the data for further exploration"
      ],
      "metadata": {
        "id": "8mO8Mal06rsV"
      }
    },
    {
      "cell_type": "code",
      "execution_count": 276,
      "metadata": {
        "id": "D_kcm-n_K4px"
      },
      "outputs": [],
      "source": [
        "df = pd.read_csv('/content/drive/MyDrive/election2024.csv')"
      ]
    },
    {
      "cell_type": "code",
      "source": [
        "df.head()"
      ],
      "metadata": {
        "colab": {
          "base_uri": "https://localhost:8080/",
          "height": 417
        },
        "id": "GoHLVp-HNp79",
        "outputId": "13c96087-6754-4178-b40f-c76ebefe7307"
      },
      "execution_count": 277,
      "outputs": [
        {
          "output_type": "execute_result",
          "data": {
            "text/plain": [
              "                 id   sex   age federal_district  \\\n",
              "0  07169ed8148ce047  male  18.0  north caucasian   \n",
              "1  0716a4f3354cecdd  male  23.0  north caucasian   \n",
              "2  0716889b304ce79c  male  20.0            volga   \n",
              "3  07168e28b5cce563  male  22.0     northwestern   \n",
              "4  0716a563914ce549  male  21.0         southern   \n",
              "\n",
              "                                   type_of_city    knows_election_date  \\\n",
              "0                                       village     named correct date   \n",
              "1                                       village     named correct date   \n",
              "2         city with population of less than 50k     named correct date   \n",
              "3  city with population of 1 million and higher  not sure or no answer   \n",
              "4  city with population of 1 million and higher     named correct date   \n",
              "\n",
              "        will_vote candidate      television_usage      internet_usage  \\\n",
              "0        not sure     Putin  several times a week  over 4 hours a day   \n",
              "1        not sure     Putin      once half a year  over 4 hours a day   \n",
              "2  definitely yes     Putin  several times a week  over 4 hours a day   \n",
              "3        not sure  Davankov  several times a week  over 4 hours a day   \n",
              "4  definitely yes     Putin        does not watch  over 4 hours a day   \n",
              "\n",
              "                     education     income        employment  \\\n",
              "0  incomplete school education  very high      entrepreneur   \n",
              "1                      college  very high     work for hire   \n",
              "2                      college  very high     work for hire   \n",
              "3                      college  very high        unemployed   \n",
              "4              bachelor degree  very high  employed student   \n",
              "\n",
              "                  job_type                       company_type   weight1  \n",
              "0                      NaN                            farming  1.445172  \n",
              "1  commercial organization                              trade  1.445172  \n",
              "2   law enforcement agency             law enforcement agency  1.301691  \n",
              "3                      NaN                                NaN  1.538628  \n",
              "4  commercial organization  tech, programming, communications  1.967015  "
            ],
            "text/html": [
              "\n",
              "  <div id=\"df-31a03d7a-1264-4370-890b-1a46b2972a13\" class=\"colab-df-container\">\n",
              "    <div>\n",
              "<style scoped>\n",
              "    .dataframe tbody tr th:only-of-type {\n",
              "        vertical-align: middle;\n",
              "    }\n",
              "\n",
              "    .dataframe tbody tr th {\n",
              "        vertical-align: top;\n",
              "    }\n",
              "\n",
              "    .dataframe thead th {\n",
              "        text-align: right;\n",
              "    }\n",
              "</style>\n",
              "<table border=\"1\" class=\"dataframe\">\n",
              "  <thead>\n",
              "    <tr style=\"text-align: right;\">\n",
              "      <th></th>\n",
              "      <th>id</th>\n",
              "      <th>sex</th>\n",
              "      <th>age</th>\n",
              "      <th>federal_district</th>\n",
              "      <th>type_of_city</th>\n",
              "      <th>knows_election_date</th>\n",
              "      <th>will_vote</th>\n",
              "      <th>candidate</th>\n",
              "      <th>television_usage</th>\n",
              "      <th>internet_usage</th>\n",
              "      <th>education</th>\n",
              "      <th>income</th>\n",
              "      <th>employment</th>\n",
              "      <th>job_type</th>\n",
              "      <th>company_type</th>\n",
              "      <th>weight1</th>\n",
              "    </tr>\n",
              "  </thead>\n",
              "  <tbody>\n",
              "    <tr>\n",
              "      <th>0</th>\n",
              "      <td>07169ed8148ce047</td>\n",
              "      <td>male</td>\n",
              "      <td>18.0</td>\n",
              "      <td>north caucasian</td>\n",
              "      <td>village</td>\n",
              "      <td>named correct date</td>\n",
              "      <td>not sure</td>\n",
              "      <td>Putin</td>\n",
              "      <td>several times a week</td>\n",
              "      <td>over 4 hours a day</td>\n",
              "      <td>incomplete school education</td>\n",
              "      <td>very high</td>\n",
              "      <td>entrepreneur</td>\n",
              "      <td>NaN</td>\n",
              "      <td>farming</td>\n",
              "      <td>1.445172</td>\n",
              "    </tr>\n",
              "    <tr>\n",
              "      <th>1</th>\n",
              "      <td>0716a4f3354cecdd</td>\n",
              "      <td>male</td>\n",
              "      <td>23.0</td>\n",
              "      <td>north caucasian</td>\n",
              "      <td>village</td>\n",
              "      <td>named correct date</td>\n",
              "      <td>not sure</td>\n",
              "      <td>Putin</td>\n",
              "      <td>once half a year</td>\n",
              "      <td>over 4 hours a day</td>\n",
              "      <td>college</td>\n",
              "      <td>very high</td>\n",
              "      <td>work for hire</td>\n",
              "      <td>commercial organization</td>\n",
              "      <td>trade</td>\n",
              "      <td>1.445172</td>\n",
              "    </tr>\n",
              "    <tr>\n",
              "      <th>2</th>\n",
              "      <td>0716889b304ce79c</td>\n",
              "      <td>male</td>\n",
              "      <td>20.0</td>\n",
              "      <td>volga</td>\n",
              "      <td>city with population of less than 50k</td>\n",
              "      <td>named correct date</td>\n",
              "      <td>definitely yes</td>\n",
              "      <td>Putin</td>\n",
              "      <td>several times a week</td>\n",
              "      <td>over 4 hours a day</td>\n",
              "      <td>college</td>\n",
              "      <td>very high</td>\n",
              "      <td>work for hire</td>\n",
              "      <td>law enforcement agency</td>\n",
              "      <td>law enforcement agency</td>\n",
              "      <td>1.301691</td>\n",
              "    </tr>\n",
              "    <tr>\n",
              "      <th>3</th>\n",
              "      <td>07168e28b5cce563</td>\n",
              "      <td>male</td>\n",
              "      <td>22.0</td>\n",
              "      <td>northwestern</td>\n",
              "      <td>city with population of 1 million and higher</td>\n",
              "      <td>not sure or no answer</td>\n",
              "      <td>not sure</td>\n",
              "      <td>Davankov</td>\n",
              "      <td>several times a week</td>\n",
              "      <td>over 4 hours a day</td>\n",
              "      <td>college</td>\n",
              "      <td>very high</td>\n",
              "      <td>unemployed</td>\n",
              "      <td>NaN</td>\n",
              "      <td>NaN</td>\n",
              "      <td>1.538628</td>\n",
              "    </tr>\n",
              "    <tr>\n",
              "      <th>4</th>\n",
              "      <td>0716a563914ce549</td>\n",
              "      <td>male</td>\n",
              "      <td>21.0</td>\n",
              "      <td>southern</td>\n",
              "      <td>city with population of 1 million and higher</td>\n",
              "      <td>named correct date</td>\n",
              "      <td>definitely yes</td>\n",
              "      <td>Putin</td>\n",
              "      <td>does not watch</td>\n",
              "      <td>over 4 hours a day</td>\n",
              "      <td>bachelor degree</td>\n",
              "      <td>very high</td>\n",
              "      <td>employed student</td>\n",
              "      <td>commercial organization</td>\n",
              "      <td>tech, programming, communications</td>\n",
              "      <td>1.967015</td>\n",
              "    </tr>\n",
              "  </tbody>\n",
              "</table>\n",
              "</div>\n",
              "    <div class=\"colab-df-buttons\">\n",
              "\n",
              "  <div class=\"colab-df-container\">\n",
              "    <button class=\"colab-df-convert\" onclick=\"convertToInteractive('df-31a03d7a-1264-4370-890b-1a46b2972a13')\"\n",
              "            title=\"Convert this dataframe to an interactive table.\"\n",
              "            style=\"display:none;\">\n",
              "\n",
              "  <svg xmlns=\"http://www.w3.org/2000/svg\" height=\"24px\" viewBox=\"0 -960 960 960\">\n",
              "    <path d=\"M120-120v-720h720v720H120Zm60-500h600v-160H180v160Zm220 220h160v-160H400v160Zm0 220h160v-160H400v160ZM180-400h160v-160H180v160Zm440 0h160v-160H620v160ZM180-180h160v-160H180v160Zm440 0h160v-160H620v160Z\"/>\n",
              "  </svg>\n",
              "    </button>\n",
              "\n",
              "  <style>\n",
              "    .colab-df-container {\n",
              "      display:flex;\n",
              "      gap: 12px;\n",
              "    }\n",
              "\n",
              "    .colab-df-convert {\n",
              "      background-color: #E8F0FE;\n",
              "      border: none;\n",
              "      border-radius: 50%;\n",
              "      cursor: pointer;\n",
              "      display: none;\n",
              "      fill: #1967D2;\n",
              "      height: 32px;\n",
              "      padding: 0 0 0 0;\n",
              "      width: 32px;\n",
              "    }\n",
              "\n",
              "    .colab-df-convert:hover {\n",
              "      background-color: #E2EBFA;\n",
              "      box-shadow: 0px 1px 2px rgba(60, 64, 67, 0.3), 0px 1px 3px 1px rgba(60, 64, 67, 0.15);\n",
              "      fill: #174EA6;\n",
              "    }\n",
              "\n",
              "    .colab-df-buttons div {\n",
              "      margin-bottom: 4px;\n",
              "    }\n",
              "\n",
              "    [theme=dark] .colab-df-convert {\n",
              "      background-color: #3B4455;\n",
              "      fill: #D2E3FC;\n",
              "    }\n",
              "\n",
              "    [theme=dark] .colab-df-convert:hover {\n",
              "      background-color: #434B5C;\n",
              "      box-shadow: 0px 1px 3px 1px rgba(0, 0, 0, 0.15);\n",
              "      filter: drop-shadow(0px 1px 2px rgba(0, 0, 0, 0.3));\n",
              "      fill: #FFFFFF;\n",
              "    }\n",
              "  </style>\n",
              "\n",
              "    <script>\n",
              "      const buttonEl =\n",
              "        document.querySelector('#df-31a03d7a-1264-4370-890b-1a46b2972a13 button.colab-df-convert');\n",
              "      buttonEl.style.display =\n",
              "        google.colab.kernel.accessAllowed ? 'block' : 'none';\n",
              "\n",
              "      async function convertToInteractive(key) {\n",
              "        const element = document.querySelector('#df-31a03d7a-1264-4370-890b-1a46b2972a13');\n",
              "        const dataTable =\n",
              "          await google.colab.kernel.invokeFunction('convertToInteractive',\n",
              "                                                    [key], {});\n",
              "        if (!dataTable) return;\n",
              "\n",
              "        const docLinkHtml = 'Like what you see? Visit the ' +\n",
              "          '<a target=\"_blank\" href=https://colab.research.google.com/notebooks/data_table.ipynb>data table notebook</a>'\n",
              "          + ' to learn more about interactive tables.';\n",
              "        element.innerHTML = '';\n",
              "        dataTable['output_type'] = 'display_data';\n",
              "        await google.colab.output.renderOutput(dataTable, element);\n",
              "        const docLink = document.createElement('div');\n",
              "        docLink.innerHTML = docLinkHtml;\n",
              "        element.appendChild(docLink);\n",
              "      }\n",
              "    </script>\n",
              "  </div>\n",
              "\n",
              "\n",
              "<div id=\"df-4e9b6904-d234-4d8c-bd23-f52ffde94de5\">\n",
              "  <button class=\"colab-df-quickchart\" onclick=\"quickchart('df-4e9b6904-d234-4d8c-bd23-f52ffde94de5')\"\n",
              "            title=\"Suggest charts\"\n",
              "            style=\"display:none;\">\n",
              "\n",
              "<svg xmlns=\"http://www.w3.org/2000/svg\" height=\"24px\"viewBox=\"0 0 24 24\"\n",
              "     width=\"24px\">\n",
              "    <g>\n",
              "        <path d=\"M19 3H5c-1.1 0-2 .9-2 2v14c0 1.1.9 2 2 2h14c1.1 0 2-.9 2-2V5c0-1.1-.9-2-2-2zM9 17H7v-7h2v7zm4 0h-2V7h2v10zm4 0h-2v-4h2v4z\"/>\n",
              "    </g>\n",
              "</svg>\n",
              "  </button>\n",
              "\n",
              "<style>\n",
              "  .colab-df-quickchart {\n",
              "      --bg-color: #E8F0FE;\n",
              "      --fill-color: #1967D2;\n",
              "      --hover-bg-color: #E2EBFA;\n",
              "      --hover-fill-color: #174EA6;\n",
              "      --disabled-fill-color: #AAA;\n",
              "      --disabled-bg-color: #DDD;\n",
              "  }\n",
              "\n",
              "  [theme=dark] .colab-df-quickchart {\n",
              "      --bg-color: #3B4455;\n",
              "      --fill-color: #D2E3FC;\n",
              "      --hover-bg-color: #434B5C;\n",
              "      --hover-fill-color: #FFFFFF;\n",
              "      --disabled-bg-color: #3B4455;\n",
              "      --disabled-fill-color: #666;\n",
              "  }\n",
              "\n",
              "  .colab-df-quickchart {\n",
              "    background-color: var(--bg-color);\n",
              "    border: none;\n",
              "    border-radius: 50%;\n",
              "    cursor: pointer;\n",
              "    display: none;\n",
              "    fill: var(--fill-color);\n",
              "    height: 32px;\n",
              "    padding: 0;\n",
              "    width: 32px;\n",
              "  }\n",
              "\n",
              "  .colab-df-quickchart:hover {\n",
              "    background-color: var(--hover-bg-color);\n",
              "    box-shadow: 0 1px 2px rgba(60, 64, 67, 0.3), 0 1px 3px 1px rgba(60, 64, 67, 0.15);\n",
              "    fill: var(--button-hover-fill-color);\n",
              "  }\n",
              "\n",
              "  .colab-df-quickchart-complete:disabled,\n",
              "  .colab-df-quickchart-complete:disabled:hover {\n",
              "    background-color: var(--disabled-bg-color);\n",
              "    fill: var(--disabled-fill-color);\n",
              "    box-shadow: none;\n",
              "  }\n",
              "\n",
              "  .colab-df-spinner {\n",
              "    border: 2px solid var(--fill-color);\n",
              "    border-color: transparent;\n",
              "    border-bottom-color: var(--fill-color);\n",
              "    animation:\n",
              "      spin 1s steps(1) infinite;\n",
              "  }\n",
              "\n",
              "  @keyframes spin {\n",
              "    0% {\n",
              "      border-color: transparent;\n",
              "      border-bottom-color: var(--fill-color);\n",
              "      border-left-color: var(--fill-color);\n",
              "    }\n",
              "    20% {\n",
              "      border-color: transparent;\n",
              "      border-left-color: var(--fill-color);\n",
              "      border-top-color: var(--fill-color);\n",
              "    }\n",
              "    30% {\n",
              "      border-color: transparent;\n",
              "      border-left-color: var(--fill-color);\n",
              "      border-top-color: var(--fill-color);\n",
              "      border-right-color: var(--fill-color);\n",
              "    }\n",
              "    40% {\n",
              "      border-color: transparent;\n",
              "      border-right-color: var(--fill-color);\n",
              "      border-top-color: var(--fill-color);\n",
              "    }\n",
              "    60% {\n",
              "      border-color: transparent;\n",
              "      border-right-color: var(--fill-color);\n",
              "    }\n",
              "    80% {\n",
              "      border-color: transparent;\n",
              "      border-right-color: var(--fill-color);\n",
              "      border-bottom-color: var(--fill-color);\n",
              "    }\n",
              "    90% {\n",
              "      border-color: transparent;\n",
              "      border-bottom-color: var(--fill-color);\n",
              "    }\n",
              "  }\n",
              "</style>\n",
              "\n",
              "  <script>\n",
              "    async function quickchart(key) {\n",
              "      const quickchartButtonEl =\n",
              "        document.querySelector('#' + key + ' button');\n",
              "      quickchartButtonEl.disabled = true;  // To prevent multiple clicks.\n",
              "      quickchartButtonEl.classList.add('colab-df-spinner');\n",
              "      try {\n",
              "        const charts = await google.colab.kernel.invokeFunction(\n",
              "            'suggestCharts', [key], {});\n",
              "      } catch (error) {\n",
              "        console.error('Error during call to suggestCharts:', error);\n",
              "      }\n",
              "      quickchartButtonEl.classList.remove('colab-df-spinner');\n",
              "      quickchartButtonEl.classList.add('colab-df-quickchart-complete');\n",
              "    }\n",
              "    (() => {\n",
              "      let quickchartButtonEl =\n",
              "        document.querySelector('#df-4e9b6904-d234-4d8c-bd23-f52ffde94de5 button');\n",
              "      quickchartButtonEl.style.display =\n",
              "        google.colab.kernel.accessAllowed ? 'block' : 'none';\n",
              "    })();\n",
              "  </script>\n",
              "</div>\n",
              "\n",
              "    </div>\n",
              "  </div>\n"
            ],
            "application/vnd.google.colaboratory.intrinsic+json": {
              "type": "dataframe",
              "variable_name": "df",
              "summary": "{\n  \"name\": \"df\",\n  \"rows\": 1600,\n  \"fields\": [\n    {\n      \"column\": \"id\",\n      \"properties\": {\n        \"dtype\": \"string\",\n        \"num_unique_values\": 1600,\n        \"samples\": [\n          \"0716769d808ce550\",\n          \"0716a3407d8cec22\",\n          \"07165e882ccceba2\"\n        ],\n        \"semantic_type\": \"\",\n        \"description\": \"\"\n      }\n    },\n    {\n      \"column\": \"sex\",\n      \"properties\": {\n        \"dtype\": \"category\",\n        \"num_unique_values\": 2,\n        \"samples\": [\n          \"female\",\n          \"male\"\n        ],\n        \"semantic_type\": \"\",\n        \"description\": \"\"\n      }\n    },\n    {\n      \"column\": \"age\",\n      \"properties\": {\n        \"dtype\": \"number\",\n        \"std\": 16.901796654315774,\n        \"min\": 18.0,\n        \"max\": 90.0,\n        \"num_unique_values\": 71,\n        \"samples\": [\n          54.0,\n          18.0\n        ],\n        \"semantic_type\": \"\",\n        \"description\": \"\"\n      }\n    },\n    {\n      \"column\": \"federal_district\",\n      \"properties\": {\n        \"dtype\": \"category\",\n        \"num_unique_values\": 8,\n        \"samples\": [\n          \"volga\",\n          \"ural\"\n        ],\n        \"semantic_type\": \"\",\n        \"description\": \"\"\n      }\n    },\n    {\n      \"column\": \"type_of_city\",\n      \"properties\": {\n        \"dtype\": \"category\",\n        \"num_unique_values\": 7,\n        \"samples\": [\n          \"village\",\n          \"city with population of less than 50k\"\n        ],\n        \"semantic_type\": \"\",\n        \"description\": \"\"\n      }\n    },\n    {\n      \"column\": \"knows_election_date\",\n      \"properties\": {\n        \"dtype\": \"category\",\n        \"num_unique_values\": 4,\n        \"samples\": [\n          \"not sure or no answer\",\n          \"named correct year\"\n        ],\n        \"semantic_type\": \"\",\n        \"description\": \"\"\n      }\n    },\n    {\n      \"column\": \"will_vote\",\n      \"properties\": {\n        \"dtype\": \"category\",\n        \"num_unique_values\": 6,\n        \"samples\": [\n          \"not sure\",\n          \"definitely yes\"\n        ],\n        \"semantic_type\": \"\",\n        \"description\": \"\"\n      }\n    },\n    {\n      \"column\": \"candidate\",\n      \"properties\": {\n        \"dtype\": \"category\",\n        \"num_unique_values\": 7,\n        \"samples\": [\n          \"Putin\",\n          \"Davankov\"\n        ],\n        \"semantic_type\": \"\",\n        \"description\": \"\"\n      }\n    },\n    {\n      \"column\": \"television_usage\",\n      \"properties\": {\n        \"dtype\": \"category\",\n        \"num_unique_values\": 6,\n        \"samples\": [\n          \"several times a week\",\n          \"once half a year\"\n        ],\n        \"semantic_type\": \"\",\n        \"description\": \"\"\n      }\n    },\n    {\n      \"column\": \"internet_usage\",\n      \"properties\": {\n        \"dtype\": \"category\",\n        \"num_unique_values\": 6,\n        \"samples\": [\n          \"over 4 hours a day\",\n          \"less than 4 hours a day\"\n        ],\n        \"semantic_type\": \"\",\n        \"description\": \"\"\n      }\n    },\n    {\n      \"column\": \"education\",\n      \"properties\": {\n        \"dtype\": \"category\",\n        \"num_unique_values\": 6,\n        \"samples\": [\n          \"incomplete school education\",\n          \"college\"\n        ],\n        \"semantic_type\": \"\",\n        \"description\": \"\"\n      }\n    },\n    {\n      \"column\": \"income\",\n      \"properties\": {\n        \"dtype\": \"category\",\n        \"num_unique_values\": 6,\n        \"samples\": [\n          \"very high\",\n          \"high\"\n        ],\n        \"semantic_type\": \"\",\n        \"description\": \"\"\n      }\n    },\n    {\n      \"column\": \"employment\",\n      \"properties\": {\n        \"dtype\": \"category\",\n        \"num_unique_values\": 11,\n        \"samples\": [\n          \"unemployed pensioner\",\n          \"entrepreneur\"\n        ],\n        \"semantic_type\": \"\",\n        \"description\": \"\"\n      }\n    },\n    {\n      \"column\": \"job_type\",\n      \"properties\": {\n        \"dtype\": \"category\",\n        \"num_unique_values\": 6,\n        \"samples\": [\n          \"commercial organization\",\n          \"law enforcement agency\"\n        ],\n        \"semantic_type\": \"\",\n        \"description\": \"\"\n      }\n    },\n    {\n      \"column\": \"company_type\",\n      \"properties\": {\n        \"dtype\": \"category\",\n        \"num_unique_values\": 21,\n        \"samples\": [\n          \"farming\",\n          \"hard to say\"\n        ],\n        \"semantic_type\": \"\",\n        \"description\": \"\"\n      }\n    },\n    {\n      \"column\": \"weight1\",\n      \"properties\": {\n        \"dtype\": \"number\",\n        \"std\": 0.3270841717099097,\n        \"min\": 0.4682264408499648,\n        \"max\": 2.5150719933503947,\n        \"num_unique_values\": 569,\n        \"samples\": [\n          1.4142499849509236,\n          1.2533302917347984\n        ],\n        \"semantic_type\": \"\",\n        \"description\": \"\"\n      }\n    }\n  ]\n}"
            }
          },
          "metadata": {},
          "execution_count": 277
        }
      ]
    },
    {
      "cell_type": "code",
      "source": [
        "df.shape"
      ],
      "metadata": {
        "colab": {
          "base_uri": "https://localhost:8080/"
        },
        "id": "UFYX5TsUNuUp",
        "outputId": "46667876-1f2a-469c-f6e3-170e9c78af9d"
      },
      "execution_count": 278,
      "outputs": [
        {
          "output_type": "execute_result",
          "data": {
            "text/plain": [
              "(1600, 16)"
            ]
          },
          "metadata": {},
          "execution_count": 278
        }
      ]
    },
    {
      "cell_type": "code",
      "source": [
        "df.info()"
      ],
      "metadata": {
        "colab": {
          "base_uri": "https://localhost:8080/"
        },
        "id": "KcIueBmyNwjM",
        "outputId": "9bd2ced4-bad4-474c-f0f2-e24e8b5427fe"
      },
      "execution_count": 279,
      "outputs": [
        {
          "output_type": "stream",
          "name": "stdout",
          "text": [
            "<class 'pandas.core.frame.DataFrame'>\n",
            "RangeIndex: 1600 entries, 0 to 1599\n",
            "Data columns (total 16 columns):\n",
            " #   Column               Non-Null Count  Dtype  \n",
            "---  ------               --------------  -----  \n",
            " 0   id                   1600 non-null   object \n",
            " 1   sex                  1600 non-null   object \n",
            " 2   age                  1600 non-null   float64\n",
            " 3   federal_district     1600 non-null   object \n",
            " 4   type_of_city         1600 non-null   object \n",
            " 5   knows_election_date  1600 non-null   object \n",
            " 6   will_vote            1600 non-null   object \n",
            " 7   candidate            1600 non-null   object \n",
            " 8   television_usage     1600 non-null   object \n",
            " 9   internet_usage       1600 non-null   object \n",
            " 10  education            1600 non-null   object \n",
            " 11  income               1600 non-null   object \n",
            " 12  employment           1600 non-null   object \n",
            " 13  job_type             692 non-null    object \n",
            " 14  company_type         879 non-null    object \n",
            " 15  weight1              1600 non-null   float64\n",
            "dtypes: float64(2), object(14)\n",
            "memory usage: 200.1+ KB\n"
          ]
        }
      ]
    },
    {
      "cell_type": "code",
      "source": [
        "df.duplicated().sum()"
      ],
      "metadata": {
        "colab": {
          "base_uri": "https://localhost:8080/"
        },
        "id": "Ncj_y9qwNy9t",
        "outputId": "6ff364ae-007f-47d7-f6fe-3584f7574ae3"
      },
      "execution_count": 280,
      "outputs": [
        {
          "output_type": "execute_result",
          "data": {
            "text/plain": [
              "0"
            ]
          },
          "metadata": {},
          "execution_count": 280
        }
      ]
    },
    {
      "cell_type": "code",
      "source": [
        "df.isna().sum()"
      ],
      "metadata": {
        "colab": {
          "base_uri": "https://localhost:8080/",
          "height": 585
        },
        "id": "9SKHRUfROMu9",
        "outputId": "baed30ce-ba8a-4f9d-c049-26a942d7767b"
      },
      "execution_count": 281,
      "outputs": [
        {
          "output_type": "execute_result",
          "data": {
            "text/plain": [
              "id                       0\n",
              "sex                      0\n",
              "age                      0\n",
              "federal_district         0\n",
              "type_of_city             0\n",
              "knows_election_date      0\n",
              "will_vote                0\n",
              "candidate                0\n",
              "television_usage         0\n",
              "internet_usage           0\n",
              "education                0\n",
              "income                   0\n",
              "employment               0\n",
              "job_type               908\n",
              "company_type           721\n",
              "weight1                  0\n",
              "dtype: int64"
            ],
            "text/html": [
              "<div>\n",
              "<style scoped>\n",
              "    .dataframe tbody tr th:only-of-type {\n",
              "        vertical-align: middle;\n",
              "    }\n",
              "\n",
              "    .dataframe tbody tr th {\n",
              "        vertical-align: top;\n",
              "    }\n",
              "\n",
              "    .dataframe thead th {\n",
              "        text-align: right;\n",
              "    }\n",
              "</style>\n",
              "<table border=\"1\" class=\"dataframe\">\n",
              "  <thead>\n",
              "    <tr style=\"text-align: right;\">\n",
              "      <th></th>\n",
              "      <th>0</th>\n",
              "    </tr>\n",
              "  </thead>\n",
              "  <tbody>\n",
              "    <tr>\n",
              "      <th>id</th>\n",
              "      <td>0</td>\n",
              "    </tr>\n",
              "    <tr>\n",
              "      <th>sex</th>\n",
              "      <td>0</td>\n",
              "    </tr>\n",
              "    <tr>\n",
              "      <th>age</th>\n",
              "      <td>0</td>\n",
              "    </tr>\n",
              "    <tr>\n",
              "      <th>federal_district</th>\n",
              "      <td>0</td>\n",
              "    </tr>\n",
              "    <tr>\n",
              "      <th>type_of_city</th>\n",
              "      <td>0</td>\n",
              "    </tr>\n",
              "    <tr>\n",
              "      <th>knows_election_date</th>\n",
              "      <td>0</td>\n",
              "    </tr>\n",
              "    <tr>\n",
              "      <th>will_vote</th>\n",
              "      <td>0</td>\n",
              "    </tr>\n",
              "    <tr>\n",
              "      <th>candidate</th>\n",
              "      <td>0</td>\n",
              "    </tr>\n",
              "    <tr>\n",
              "      <th>television_usage</th>\n",
              "      <td>0</td>\n",
              "    </tr>\n",
              "    <tr>\n",
              "      <th>internet_usage</th>\n",
              "      <td>0</td>\n",
              "    </tr>\n",
              "    <tr>\n",
              "      <th>education</th>\n",
              "      <td>0</td>\n",
              "    </tr>\n",
              "    <tr>\n",
              "      <th>income</th>\n",
              "      <td>0</td>\n",
              "    </tr>\n",
              "    <tr>\n",
              "      <th>employment</th>\n",
              "      <td>0</td>\n",
              "    </tr>\n",
              "    <tr>\n",
              "      <th>job_type</th>\n",
              "      <td>908</td>\n",
              "    </tr>\n",
              "    <tr>\n",
              "      <th>company_type</th>\n",
              "      <td>721</td>\n",
              "    </tr>\n",
              "    <tr>\n",
              "      <th>weight1</th>\n",
              "      <td>0</td>\n",
              "    </tr>\n",
              "  </tbody>\n",
              "</table>\n",
              "</div><br><label><b>dtype:</b> int64</label>"
            ]
          },
          "metadata": {},
          "execution_count": 281
        }
      ]
    },
    {
      "cell_type": "code",
      "source": [
        "df.nunique()"
      ],
      "metadata": {
        "colab": {
          "base_uri": "https://localhost:8080/",
          "height": 585
        },
        "id": "X_QRNUreOQMS",
        "outputId": "40ce7ce2-f762-4cf7-b2af-7fa55b8e78d4"
      },
      "execution_count": 282,
      "outputs": [
        {
          "output_type": "execute_result",
          "data": {
            "text/plain": [
              "id                     1600\n",
              "sex                       2\n",
              "age                      71\n",
              "federal_district          8\n",
              "type_of_city              7\n",
              "knows_election_date       4\n",
              "will_vote                 6\n",
              "candidate                 7\n",
              "television_usage          6\n",
              "internet_usage            6\n",
              "education                 6\n",
              "income                    6\n",
              "employment               11\n",
              "job_type                  6\n",
              "company_type             21\n",
              "weight1                 569\n",
              "dtype: int64"
            ],
            "text/html": [
              "<div>\n",
              "<style scoped>\n",
              "    .dataframe tbody tr th:only-of-type {\n",
              "        vertical-align: middle;\n",
              "    }\n",
              "\n",
              "    .dataframe tbody tr th {\n",
              "        vertical-align: top;\n",
              "    }\n",
              "\n",
              "    .dataframe thead th {\n",
              "        text-align: right;\n",
              "    }\n",
              "</style>\n",
              "<table border=\"1\" class=\"dataframe\">\n",
              "  <thead>\n",
              "    <tr style=\"text-align: right;\">\n",
              "      <th></th>\n",
              "      <th>0</th>\n",
              "    </tr>\n",
              "  </thead>\n",
              "  <tbody>\n",
              "    <tr>\n",
              "      <th>id</th>\n",
              "      <td>1600</td>\n",
              "    </tr>\n",
              "    <tr>\n",
              "      <th>sex</th>\n",
              "      <td>2</td>\n",
              "    </tr>\n",
              "    <tr>\n",
              "      <th>age</th>\n",
              "      <td>71</td>\n",
              "    </tr>\n",
              "    <tr>\n",
              "      <th>federal_district</th>\n",
              "      <td>8</td>\n",
              "    </tr>\n",
              "    <tr>\n",
              "      <th>type_of_city</th>\n",
              "      <td>7</td>\n",
              "    </tr>\n",
              "    <tr>\n",
              "      <th>knows_election_date</th>\n",
              "      <td>4</td>\n",
              "    </tr>\n",
              "    <tr>\n",
              "      <th>will_vote</th>\n",
              "      <td>6</td>\n",
              "    </tr>\n",
              "    <tr>\n",
              "      <th>candidate</th>\n",
              "      <td>7</td>\n",
              "    </tr>\n",
              "    <tr>\n",
              "      <th>television_usage</th>\n",
              "      <td>6</td>\n",
              "    </tr>\n",
              "    <tr>\n",
              "      <th>internet_usage</th>\n",
              "      <td>6</td>\n",
              "    </tr>\n",
              "    <tr>\n",
              "      <th>education</th>\n",
              "      <td>6</td>\n",
              "    </tr>\n",
              "    <tr>\n",
              "      <th>income</th>\n",
              "      <td>6</td>\n",
              "    </tr>\n",
              "    <tr>\n",
              "      <th>employment</th>\n",
              "      <td>11</td>\n",
              "    </tr>\n",
              "    <tr>\n",
              "      <th>job_type</th>\n",
              "      <td>6</td>\n",
              "    </tr>\n",
              "    <tr>\n",
              "      <th>company_type</th>\n",
              "      <td>21</td>\n",
              "    </tr>\n",
              "    <tr>\n",
              "      <th>weight1</th>\n",
              "      <td>569</td>\n",
              "    </tr>\n",
              "  </tbody>\n",
              "</table>\n",
              "</div><br><label><b>dtype:</b> int64</label>"
            ]
          },
          "metadata": {},
          "execution_count": 282
        }
      ]
    },
    {
      "cell_type": "code",
      "source": [
        "df.drop(['weight1','id'], axis = 1, inplace = True)"
      ],
      "metadata": {
        "id": "CrhDb8dpOgXo"
      },
      "execution_count": 283,
      "outputs": []
    },
    {
      "cell_type": "code",
      "source": [
        "df.head()"
      ],
      "metadata": {
        "colab": {
          "base_uri": "https://localhost:8080/",
          "height": 417
        },
        "id": "xiaQwND8Ou3c",
        "outputId": "da93e80e-d7e2-4cd9-a922-f043342dfd8b"
      },
      "execution_count": 284,
      "outputs": [
        {
          "output_type": "execute_result",
          "data": {
            "text/plain": [
              "    sex   age federal_district                                  type_of_city  \\\n",
              "0  male  18.0  north caucasian                                       village   \n",
              "1  male  23.0  north caucasian                                       village   \n",
              "2  male  20.0            volga         city with population of less than 50k   \n",
              "3  male  22.0     northwestern  city with population of 1 million and higher   \n",
              "4  male  21.0         southern  city with population of 1 million and higher   \n",
              "\n",
              "     knows_election_date       will_vote candidate      television_usage  \\\n",
              "0     named correct date        not sure     Putin  several times a week   \n",
              "1     named correct date        not sure     Putin      once half a year   \n",
              "2     named correct date  definitely yes     Putin  several times a week   \n",
              "3  not sure or no answer        not sure  Davankov  several times a week   \n",
              "4     named correct date  definitely yes     Putin        does not watch   \n",
              "\n",
              "       internet_usage                    education     income  \\\n",
              "0  over 4 hours a day  incomplete school education  very high   \n",
              "1  over 4 hours a day                      college  very high   \n",
              "2  over 4 hours a day                      college  very high   \n",
              "3  over 4 hours a day                      college  very high   \n",
              "4  over 4 hours a day              bachelor degree  very high   \n",
              "\n",
              "         employment                 job_type  \\\n",
              "0      entrepreneur                      NaN   \n",
              "1     work for hire  commercial organization   \n",
              "2     work for hire   law enforcement agency   \n",
              "3        unemployed                      NaN   \n",
              "4  employed student  commercial organization   \n",
              "\n",
              "                        company_type  \n",
              "0                            farming  \n",
              "1                              trade  \n",
              "2             law enforcement agency  \n",
              "3                                NaN  \n",
              "4  tech, programming, communications  "
            ],
            "text/html": [
              "\n",
              "  <div id=\"df-488289fe-4939-4330-b666-6c33cb074f2b\" class=\"colab-df-container\">\n",
              "    <div>\n",
              "<style scoped>\n",
              "    .dataframe tbody tr th:only-of-type {\n",
              "        vertical-align: middle;\n",
              "    }\n",
              "\n",
              "    .dataframe tbody tr th {\n",
              "        vertical-align: top;\n",
              "    }\n",
              "\n",
              "    .dataframe thead th {\n",
              "        text-align: right;\n",
              "    }\n",
              "</style>\n",
              "<table border=\"1\" class=\"dataframe\">\n",
              "  <thead>\n",
              "    <tr style=\"text-align: right;\">\n",
              "      <th></th>\n",
              "      <th>sex</th>\n",
              "      <th>age</th>\n",
              "      <th>federal_district</th>\n",
              "      <th>type_of_city</th>\n",
              "      <th>knows_election_date</th>\n",
              "      <th>will_vote</th>\n",
              "      <th>candidate</th>\n",
              "      <th>television_usage</th>\n",
              "      <th>internet_usage</th>\n",
              "      <th>education</th>\n",
              "      <th>income</th>\n",
              "      <th>employment</th>\n",
              "      <th>job_type</th>\n",
              "      <th>company_type</th>\n",
              "    </tr>\n",
              "  </thead>\n",
              "  <tbody>\n",
              "    <tr>\n",
              "      <th>0</th>\n",
              "      <td>male</td>\n",
              "      <td>18.0</td>\n",
              "      <td>north caucasian</td>\n",
              "      <td>village</td>\n",
              "      <td>named correct date</td>\n",
              "      <td>not sure</td>\n",
              "      <td>Putin</td>\n",
              "      <td>several times a week</td>\n",
              "      <td>over 4 hours a day</td>\n",
              "      <td>incomplete school education</td>\n",
              "      <td>very high</td>\n",
              "      <td>entrepreneur</td>\n",
              "      <td>NaN</td>\n",
              "      <td>farming</td>\n",
              "    </tr>\n",
              "    <tr>\n",
              "      <th>1</th>\n",
              "      <td>male</td>\n",
              "      <td>23.0</td>\n",
              "      <td>north caucasian</td>\n",
              "      <td>village</td>\n",
              "      <td>named correct date</td>\n",
              "      <td>not sure</td>\n",
              "      <td>Putin</td>\n",
              "      <td>once half a year</td>\n",
              "      <td>over 4 hours a day</td>\n",
              "      <td>college</td>\n",
              "      <td>very high</td>\n",
              "      <td>work for hire</td>\n",
              "      <td>commercial organization</td>\n",
              "      <td>trade</td>\n",
              "    </tr>\n",
              "    <tr>\n",
              "      <th>2</th>\n",
              "      <td>male</td>\n",
              "      <td>20.0</td>\n",
              "      <td>volga</td>\n",
              "      <td>city with population of less than 50k</td>\n",
              "      <td>named correct date</td>\n",
              "      <td>definitely yes</td>\n",
              "      <td>Putin</td>\n",
              "      <td>several times a week</td>\n",
              "      <td>over 4 hours a day</td>\n",
              "      <td>college</td>\n",
              "      <td>very high</td>\n",
              "      <td>work for hire</td>\n",
              "      <td>law enforcement agency</td>\n",
              "      <td>law enforcement agency</td>\n",
              "    </tr>\n",
              "    <tr>\n",
              "      <th>3</th>\n",
              "      <td>male</td>\n",
              "      <td>22.0</td>\n",
              "      <td>northwestern</td>\n",
              "      <td>city with population of 1 million and higher</td>\n",
              "      <td>not sure or no answer</td>\n",
              "      <td>not sure</td>\n",
              "      <td>Davankov</td>\n",
              "      <td>several times a week</td>\n",
              "      <td>over 4 hours a day</td>\n",
              "      <td>college</td>\n",
              "      <td>very high</td>\n",
              "      <td>unemployed</td>\n",
              "      <td>NaN</td>\n",
              "      <td>NaN</td>\n",
              "    </tr>\n",
              "    <tr>\n",
              "      <th>4</th>\n",
              "      <td>male</td>\n",
              "      <td>21.0</td>\n",
              "      <td>southern</td>\n",
              "      <td>city with population of 1 million and higher</td>\n",
              "      <td>named correct date</td>\n",
              "      <td>definitely yes</td>\n",
              "      <td>Putin</td>\n",
              "      <td>does not watch</td>\n",
              "      <td>over 4 hours a day</td>\n",
              "      <td>bachelor degree</td>\n",
              "      <td>very high</td>\n",
              "      <td>employed student</td>\n",
              "      <td>commercial organization</td>\n",
              "      <td>tech, programming, communications</td>\n",
              "    </tr>\n",
              "  </tbody>\n",
              "</table>\n",
              "</div>\n",
              "    <div class=\"colab-df-buttons\">\n",
              "\n",
              "  <div class=\"colab-df-container\">\n",
              "    <button class=\"colab-df-convert\" onclick=\"convertToInteractive('df-488289fe-4939-4330-b666-6c33cb074f2b')\"\n",
              "            title=\"Convert this dataframe to an interactive table.\"\n",
              "            style=\"display:none;\">\n",
              "\n",
              "  <svg xmlns=\"http://www.w3.org/2000/svg\" height=\"24px\" viewBox=\"0 -960 960 960\">\n",
              "    <path d=\"M120-120v-720h720v720H120Zm60-500h600v-160H180v160Zm220 220h160v-160H400v160Zm0 220h160v-160H400v160ZM180-400h160v-160H180v160Zm440 0h160v-160H620v160ZM180-180h160v-160H180v160Zm440 0h160v-160H620v160Z\"/>\n",
              "  </svg>\n",
              "    </button>\n",
              "\n",
              "  <style>\n",
              "    .colab-df-container {\n",
              "      display:flex;\n",
              "      gap: 12px;\n",
              "    }\n",
              "\n",
              "    .colab-df-convert {\n",
              "      background-color: #E8F0FE;\n",
              "      border: none;\n",
              "      border-radius: 50%;\n",
              "      cursor: pointer;\n",
              "      display: none;\n",
              "      fill: #1967D2;\n",
              "      height: 32px;\n",
              "      padding: 0 0 0 0;\n",
              "      width: 32px;\n",
              "    }\n",
              "\n",
              "    .colab-df-convert:hover {\n",
              "      background-color: #E2EBFA;\n",
              "      box-shadow: 0px 1px 2px rgba(60, 64, 67, 0.3), 0px 1px 3px 1px rgba(60, 64, 67, 0.15);\n",
              "      fill: #174EA6;\n",
              "    }\n",
              "\n",
              "    .colab-df-buttons div {\n",
              "      margin-bottom: 4px;\n",
              "    }\n",
              "\n",
              "    [theme=dark] .colab-df-convert {\n",
              "      background-color: #3B4455;\n",
              "      fill: #D2E3FC;\n",
              "    }\n",
              "\n",
              "    [theme=dark] .colab-df-convert:hover {\n",
              "      background-color: #434B5C;\n",
              "      box-shadow: 0px 1px 3px 1px rgba(0, 0, 0, 0.15);\n",
              "      filter: drop-shadow(0px 1px 2px rgba(0, 0, 0, 0.3));\n",
              "      fill: #FFFFFF;\n",
              "    }\n",
              "  </style>\n",
              "\n",
              "    <script>\n",
              "      const buttonEl =\n",
              "        document.querySelector('#df-488289fe-4939-4330-b666-6c33cb074f2b button.colab-df-convert');\n",
              "      buttonEl.style.display =\n",
              "        google.colab.kernel.accessAllowed ? 'block' : 'none';\n",
              "\n",
              "      async function convertToInteractive(key) {\n",
              "        const element = document.querySelector('#df-488289fe-4939-4330-b666-6c33cb074f2b');\n",
              "        const dataTable =\n",
              "          await google.colab.kernel.invokeFunction('convertToInteractive',\n",
              "                                                    [key], {});\n",
              "        if (!dataTable) return;\n",
              "\n",
              "        const docLinkHtml = 'Like what you see? Visit the ' +\n",
              "          '<a target=\"_blank\" href=https://colab.research.google.com/notebooks/data_table.ipynb>data table notebook</a>'\n",
              "          + ' to learn more about interactive tables.';\n",
              "        element.innerHTML = '';\n",
              "        dataTable['output_type'] = 'display_data';\n",
              "        await google.colab.output.renderOutput(dataTable, element);\n",
              "        const docLink = document.createElement('div');\n",
              "        docLink.innerHTML = docLinkHtml;\n",
              "        element.appendChild(docLink);\n",
              "      }\n",
              "    </script>\n",
              "  </div>\n",
              "\n",
              "\n",
              "<div id=\"df-3f47fd70-9c4c-4f5b-8757-97ac64df43f2\">\n",
              "  <button class=\"colab-df-quickchart\" onclick=\"quickchart('df-3f47fd70-9c4c-4f5b-8757-97ac64df43f2')\"\n",
              "            title=\"Suggest charts\"\n",
              "            style=\"display:none;\">\n",
              "\n",
              "<svg xmlns=\"http://www.w3.org/2000/svg\" height=\"24px\"viewBox=\"0 0 24 24\"\n",
              "     width=\"24px\">\n",
              "    <g>\n",
              "        <path d=\"M19 3H5c-1.1 0-2 .9-2 2v14c0 1.1.9 2 2 2h14c1.1 0 2-.9 2-2V5c0-1.1-.9-2-2-2zM9 17H7v-7h2v7zm4 0h-2V7h2v10zm4 0h-2v-4h2v4z\"/>\n",
              "    </g>\n",
              "</svg>\n",
              "  </button>\n",
              "\n",
              "<style>\n",
              "  .colab-df-quickchart {\n",
              "      --bg-color: #E8F0FE;\n",
              "      --fill-color: #1967D2;\n",
              "      --hover-bg-color: #E2EBFA;\n",
              "      --hover-fill-color: #174EA6;\n",
              "      --disabled-fill-color: #AAA;\n",
              "      --disabled-bg-color: #DDD;\n",
              "  }\n",
              "\n",
              "  [theme=dark] .colab-df-quickchart {\n",
              "      --bg-color: #3B4455;\n",
              "      --fill-color: #D2E3FC;\n",
              "      --hover-bg-color: #434B5C;\n",
              "      --hover-fill-color: #FFFFFF;\n",
              "      --disabled-bg-color: #3B4455;\n",
              "      --disabled-fill-color: #666;\n",
              "  }\n",
              "\n",
              "  .colab-df-quickchart {\n",
              "    background-color: var(--bg-color);\n",
              "    border: none;\n",
              "    border-radius: 50%;\n",
              "    cursor: pointer;\n",
              "    display: none;\n",
              "    fill: var(--fill-color);\n",
              "    height: 32px;\n",
              "    padding: 0;\n",
              "    width: 32px;\n",
              "  }\n",
              "\n",
              "  .colab-df-quickchart:hover {\n",
              "    background-color: var(--hover-bg-color);\n",
              "    box-shadow: 0 1px 2px rgba(60, 64, 67, 0.3), 0 1px 3px 1px rgba(60, 64, 67, 0.15);\n",
              "    fill: var(--button-hover-fill-color);\n",
              "  }\n",
              "\n",
              "  .colab-df-quickchart-complete:disabled,\n",
              "  .colab-df-quickchart-complete:disabled:hover {\n",
              "    background-color: var(--disabled-bg-color);\n",
              "    fill: var(--disabled-fill-color);\n",
              "    box-shadow: none;\n",
              "  }\n",
              "\n",
              "  .colab-df-spinner {\n",
              "    border: 2px solid var(--fill-color);\n",
              "    border-color: transparent;\n",
              "    border-bottom-color: var(--fill-color);\n",
              "    animation:\n",
              "      spin 1s steps(1) infinite;\n",
              "  }\n",
              "\n",
              "  @keyframes spin {\n",
              "    0% {\n",
              "      border-color: transparent;\n",
              "      border-bottom-color: var(--fill-color);\n",
              "      border-left-color: var(--fill-color);\n",
              "    }\n",
              "    20% {\n",
              "      border-color: transparent;\n",
              "      border-left-color: var(--fill-color);\n",
              "      border-top-color: var(--fill-color);\n",
              "    }\n",
              "    30% {\n",
              "      border-color: transparent;\n",
              "      border-left-color: var(--fill-color);\n",
              "      border-top-color: var(--fill-color);\n",
              "      border-right-color: var(--fill-color);\n",
              "    }\n",
              "    40% {\n",
              "      border-color: transparent;\n",
              "      border-right-color: var(--fill-color);\n",
              "      border-top-color: var(--fill-color);\n",
              "    }\n",
              "    60% {\n",
              "      border-color: transparent;\n",
              "      border-right-color: var(--fill-color);\n",
              "    }\n",
              "    80% {\n",
              "      border-color: transparent;\n",
              "      border-right-color: var(--fill-color);\n",
              "      border-bottom-color: var(--fill-color);\n",
              "    }\n",
              "    90% {\n",
              "      border-color: transparent;\n",
              "      border-bottom-color: var(--fill-color);\n",
              "    }\n",
              "  }\n",
              "</style>\n",
              "\n",
              "  <script>\n",
              "    async function quickchart(key) {\n",
              "      const quickchartButtonEl =\n",
              "        document.querySelector('#' + key + ' button');\n",
              "      quickchartButtonEl.disabled = true;  // To prevent multiple clicks.\n",
              "      quickchartButtonEl.classList.add('colab-df-spinner');\n",
              "      try {\n",
              "        const charts = await google.colab.kernel.invokeFunction(\n",
              "            'suggestCharts', [key], {});\n",
              "      } catch (error) {\n",
              "        console.error('Error during call to suggestCharts:', error);\n",
              "      }\n",
              "      quickchartButtonEl.classList.remove('colab-df-spinner');\n",
              "      quickchartButtonEl.classList.add('colab-df-quickchart-complete');\n",
              "    }\n",
              "    (() => {\n",
              "      let quickchartButtonEl =\n",
              "        document.querySelector('#df-3f47fd70-9c4c-4f5b-8757-97ac64df43f2 button');\n",
              "      quickchartButtonEl.style.display =\n",
              "        google.colab.kernel.accessAllowed ? 'block' : 'none';\n",
              "    })();\n",
              "  </script>\n",
              "</div>\n",
              "\n",
              "    </div>\n",
              "  </div>\n"
            ],
            "application/vnd.google.colaboratory.intrinsic+json": {
              "type": "dataframe",
              "variable_name": "df",
              "summary": "{\n  \"name\": \"df\",\n  \"rows\": 1600,\n  \"fields\": [\n    {\n      \"column\": \"sex\",\n      \"properties\": {\n        \"dtype\": \"category\",\n        \"num_unique_values\": 2,\n        \"samples\": [\n          \"female\",\n          \"male\"\n        ],\n        \"semantic_type\": \"\",\n        \"description\": \"\"\n      }\n    },\n    {\n      \"column\": \"age\",\n      \"properties\": {\n        \"dtype\": \"number\",\n        \"std\": 16.901796654315774,\n        \"min\": 18.0,\n        \"max\": 90.0,\n        \"num_unique_values\": 71,\n        \"samples\": [\n          54.0,\n          18.0\n        ],\n        \"semantic_type\": \"\",\n        \"description\": \"\"\n      }\n    },\n    {\n      \"column\": \"federal_district\",\n      \"properties\": {\n        \"dtype\": \"category\",\n        \"num_unique_values\": 8,\n        \"samples\": [\n          \"volga\",\n          \"ural\"\n        ],\n        \"semantic_type\": \"\",\n        \"description\": \"\"\n      }\n    },\n    {\n      \"column\": \"type_of_city\",\n      \"properties\": {\n        \"dtype\": \"category\",\n        \"num_unique_values\": 7,\n        \"samples\": [\n          \"village\",\n          \"city with population of less than 50k\"\n        ],\n        \"semantic_type\": \"\",\n        \"description\": \"\"\n      }\n    },\n    {\n      \"column\": \"knows_election_date\",\n      \"properties\": {\n        \"dtype\": \"category\",\n        \"num_unique_values\": 4,\n        \"samples\": [\n          \"not sure or no answer\",\n          \"named correct year\"\n        ],\n        \"semantic_type\": \"\",\n        \"description\": \"\"\n      }\n    },\n    {\n      \"column\": \"will_vote\",\n      \"properties\": {\n        \"dtype\": \"category\",\n        \"num_unique_values\": 6,\n        \"samples\": [\n          \"not sure\",\n          \"definitely yes\"\n        ],\n        \"semantic_type\": \"\",\n        \"description\": \"\"\n      }\n    },\n    {\n      \"column\": \"candidate\",\n      \"properties\": {\n        \"dtype\": \"category\",\n        \"num_unique_values\": 7,\n        \"samples\": [\n          \"Putin\",\n          \"Davankov\"\n        ],\n        \"semantic_type\": \"\",\n        \"description\": \"\"\n      }\n    },\n    {\n      \"column\": \"television_usage\",\n      \"properties\": {\n        \"dtype\": \"category\",\n        \"num_unique_values\": 6,\n        \"samples\": [\n          \"several times a week\",\n          \"once half a year\"\n        ],\n        \"semantic_type\": \"\",\n        \"description\": \"\"\n      }\n    },\n    {\n      \"column\": \"internet_usage\",\n      \"properties\": {\n        \"dtype\": \"category\",\n        \"num_unique_values\": 6,\n        \"samples\": [\n          \"over 4 hours a day\",\n          \"less than 4 hours a day\"\n        ],\n        \"semantic_type\": \"\",\n        \"description\": \"\"\n      }\n    },\n    {\n      \"column\": \"education\",\n      \"properties\": {\n        \"dtype\": \"category\",\n        \"num_unique_values\": 6,\n        \"samples\": [\n          \"incomplete school education\",\n          \"college\"\n        ],\n        \"semantic_type\": \"\",\n        \"description\": \"\"\n      }\n    },\n    {\n      \"column\": \"income\",\n      \"properties\": {\n        \"dtype\": \"category\",\n        \"num_unique_values\": 6,\n        \"samples\": [\n          \"very high\",\n          \"high\"\n        ],\n        \"semantic_type\": \"\",\n        \"description\": \"\"\n      }\n    },\n    {\n      \"column\": \"employment\",\n      \"properties\": {\n        \"dtype\": \"category\",\n        \"num_unique_values\": 11,\n        \"samples\": [\n          \"unemployed pensioner\",\n          \"entrepreneur\"\n        ],\n        \"semantic_type\": \"\",\n        \"description\": \"\"\n      }\n    },\n    {\n      \"column\": \"job_type\",\n      \"properties\": {\n        \"dtype\": \"category\",\n        \"num_unique_values\": 6,\n        \"samples\": [\n          \"commercial organization\",\n          \"law enforcement agency\"\n        ],\n        \"semantic_type\": \"\",\n        \"description\": \"\"\n      }\n    },\n    {\n      \"column\": \"company_type\",\n      \"properties\": {\n        \"dtype\": \"category\",\n        \"num_unique_values\": 21,\n        \"samples\": [\n          \"farming\",\n          \"hard to say\"\n        ],\n        \"semantic_type\": \"\",\n        \"description\": \"\"\n      }\n    }\n  ]\n}"
            }
          },
          "metadata": {},
          "execution_count": 284
        }
      ]
    },
    {
      "cell_type": "code",
      "source": [
        "numerical_col = [col for col in df.columns if df[col].dtype != 'object']\n",
        "numerical_col"
      ],
      "metadata": {
        "colab": {
          "base_uri": "https://localhost:8080/"
        },
        "id": "zEpT-lf1Ozbt",
        "outputId": "dc81f276-299c-4651-fb5c-e00b5568de5c"
      },
      "execution_count": 285,
      "outputs": [
        {
          "output_type": "execute_result",
          "data": {
            "text/plain": [
              "['age']"
            ]
          },
          "metadata": {},
          "execution_count": 285
        }
      ]
    },
    {
      "cell_type": "code",
      "source": [
        "categorical_col = [col for col in df.columns if df[col].dtypes == 'object']\n",
        "categorical_col"
      ],
      "metadata": {
        "colab": {
          "base_uri": "https://localhost:8080/"
        },
        "id": "JZ9uot4YPFNW",
        "outputId": "d50d102c-26c3-43b3-ee7f-b53d1805711d"
      },
      "execution_count": 286,
      "outputs": [
        {
          "output_type": "execute_result",
          "data": {
            "text/plain": [
              "['sex',\n",
              " 'federal_district',\n",
              " 'type_of_city',\n",
              " 'knows_election_date',\n",
              " 'will_vote',\n",
              " 'candidate',\n",
              " 'television_usage',\n",
              " 'internet_usage',\n",
              " 'education',\n",
              " 'income',\n",
              " 'employment',\n",
              " 'job_type',\n",
              " 'company_type']"
            ]
          },
          "metadata": {},
          "execution_count": 286
        }
      ]
    },
    {
      "cell_type": "code",
      "source": [
        "def unique_value(categorical_col):\n",
        "  for col in categorical_col:\n",
        "    print(f\"{col} has unique values {df[col].unique()}\")\n",
        "\n",
        "unique_value(categorical_col)"
      ],
      "metadata": {
        "colab": {
          "base_uri": "https://localhost:8080/"
        },
        "id": "sjLeVtcnPS9a",
        "outputId": "89b40ff3-5d3b-4c04-bd7c-05a065098833"
      },
      "execution_count": 287,
      "outputs": [
        {
          "output_type": "stream",
          "name": "stdout",
          "text": [
            "sex has unique values ['male' 'female']\n",
            "federal_district has unique values ['north caucasian' 'volga' 'northwestern' 'southern' 'central' 'ural'\n",
            " 'siberian' 'far eastern']\n",
            "type_of_city has unique values ['village' 'city with population of less than 50k'\n",
            " 'city with population of 1 million and higher'\n",
            " 'city with population of 50-100k' 'city with population of 100-500k'\n",
            " 'settlement' 'city with population of 500-950k']\n",
            "knows_election_date has unique values ['named correct date' 'not sure or no answer' 'wrong answer'\n",
            " 'named correct year']\n",
            "will_vote has unique values ['not sure' 'definitely yes' 'likely no' 'definitely no' 'likely yes'\n",
            " 'struggle to answer']\n",
            "candidate has unique values ['Putin' 'Davankov' 'will not take part' 'spoilt vote' 'Kharitonov'\n",
            " 'struggle to answer' 'Slutskiy']\n",
            "television_usage has unique values ['several times a week' 'once half a year' 'does not watch'\n",
            " 'less than 4 hours a day' 'over 4 hours a day' 'several times a month']\n",
            "internet_usage has unique values ['over 4 hours a day' 'less than 4 hours a day' 'several times a week'\n",
            " 'does not use internet' 'several times a month' 'once half a year']\n",
            "education has unique values ['incomplete school education' 'college' 'bachelor degree' 'school'\n",
            " 'academic degree' 'no school education']\n",
            "income has unique values ['very high' 'high' 'medium' 'low' 'very low' 'hard to say']\n",
            "employment has unique values ['entrepreneur' 'work for hire' 'unemployed' 'employed student'\n",
            " 'self-employed' 'unemployed pensioner' 'employed pensioner'\n",
            " 'unemployed student' 'parental leave' 'hard to say' 'refused to answer']\n",
            "job_type has unique values [nan 'commercial organization' 'law enforcement agency'\n",
            " 'government agency' 'government, management, judicial bodies'\n",
            " 'non-profit agency' 'hard to say']\n",
            "company_type has unique values ['farming' 'trade' 'law enforcement agency' nan\n",
            " 'tech, programming, communications' 'refused to answer'\n",
            " 'industry, manufacturing' 'other' 'housing and communal services'\n",
            " 'finances' 'education' 'healthcare' 'state administration'\n",
            " 'culture, sports' 'transportation, storage'\n",
            " 'Сфера услуг, сервиса, бытового обслуживания Включает в том числе: Прачечная/химчистка, ремонт мебели, часов, ювелирны...'\n",
            " 'catering, restaurants' 'construction, architecture' 'hard to say'\n",
            " 'entertainment, tourism' 'social services' 'media']\n"
          ]
        }
      ]
    },
    {
      "cell_type": "code",
      "source": [
        "df.drop(['company_type', 'job_type'], axis = 1, inplace = True)"
      ],
      "metadata": {
        "id": "yVxZCXupPuMl"
      },
      "execution_count": 288,
      "outputs": []
    },
    {
      "cell_type": "code",
      "source": [
        "df.head()"
      ],
      "metadata": {
        "colab": {
          "base_uri": "https://localhost:8080/",
          "height": 293
        },
        "id": "dMcBjAAWYXO2",
        "outputId": "6a271db6-f5a2-4c1b-c6b4-ebe869ad71b1"
      },
      "execution_count": 289,
      "outputs": [
        {
          "output_type": "execute_result",
          "data": {
            "text/plain": [
              "    sex   age federal_district                                  type_of_city  \\\n",
              "0  male  18.0  north caucasian                                       village   \n",
              "1  male  23.0  north caucasian                                       village   \n",
              "2  male  20.0            volga         city with population of less than 50k   \n",
              "3  male  22.0     northwestern  city with population of 1 million and higher   \n",
              "4  male  21.0         southern  city with population of 1 million and higher   \n",
              "\n",
              "     knows_election_date       will_vote candidate      television_usage  \\\n",
              "0     named correct date        not sure     Putin  several times a week   \n",
              "1     named correct date        not sure     Putin      once half a year   \n",
              "2     named correct date  definitely yes     Putin  several times a week   \n",
              "3  not sure or no answer        not sure  Davankov  several times a week   \n",
              "4     named correct date  definitely yes     Putin        does not watch   \n",
              "\n",
              "       internet_usage                    education     income  \\\n",
              "0  over 4 hours a day  incomplete school education  very high   \n",
              "1  over 4 hours a day                      college  very high   \n",
              "2  over 4 hours a day                      college  very high   \n",
              "3  over 4 hours a day                      college  very high   \n",
              "4  over 4 hours a day              bachelor degree  very high   \n",
              "\n",
              "         employment  \n",
              "0      entrepreneur  \n",
              "1     work for hire  \n",
              "2     work for hire  \n",
              "3        unemployed  \n",
              "4  employed student  "
            ],
            "text/html": [
              "\n",
              "  <div id=\"df-58ed9eed-cc8e-48ab-a5ab-18982f46b78a\" class=\"colab-df-container\">\n",
              "    <div>\n",
              "<style scoped>\n",
              "    .dataframe tbody tr th:only-of-type {\n",
              "        vertical-align: middle;\n",
              "    }\n",
              "\n",
              "    .dataframe tbody tr th {\n",
              "        vertical-align: top;\n",
              "    }\n",
              "\n",
              "    .dataframe thead th {\n",
              "        text-align: right;\n",
              "    }\n",
              "</style>\n",
              "<table border=\"1\" class=\"dataframe\">\n",
              "  <thead>\n",
              "    <tr style=\"text-align: right;\">\n",
              "      <th></th>\n",
              "      <th>sex</th>\n",
              "      <th>age</th>\n",
              "      <th>federal_district</th>\n",
              "      <th>type_of_city</th>\n",
              "      <th>knows_election_date</th>\n",
              "      <th>will_vote</th>\n",
              "      <th>candidate</th>\n",
              "      <th>television_usage</th>\n",
              "      <th>internet_usage</th>\n",
              "      <th>education</th>\n",
              "      <th>income</th>\n",
              "      <th>employment</th>\n",
              "    </tr>\n",
              "  </thead>\n",
              "  <tbody>\n",
              "    <tr>\n",
              "      <th>0</th>\n",
              "      <td>male</td>\n",
              "      <td>18.0</td>\n",
              "      <td>north caucasian</td>\n",
              "      <td>village</td>\n",
              "      <td>named correct date</td>\n",
              "      <td>not sure</td>\n",
              "      <td>Putin</td>\n",
              "      <td>several times a week</td>\n",
              "      <td>over 4 hours a day</td>\n",
              "      <td>incomplete school education</td>\n",
              "      <td>very high</td>\n",
              "      <td>entrepreneur</td>\n",
              "    </tr>\n",
              "    <tr>\n",
              "      <th>1</th>\n",
              "      <td>male</td>\n",
              "      <td>23.0</td>\n",
              "      <td>north caucasian</td>\n",
              "      <td>village</td>\n",
              "      <td>named correct date</td>\n",
              "      <td>not sure</td>\n",
              "      <td>Putin</td>\n",
              "      <td>once half a year</td>\n",
              "      <td>over 4 hours a day</td>\n",
              "      <td>college</td>\n",
              "      <td>very high</td>\n",
              "      <td>work for hire</td>\n",
              "    </tr>\n",
              "    <tr>\n",
              "      <th>2</th>\n",
              "      <td>male</td>\n",
              "      <td>20.0</td>\n",
              "      <td>volga</td>\n",
              "      <td>city with population of less than 50k</td>\n",
              "      <td>named correct date</td>\n",
              "      <td>definitely yes</td>\n",
              "      <td>Putin</td>\n",
              "      <td>several times a week</td>\n",
              "      <td>over 4 hours a day</td>\n",
              "      <td>college</td>\n",
              "      <td>very high</td>\n",
              "      <td>work for hire</td>\n",
              "    </tr>\n",
              "    <tr>\n",
              "      <th>3</th>\n",
              "      <td>male</td>\n",
              "      <td>22.0</td>\n",
              "      <td>northwestern</td>\n",
              "      <td>city with population of 1 million and higher</td>\n",
              "      <td>not sure or no answer</td>\n",
              "      <td>not sure</td>\n",
              "      <td>Davankov</td>\n",
              "      <td>several times a week</td>\n",
              "      <td>over 4 hours a day</td>\n",
              "      <td>college</td>\n",
              "      <td>very high</td>\n",
              "      <td>unemployed</td>\n",
              "    </tr>\n",
              "    <tr>\n",
              "      <th>4</th>\n",
              "      <td>male</td>\n",
              "      <td>21.0</td>\n",
              "      <td>southern</td>\n",
              "      <td>city with population of 1 million and higher</td>\n",
              "      <td>named correct date</td>\n",
              "      <td>definitely yes</td>\n",
              "      <td>Putin</td>\n",
              "      <td>does not watch</td>\n",
              "      <td>over 4 hours a day</td>\n",
              "      <td>bachelor degree</td>\n",
              "      <td>very high</td>\n",
              "      <td>employed student</td>\n",
              "    </tr>\n",
              "  </tbody>\n",
              "</table>\n",
              "</div>\n",
              "    <div class=\"colab-df-buttons\">\n",
              "\n",
              "  <div class=\"colab-df-container\">\n",
              "    <button class=\"colab-df-convert\" onclick=\"convertToInteractive('df-58ed9eed-cc8e-48ab-a5ab-18982f46b78a')\"\n",
              "            title=\"Convert this dataframe to an interactive table.\"\n",
              "            style=\"display:none;\">\n",
              "\n",
              "  <svg xmlns=\"http://www.w3.org/2000/svg\" height=\"24px\" viewBox=\"0 -960 960 960\">\n",
              "    <path d=\"M120-120v-720h720v720H120Zm60-500h600v-160H180v160Zm220 220h160v-160H400v160Zm0 220h160v-160H400v160ZM180-400h160v-160H180v160Zm440 0h160v-160H620v160ZM180-180h160v-160H180v160Zm440 0h160v-160H620v160Z\"/>\n",
              "  </svg>\n",
              "    </button>\n",
              "\n",
              "  <style>\n",
              "    .colab-df-container {\n",
              "      display:flex;\n",
              "      gap: 12px;\n",
              "    }\n",
              "\n",
              "    .colab-df-convert {\n",
              "      background-color: #E8F0FE;\n",
              "      border: none;\n",
              "      border-radius: 50%;\n",
              "      cursor: pointer;\n",
              "      display: none;\n",
              "      fill: #1967D2;\n",
              "      height: 32px;\n",
              "      padding: 0 0 0 0;\n",
              "      width: 32px;\n",
              "    }\n",
              "\n",
              "    .colab-df-convert:hover {\n",
              "      background-color: #E2EBFA;\n",
              "      box-shadow: 0px 1px 2px rgba(60, 64, 67, 0.3), 0px 1px 3px 1px rgba(60, 64, 67, 0.15);\n",
              "      fill: #174EA6;\n",
              "    }\n",
              "\n",
              "    .colab-df-buttons div {\n",
              "      margin-bottom: 4px;\n",
              "    }\n",
              "\n",
              "    [theme=dark] .colab-df-convert {\n",
              "      background-color: #3B4455;\n",
              "      fill: #D2E3FC;\n",
              "    }\n",
              "\n",
              "    [theme=dark] .colab-df-convert:hover {\n",
              "      background-color: #434B5C;\n",
              "      box-shadow: 0px 1px 3px 1px rgba(0, 0, 0, 0.15);\n",
              "      filter: drop-shadow(0px 1px 2px rgba(0, 0, 0, 0.3));\n",
              "      fill: #FFFFFF;\n",
              "    }\n",
              "  </style>\n",
              "\n",
              "    <script>\n",
              "      const buttonEl =\n",
              "        document.querySelector('#df-58ed9eed-cc8e-48ab-a5ab-18982f46b78a button.colab-df-convert');\n",
              "      buttonEl.style.display =\n",
              "        google.colab.kernel.accessAllowed ? 'block' : 'none';\n",
              "\n",
              "      async function convertToInteractive(key) {\n",
              "        const element = document.querySelector('#df-58ed9eed-cc8e-48ab-a5ab-18982f46b78a');\n",
              "        const dataTable =\n",
              "          await google.colab.kernel.invokeFunction('convertToInteractive',\n",
              "                                                    [key], {});\n",
              "        if (!dataTable) return;\n",
              "\n",
              "        const docLinkHtml = 'Like what you see? Visit the ' +\n",
              "          '<a target=\"_blank\" href=https://colab.research.google.com/notebooks/data_table.ipynb>data table notebook</a>'\n",
              "          + ' to learn more about interactive tables.';\n",
              "        element.innerHTML = '';\n",
              "        dataTable['output_type'] = 'display_data';\n",
              "        await google.colab.output.renderOutput(dataTable, element);\n",
              "        const docLink = document.createElement('div');\n",
              "        docLink.innerHTML = docLinkHtml;\n",
              "        element.appendChild(docLink);\n",
              "      }\n",
              "    </script>\n",
              "  </div>\n",
              "\n",
              "\n",
              "<div id=\"df-b3b74304-7202-4dbe-b673-fd5e2380c395\">\n",
              "  <button class=\"colab-df-quickchart\" onclick=\"quickchart('df-b3b74304-7202-4dbe-b673-fd5e2380c395')\"\n",
              "            title=\"Suggest charts\"\n",
              "            style=\"display:none;\">\n",
              "\n",
              "<svg xmlns=\"http://www.w3.org/2000/svg\" height=\"24px\"viewBox=\"0 0 24 24\"\n",
              "     width=\"24px\">\n",
              "    <g>\n",
              "        <path d=\"M19 3H5c-1.1 0-2 .9-2 2v14c0 1.1.9 2 2 2h14c1.1 0 2-.9 2-2V5c0-1.1-.9-2-2-2zM9 17H7v-7h2v7zm4 0h-2V7h2v10zm4 0h-2v-4h2v4z\"/>\n",
              "    </g>\n",
              "</svg>\n",
              "  </button>\n",
              "\n",
              "<style>\n",
              "  .colab-df-quickchart {\n",
              "      --bg-color: #E8F0FE;\n",
              "      --fill-color: #1967D2;\n",
              "      --hover-bg-color: #E2EBFA;\n",
              "      --hover-fill-color: #174EA6;\n",
              "      --disabled-fill-color: #AAA;\n",
              "      --disabled-bg-color: #DDD;\n",
              "  }\n",
              "\n",
              "  [theme=dark] .colab-df-quickchart {\n",
              "      --bg-color: #3B4455;\n",
              "      --fill-color: #D2E3FC;\n",
              "      --hover-bg-color: #434B5C;\n",
              "      --hover-fill-color: #FFFFFF;\n",
              "      --disabled-bg-color: #3B4455;\n",
              "      --disabled-fill-color: #666;\n",
              "  }\n",
              "\n",
              "  .colab-df-quickchart {\n",
              "    background-color: var(--bg-color);\n",
              "    border: none;\n",
              "    border-radius: 50%;\n",
              "    cursor: pointer;\n",
              "    display: none;\n",
              "    fill: var(--fill-color);\n",
              "    height: 32px;\n",
              "    padding: 0;\n",
              "    width: 32px;\n",
              "  }\n",
              "\n",
              "  .colab-df-quickchart:hover {\n",
              "    background-color: var(--hover-bg-color);\n",
              "    box-shadow: 0 1px 2px rgba(60, 64, 67, 0.3), 0 1px 3px 1px rgba(60, 64, 67, 0.15);\n",
              "    fill: var(--button-hover-fill-color);\n",
              "  }\n",
              "\n",
              "  .colab-df-quickchart-complete:disabled,\n",
              "  .colab-df-quickchart-complete:disabled:hover {\n",
              "    background-color: var(--disabled-bg-color);\n",
              "    fill: var(--disabled-fill-color);\n",
              "    box-shadow: none;\n",
              "  }\n",
              "\n",
              "  .colab-df-spinner {\n",
              "    border: 2px solid var(--fill-color);\n",
              "    border-color: transparent;\n",
              "    border-bottom-color: var(--fill-color);\n",
              "    animation:\n",
              "      spin 1s steps(1) infinite;\n",
              "  }\n",
              "\n",
              "  @keyframes spin {\n",
              "    0% {\n",
              "      border-color: transparent;\n",
              "      border-bottom-color: var(--fill-color);\n",
              "      border-left-color: var(--fill-color);\n",
              "    }\n",
              "    20% {\n",
              "      border-color: transparent;\n",
              "      border-left-color: var(--fill-color);\n",
              "      border-top-color: var(--fill-color);\n",
              "    }\n",
              "    30% {\n",
              "      border-color: transparent;\n",
              "      border-left-color: var(--fill-color);\n",
              "      border-top-color: var(--fill-color);\n",
              "      border-right-color: var(--fill-color);\n",
              "    }\n",
              "    40% {\n",
              "      border-color: transparent;\n",
              "      border-right-color: var(--fill-color);\n",
              "      border-top-color: var(--fill-color);\n",
              "    }\n",
              "    60% {\n",
              "      border-color: transparent;\n",
              "      border-right-color: var(--fill-color);\n",
              "    }\n",
              "    80% {\n",
              "      border-color: transparent;\n",
              "      border-right-color: var(--fill-color);\n",
              "      border-bottom-color: var(--fill-color);\n",
              "    }\n",
              "    90% {\n",
              "      border-color: transparent;\n",
              "      border-bottom-color: var(--fill-color);\n",
              "    }\n",
              "  }\n",
              "</style>\n",
              "\n",
              "  <script>\n",
              "    async function quickchart(key) {\n",
              "      const quickchartButtonEl =\n",
              "        document.querySelector('#' + key + ' button');\n",
              "      quickchartButtonEl.disabled = true;  // To prevent multiple clicks.\n",
              "      quickchartButtonEl.classList.add('colab-df-spinner');\n",
              "      try {\n",
              "        const charts = await google.colab.kernel.invokeFunction(\n",
              "            'suggestCharts', [key], {});\n",
              "      } catch (error) {\n",
              "        console.error('Error during call to suggestCharts:', error);\n",
              "      }\n",
              "      quickchartButtonEl.classList.remove('colab-df-spinner');\n",
              "      quickchartButtonEl.classList.add('colab-df-quickchart-complete');\n",
              "    }\n",
              "    (() => {\n",
              "      let quickchartButtonEl =\n",
              "        document.querySelector('#df-b3b74304-7202-4dbe-b673-fd5e2380c395 button');\n",
              "      quickchartButtonEl.style.display =\n",
              "        google.colab.kernel.accessAllowed ? 'block' : 'none';\n",
              "    })();\n",
              "  </script>\n",
              "</div>\n",
              "\n",
              "    </div>\n",
              "  </div>\n"
            ],
            "application/vnd.google.colaboratory.intrinsic+json": {
              "type": "dataframe",
              "variable_name": "df",
              "summary": "{\n  \"name\": \"df\",\n  \"rows\": 1600,\n  \"fields\": [\n    {\n      \"column\": \"sex\",\n      \"properties\": {\n        \"dtype\": \"category\",\n        \"num_unique_values\": 2,\n        \"samples\": [\n          \"female\",\n          \"male\"\n        ],\n        \"semantic_type\": \"\",\n        \"description\": \"\"\n      }\n    },\n    {\n      \"column\": \"age\",\n      \"properties\": {\n        \"dtype\": \"number\",\n        \"std\": 16.901796654315774,\n        \"min\": 18.0,\n        \"max\": 90.0,\n        \"num_unique_values\": 71,\n        \"samples\": [\n          54.0,\n          18.0\n        ],\n        \"semantic_type\": \"\",\n        \"description\": \"\"\n      }\n    },\n    {\n      \"column\": \"federal_district\",\n      \"properties\": {\n        \"dtype\": \"category\",\n        \"num_unique_values\": 8,\n        \"samples\": [\n          \"volga\",\n          \"ural\"\n        ],\n        \"semantic_type\": \"\",\n        \"description\": \"\"\n      }\n    },\n    {\n      \"column\": \"type_of_city\",\n      \"properties\": {\n        \"dtype\": \"category\",\n        \"num_unique_values\": 7,\n        \"samples\": [\n          \"village\",\n          \"city with population of less than 50k\"\n        ],\n        \"semantic_type\": \"\",\n        \"description\": \"\"\n      }\n    },\n    {\n      \"column\": \"knows_election_date\",\n      \"properties\": {\n        \"dtype\": \"category\",\n        \"num_unique_values\": 4,\n        \"samples\": [\n          \"not sure or no answer\",\n          \"named correct year\"\n        ],\n        \"semantic_type\": \"\",\n        \"description\": \"\"\n      }\n    },\n    {\n      \"column\": \"will_vote\",\n      \"properties\": {\n        \"dtype\": \"category\",\n        \"num_unique_values\": 6,\n        \"samples\": [\n          \"not sure\",\n          \"definitely yes\"\n        ],\n        \"semantic_type\": \"\",\n        \"description\": \"\"\n      }\n    },\n    {\n      \"column\": \"candidate\",\n      \"properties\": {\n        \"dtype\": \"category\",\n        \"num_unique_values\": 7,\n        \"samples\": [\n          \"Putin\",\n          \"Davankov\"\n        ],\n        \"semantic_type\": \"\",\n        \"description\": \"\"\n      }\n    },\n    {\n      \"column\": \"television_usage\",\n      \"properties\": {\n        \"dtype\": \"category\",\n        \"num_unique_values\": 6,\n        \"samples\": [\n          \"several times a week\",\n          \"once half a year\"\n        ],\n        \"semantic_type\": \"\",\n        \"description\": \"\"\n      }\n    },\n    {\n      \"column\": \"internet_usage\",\n      \"properties\": {\n        \"dtype\": \"category\",\n        \"num_unique_values\": 6,\n        \"samples\": [\n          \"over 4 hours a day\",\n          \"less than 4 hours a day\"\n        ],\n        \"semantic_type\": \"\",\n        \"description\": \"\"\n      }\n    },\n    {\n      \"column\": \"education\",\n      \"properties\": {\n        \"dtype\": \"category\",\n        \"num_unique_values\": 6,\n        \"samples\": [\n          \"incomplete school education\",\n          \"college\"\n        ],\n        \"semantic_type\": \"\",\n        \"description\": \"\"\n      }\n    },\n    {\n      \"column\": \"income\",\n      \"properties\": {\n        \"dtype\": \"category\",\n        \"num_unique_values\": 6,\n        \"samples\": [\n          \"very high\",\n          \"high\"\n        ],\n        \"semantic_type\": \"\",\n        \"description\": \"\"\n      }\n    },\n    {\n      \"column\": \"employment\",\n      \"properties\": {\n        \"dtype\": \"category\",\n        \"num_unique_values\": 11,\n        \"samples\": [\n          \"unemployed pensioner\",\n          \"entrepreneur\"\n        ],\n        \"semantic_type\": \"\",\n        \"description\": \"\"\n      }\n    }\n  ]\n}"
            }
          },
          "metadata": {},
          "execution_count": 289
        }
      ]
    },
    {
      "cell_type": "code",
      "source": [
        "df.shape"
      ],
      "metadata": {
        "colab": {
          "base_uri": "https://localhost:8080/"
        },
        "id": "48FC3oAjYZD4",
        "outputId": "2fc97237-ddd4-45a6-93c2-35e79214a892"
      },
      "execution_count": 290,
      "outputs": [
        {
          "output_type": "execute_result",
          "data": {
            "text/plain": [
              "(1600, 12)"
            ]
          },
          "metadata": {},
          "execution_count": 290
        }
      ]
    },
    {
      "cell_type": "code",
      "source": [
        "df.columns"
      ],
      "metadata": {
        "colab": {
          "base_uri": "https://localhost:8080/"
        },
        "id": "OM0ZfYXMYi5t",
        "outputId": "0ab68556-892b-4cf0-9b92-c78f9c2e376d"
      },
      "execution_count": 291,
      "outputs": [
        {
          "output_type": "execute_result",
          "data": {
            "text/plain": [
              "Index(['sex', 'age', 'federal_district', 'type_of_city', 'knows_election_date',\n",
              "       'will_vote', 'candidate', 'television_usage', 'internet_usage',\n",
              "       'education', 'income', 'employment'],\n",
              "      dtype='object')"
            ]
          },
          "metadata": {},
          "execution_count": 291
        }
      ]
    },
    {
      "cell_type": "code",
      "source": [
        "categorical_col = [col for col in df.columns if df[col].dtypes == 'object']\n",
        "categorical_col"
      ],
      "metadata": {
        "colab": {
          "base_uri": "https://localhost:8080/"
        },
        "id": "1Ed0-vKB-2Jz",
        "outputId": "4c127204-c1a7-4ef8-8625-c5b1d18400b0"
      },
      "execution_count": 292,
      "outputs": [
        {
          "output_type": "execute_result",
          "data": {
            "text/plain": [
              "['sex',\n",
              " 'federal_district',\n",
              " 'type_of_city',\n",
              " 'knows_election_date',\n",
              " 'will_vote',\n",
              " 'candidate',\n",
              " 'television_usage',\n",
              " 'internet_usage',\n",
              " 'education',\n",
              " 'income',\n",
              " 'employment']"
            ]
          },
          "metadata": {},
          "execution_count": 292
        }
      ]
    },
    {
      "cell_type": "code",
      "source": [
        "for col in categorical_col:\n",
        "  print(f\"Frequency distribution of {col}:\")\n",
        "  print(\"----------------------------------\")\n",
        "  print( df[col].value_counts())\n"
      ],
      "metadata": {
        "colab": {
          "base_uri": "https://localhost:8080/"
        },
        "id": "Wrf8VuQ2a3AW",
        "outputId": "2faac0d8-c371-40b0-e8ad-1e23d67e8396"
      },
      "execution_count": 293,
      "outputs": [
        {
          "output_type": "stream",
          "name": "stdout",
          "text": [
            "Frequency distribution of sex:\n",
            "----------------------------------\n",
            "sex\n",
            "female    843\n",
            "male      757\n",
            "Name: count, dtype: int64\n",
            "Frequency distribution of federal_district:\n",
            "----------------------------------\n",
            "federal_district\n",
            "central            425\n",
            "volga              324\n",
            "siberian           188\n",
            "southern           182\n",
            "northwestern       151\n",
            "ural               134\n",
            "north caucasian    107\n",
            "far eastern         89\n",
            "Name: count, dtype: int64\n",
            "Frequency distribution of type_of_city:\n",
            "----------------------------------\n",
            "type_of_city\n",
            "city with population of 100-500k                391\n",
            "village                                         366\n",
            "city with population of 1 million and higher    307\n",
            "city with population of less than 50k           179\n",
            "city with population of 500-950k                170\n",
            "city with population of 50-100k                 106\n",
            "settlement                                       81\n",
            "Name: count, dtype: int64\n",
            "Frequency distribution of knows_election_date:\n",
            "----------------------------------\n",
            "knows_election_date\n",
            "named correct date       1361\n",
            "not sure or no answer     165\n",
            "named correct year         55\n",
            "wrong answer               19\n",
            "Name: count, dtype: int64\n",
            "Frequency distribution of will_vote:\n",
            "----------------------------------\n",
            "will_vote\n",
            "definitely yes        1062\n",
            "likely yes             218\n",
            "not sure               166\n",
            "definitely no           86\n",
            "likely no               55\n",
            "struggle to answer      13\n",
            "Name: count, dtype: int64\n",
            "Frequency distribution of candidate:\n",
            "----------------------------------\n",
            "candidate\n",
            "Putin                 1128\n",
            "struggle to answer     164\n",
            "will not take part      96\n",
            "Davankov                67\n",
            "Kharitonov              63\n",
            "Slutskiy                55\n",
            "spoilt vote             27\n",
            "Name: count, dtype: int64\n",
            "Frequency distribution of television_usage:\n",
            "----------------------------------\n",
            "television_usage\n",
            "less than 4 hours a day    490\n",
            "over 4 hours a day         436\n",
            "does not watch             332\n",
            "several times a week       204\n",
            "several times a month       76\n",
            "once half a year            62\n",
            "Name: count, dtype: int64\n",
            "Frequency distribution of internet_usage:\n",
            "----------------------------------\n",
            "internet_usage\n",
            "less than 4 hours a day    613\n",
            "over 4 hours a day         576\n",
            "does not use internet      259\n",
            "several times a week       107\n",
            "several times a month       27\n",
            "once half a year            18\n",
            "Name: count, dtype: int64\n",
            "Frequency distribution of education:\n",
            "----------------------------------\n",
            "education\n",
            "college                        690\n",
            "bachelor degree                550\n",
            "school                         181\n",
            "academic degree                 95\n",
            "incomplete school education     80\n",
            "no school education              4\n",
            "Name: count, dtype: int64\n",
            "Frequency distribution of income:\n",
            "----------------------------------\n",
            "income\n",
            "medium         949\n",
            "high           405\n",
            "low            149\n",
            "very high       48\n",
            "very low        34\n",
            "hard to say     15\n",
            "Name: count, dtype: int64\n",
            "Frequency distribution of employment:\n",
            "----------------------------------\n",
            "employment\n",
            "work for hire           535\n",
            "unemployed pensioner    502\n",
            "self-employed           122\n",
            "employed pensioner      120\n",
            "unemployed              101\n",
            "entrepreneur             87\n",
            "parental leave           44\n",
            "employed student         37\n",
            "unemployed student       27\n",
            "hard to say              22\n",
            "refused to answer         3\n",
            "Name: count, dtype: int64\n"
          ]
        }
      ]
    },
    {
      "cell_type": "code",
      "source": [
        "df.columns"
      ],
      "metadata": {
        "colab": {
          "base_uri": "https://localhost:8080/"
        },
        "id": "-lu1bIMqWUuC",
        "outputId": "fe0daf8a-96c4-4576-b6be-3a8c76918926"
      },
      "execution_count": 294,
      "outputs": [
        {
          "output_type": "execute_result",
          "data": {
            "text/plain": [
              "Index(['sex', 'age', 'federal_district', 'type_of_city', 'knows_election_date',\n",
              "       'will_vote', 'candidate', 'television_usage', 'internet_usage',\n",
              "       'education', 'income', 'employment'],\n",
              "      dtype='object')"
            ]
          },
          "metadata": {},
          "execution_count": 294
        }
      ]
    },
    {
      "cell_type": "code",
      "source": [
        "plt.figure(figsize = (15,8))\n",
        "plt.subplot(2,2,1)\n",
        "plt.pie(df['sex'].value_counts().values, labels = df['sex'].value_counts().index, autopct = '%1.2f%%', startangle = 90)\n",
        "plt.title('Distribution of sex')\n",
        "\n",
        "plt.subplot(2,2,2)\n",
        "plt.pie(df['federal_district'].value_counts().values, labels = df['federal_district'].value_counts().index, autopct = '%1.2f%%')\n",
        "plt.title('Distribution of federal district')\n",
        "\n",
        "plt.subplot(2,2,3)\n",
        "plt.pie(df['type_of_city'].value_counts().values, labels = df['type_of_city'].value_counts().index, autopct = '%1.2f%%')\n",
        "plt.title('Distribution of types of city')\n",
        "\n",
        "plt.show()"
      ],
      "metadata": {
        "colab": {
          "base_uri": "https://localhost:8080/",
          "height": 675
        },
        "id": "fxmgiwoDTovO",
        "outputId": "85d227a4-ad5b-4f6d-acc5-8182cba3c7fe"
      },
      "execution_count": 295,
      "outputs": [
        {
          "output_type": "display_data",
          "data": {
            "text/plain": [
              "<Figure size 1500x800 with 3 Axes>"
            ],
            "image/png": "[encoded data removed]"
          },
          "metadata": {}
        }
      ]
    },
    {
      "cell_type": "markdown",
      "source": [
        "### Observations:\n",
        " 1. The dataset comprises 52.69% females and 47.31% males.\n",
        " 2. The majority of the data comes from the Central district, indicating a higher representation compared to other districts.\n",
        " 3. Cities with a population of 100-500k are more prevalent in the dataset compared to other city population categories."
      ],
      "metadata": {
        "id": "R701fvZDrjwR"
      }
    },
    {
      "cell_type": "code",
      "source": [
        "plt.figure(figsize = (20,6))\n",
        "\n",
        "plt.subplot(1,3,1)\n",
        "sns.countplot(df['education'])\n",
        "plt.xticks(rotation = 90)\n",
        "plt.title('Distribution of Education')\n",
        "\n",
        "plt.subplot(1,3,2)\n",
        "sns.countplot(df['income'])\n",
        "plt.xticks(rotation = 90)\n",
        "plt.title('Distribution of Income')\n",
        "\n",
        "plt.subplot(1,3,3)\n",
        "sns.countplot(df['will_vote'])\n",
        "plt.xticks(rotation = 90)\n",
        "plt.title('Distribution of voters will vote')\n",
        "\n",
        "plt.show()"
      ],
      "metadata": {
        "colab": {
          "base_uri": "https://localhost:8080/",
          "height": 464
        },
        "id": "YO0QbRlYzPf7",
        "outputId": "6dd96679-e20d-4c5e-8541-9f6075d54c38"
      },
      "execution_count": 296,
      "outputs": [
        {
          "output_type": "display_data",
          "data": {
            "text/plain": [
              "<Figure size 2000x600 with 3 Axes>"
            ],
            "image/png": "[encoded data removed]"
          },
          "metadata": {}
        }
      ]
    },
    {
      "cell_type": "markdown",
      "source": [
        "### observations:\n",
        "1. The majority of people are from college.\n",
        "2. Most people in the data have a medium income.\n",
        "3. Most people in the data will definitely vote."
      ],
      "metadata": {
        "id": "R4cwXbzVzpJH"
      }
    },
    {
      "cell_type": "code",
      "source": [
        "voter = df[df['will_vote'].isin(['definitely yes'])]"
      ],
      "metadata": {
        "id": "huh5nJ4jtL4h"
      },
      "execution_count": 297,
      "outputs": []
    },
    {
      "cell_type": "code",
      "source": [
        "plt.figure(figsize = (20,6))\n",
        "\n",
        "plt.subplot(1,3,1)\n",
        "sns.countplot(x = 'education', hue = 'will_vote', data = voter)\n",
        "plt.xticks(rotation = 90)\n",
        "\n",
        "plt.subplot(1,3,2)\n",
        "sns.countplot(x = 'income', hue = 'will_vote', data = voter)\n",
        "plt.xticks(rotation = 90)\n",
        "\n",
        "plt.subplot(1,3,3)\n",
        "sns.countplot(x = 'sex', hue = 'will_vote', data = voter)\n",
        "plt.xticks(rotation = 90)\n",
        "plt.show()"
      ],
      "metadata": {
        "colab": {
          "base_uri": "https://localhost:8080/",
          "height": 635
        },
        "id": "GWgx7AFxctXu",
        "outputId": "806ec328-a5af-4223-df60-6f9f636d93af"
      },
      "execution_count": 298,
      "outputs": [
        {
          "output_type": "display_data",
          "data": {
            "text/plain": [
              "<Figure size 2000x600 with 3 Axes>"
            ],
            "image/png": "[encoded data removed]"
          },
          "metadata": {}
        }
      ]
    },
    {
      "cell_type": "markdown",
      "source": [
        "### Observations:\n",
        " 1. Maximum votes will come from female.\n",
        " 2. Maximum votes will come from college and bachlor degree.\n",
        "Maximum votes will come from medium income"
      ],
      "metadata": {
        "id": "DarnbvTlypkt"
      }
    },
    {
      "cell_type": "code",
      "source": [
        "df.age.unique()"
      ],
      "metadata": {
        "colab": {
          "base_uri": "https://localhost:8080/"
        },
        "id": "K1q_Vx0CTy2T",
        "outputId": "3e3dcd16-bbc8-4db8-d1fc-61ca2ebf3f78"
      },
      "execution_count": 299,
      "outputs": [
        {
          "output_type": "execute_result",
          "data": {
            "text/plain": [
              "array([18., 23., 20., 22., 21., 27., 37., 43., 39., 36., 49., 60., 44.,\n",
              "       61., 67., 29., 47., 32., 45., 35., 53., 71., 54., 55., 48., 66.,\n",
              "       56., 68., 69., 33., 76., 77., 70., 86., 90., 75., 80., 24., 19.,\n",
              "       25., 28., 31., 26., 30., 38., 40., 41., 52., 50., 51., 46., 63.,\n",
              "       34., 42., 65., 73., 74., 72., 59., 57., 58., 78., 79., 62., 64.,\n",
              "       82., 84., 85., 87., 83., 81.])"
            ]
          },
          "metadata": {},
          "execution_count": 299
        }
      ]
    },
    {
      "cell_type": "code",
      "source": [
        "sns.histplot(df['age'], bins = 20, kde = True, color = 'red')"
      ],
      "metadata": {
        "colab": {
          "base_uri": "https://localhost:8080/",
          "height": 466
        },
        "id": "qtC0te-ZURO6",
        "outputId": "b1f661b4-b838-4dc2-d35f-38e4b6ac7073"
      },
      "execution_count": 300,
      "outputs": [
        {
          "output_type": "execute_result",
          "data": {
            "text/plain": [
              "<Axes: xlabel='age', ylabel='Count'>"
            ]
          },
          "metadata": {},
          "execution_count": 300
        },
        {
          "output_type": "display_data",
          "data": {
            "text/plain": [
              "<Figure size 640x480 with 1 Axes>"
            ],
            "image/png": "[encoded data removed]"
          },
          "metadata": {}
        }
      ]
    },
    {
      "cell_type": "code",
      "source": [
        "plt.figure(figsize = (10,6))\n",
        "sns.countplot(x = df['federal_district'], hue = df['will_vote'])\n",
        "plt.xticks(rotation = 90)\n",
        "plt.show()"
      ],
      "metadata": {
        "colab": {
          "base_uri": "https://localhost:8080/",
          "height": 639
        },
        "id": "iQozt9CaWc4W",
        "outputId": "45d13e45-52f7-43b1-8dc4-14148132d72b"
      },
      "execution_count": 301,
      "outputs": [
        {
          "output_type": "display_data",
          "data": {
            "text/plain": [
              "<Figure size 1000x600 with 1 Axes>"
            ],
            "image/png": "[encoded data removed]"
          },
          "metadata": {}
        }
      ]
    },
    {
      "cell_type": "markdown",
      "source": [
        "### Observations:\n",
        "Based on the current data, it can be inferred that the highest number of votes will likely come from the Central district."
      ],
      "metadata": {
        "id": "xPFoAJmPXcqR"
      }
    },
    {
      "cell_type": "code",
      "source": [
        "plt.figure(figsize = (15,8))\n",
        "sns.boxplot(x = df['will_vote'], y = df['age'],palette=['red','green','blue','yellow','orange', 'purple'])"
      ],
      "metadata": {
        "colab": {
          "base_uri": "https://localhost:8080/",
          "height": 713
        },
        "id": "Z8rBgcgtbj1O",
        "outputId": "d0a3ed10-d6f3-460f-c9f3-91eb9e2dffd8"
      },
      "execution_count": 302,
      "outputs": [
        {
          "output_type": "execute_result",
          "data": {
            "text/plain": [
              "<Axes: xlabel='will_vote', ylabel='age'>"
            ]
          },
          "metadata": {},
          "execution_count": 302
        },
        {
          "output_type": "display_data",
          "data": {
            "text/plain": [
              "<Figure size 1500x800 with 1 Axes>"
            ],
            "image/png": "[encoded data removed]"
          },
          "metadata": {}
        }
      ]
    },
    {
      "cell_type": "markdown",
      "source": [
        "### Observations:\n",
        "Votes will definitely come from individuals with an average age around 55."
      ],
      "metadata": {
        "id": "kuCjbG7_YWCW"
      }
    },
    {
      "cell_type": "code",
      "source": [
        "from scipy.stats import chi2_contingency\n",
        "\n",
        "col = ['type_of_city','education','income','federal_district']\n",
        "\n",
        "for i in col:\n",
        "  observed_value = pd.crosstab(df[i], df['will_vote'])\n",
        "  chi_stats, pvalue, dof, expected_value = chi2_contingency(observed_value)\n",
        "  if pvalue < 0.05:\n",
        "    print(f\"There is association between {i} and votes\")\n",
        "  else:\n",
        "    print(f\"There is no association between {i} and votes\")"
      ],
      "metadata": {
        "colab": {
          "base_uri": "https://localhost:8080/"
        },
        "id": "J5hc9ek6PVN2",
        "outputId": "101cd682-4c9c-4923-a2c8-52bd4b5f370e"
      },
      "execution_count": 303,
      "outputs": [
        {
          "output_type": "stream",
          "name": "stdout",
          "text": [
            "There is no association between type_of_city and votes\n",
            "There is association between education and votes\n",
            "There is association between income and votes\n",
            "There is no association between federal_district and votes\n"
          ]
        }
      ]
    },
    {
      "cell_type": "markdown",
      "source": [
        "###Observations:\n",
        "There is a association between education and votes, income and votes"
      ],
      "metadata": {
        "id": "HNT0-Ef1UShi"
      }
    },
    {
      "cell_type": "code",
      "source": [],
      "metadata": {
        "id": "TqkzVSG47TJQ"
      },
      "execution_count": 303,
      "outputs": []
    }
  ]
}